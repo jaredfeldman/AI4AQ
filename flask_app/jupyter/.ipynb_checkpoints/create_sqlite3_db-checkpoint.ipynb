{
 "cells": [
  {
   "cell_type": "code",
   "execution_count": 2,
   "id": "474aca7a",
   "metadata": {},
   "outputs": [],
   "source": [
    "import pandas as pd\n",
    "import sqlite3\n",
    "\n",
    "\n"
   ]
  },
  {
   "cell_type": "markdown",
   "id": "48becfb4",
   "metadata": {},
   "source": [
    "## building database for Flask app"
   ]
  },
  {
   "cell_type": "code",
   "execution_count": 21,
   "id": "63f31293",
   "metadata": {},
   "outputs": [],
   "source": [
    "df = pd.read_csv(\"../static/data/slc_daily_pm2.5_pm10_2016to2024.csv\")\n",
    "df = df.sort_values(['date'], ascending = False)\n",
    "latest_sensor_df = df.groupby(['sensor_id']).first().reset_index()\n",
    "latest_sensor_df = latest_sensor_df[['sensor_id','latitude','longitude','pm2.5_atm']]"
   ]
  },
  {
   "cell_type": "code",
   "execution_count": 23,
   "id": "8a1d6cdd",
   "metadata": {},
   "outputs": [],
   "source": [
    "# Define the SQLite database name\n",
    "database_name = '../static/data/test_sensor.db'\n",
    "\n",
    "# Connect to the SQLite database (or create it if it doesn't exist)\n",
    "conn = sqlite3.connect(database_name)\n",
    "\n",
    "# Convert the DataFrame to a SQL table within the database\n",
    "# Replace 'data_table' with your desired table name\n",
    "# Correct usage with a string table name\n",
    "latest_sensor_df.to_sql('latest_sensor_data', conn, if_exists='replace', index=False)\n",
    "\n",
    "\n",
    "# Close the connection to the database\n",
    "conn.close()"
   ]
  },
  {
   "cell_type": "code",
   "execution_count": null,
   "id": "a9f9c3ab",
   "metadata": {},
   "outputs": [],
   "source": []
  }
 ],
 "metadata": {
  "kernelspec": {
   "display_name": "Python (capstonev)",
   "language": "python",
   "name": "capstonev"
  },
  "language_info": {
   "codemirror_mode": {
    "name": "ipython",
    "version": 3
   },
   "file_extension": ".py",
   "mimetype": "text/x-python",
   "name": "python",
   "nbconvert_exporter": "python",
   "pygments_lexer": "ipython3",
   "version": "3.10.13"
  }
 },
 "nbformat": 4,
 "nbformat_minor": 5
}
