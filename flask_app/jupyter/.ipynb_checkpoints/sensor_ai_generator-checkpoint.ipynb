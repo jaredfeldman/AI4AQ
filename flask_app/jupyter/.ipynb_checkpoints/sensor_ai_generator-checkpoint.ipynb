{
 "cells": [
  {
   "cell_type": "markdown",
   "id": "7c4b792a",
   "metadata": {},
   "source": [
    "# steps\n",
    "\n",
    "1) decide on sensor locations and get lat and long\n",
    "\n",
    "2) use geopandas to identify nearyby weights\n",
    "\n",
    "3) Pull data\n",
    "\n",
    "4) train model"
   ]
  },
  {
   "cell_type": "code",
   "execution_count": null,
   "id": "d4d5205e",
   "metadata": {},
   "outputs": [],
   "source": []
  }
 ],
 "metadata": {
  "kernelspec": {
   "display_name": "Python (capstonev)",
   "language": "python",
   "name": "capstonev"
  },
  "language_info": {
   "codemirror_mode": {
    "name": "ipython",
    "version": 3
   },
   "file_extension": ".py",
   "mimetype": "text/x-python",
   "name": "python",
   "nbconvert_exporter": "python",
   "pygments_lexer": "ipython3",
   "version": "3.10.13"
  }
 },
 "nbformat": 4,
 "nbformat_minor": 5
}
