{
 "cells": [
  {
   "cell_type": "markdown",
   "id": "7c4b792a",
   "metadata": {},
   "source": [
    "# steps\n",
    "\n",
    "1) decide on sensor locations and get lat and long\n",
    "\n",
    "2) use geopandas to identify nearyby weights\n",
    "\n",
    "3) Pull data\n",
    "\n",
    "4) train model"
   ]
  },
  {
   "cell_type": "code",
   "execution_count": 1,
   "id": "d4d5205e",
   "metadata": {},
   "outputs": [],
   "source": [
    "# Imports\n",
    "\n",
    "import numpy as np\n",
    "import pandas as pd\n",
    "import os \n",
    "import requests\n",
    "import json"
   ]
  },
  {
   "cell_type": "markdown",
   "id": "042e19d8",
   "metadata": {},
   "source": [
    "# Data Pull"
   ]
  },
  {
   "cell_type": "markdown",
   "id": "8e91a7f2",
   "metadata": {},
   "source": [
    "### Census"
   ]
  },
  {
   "cell_type": "code",
   "execution_count": 2,
   "id": "fa66bec4",
   "metadata": {},
   "outputs": [],
   "source": [
    "k = \"5e27dc113ca0300dabe2cbb8018489d6fcaf59fa\"\n",
    "URL = f\"https://api.census.gov/data/2017/ecnlocmfg?get=NAME,NAICS2017_LABEL,ESTAB&for=county:011&in=state:49&NAICS2017&key={k}\"\n",
    "response = requests.get(URL)\n",
    "response.json()"
   ]
  },
  {
   "cell_type": "code",
   "execution_count": null,
   "id": "1bbce987",
   "metadata": {},
   "outputs": [],
   "source": []
  }
 ],
 "metadata": {
  "kernelspec": {
   "display_name": "Python (capstonev)",
   "language": "python",
   "name": "capstonev"
  },
  "language_info": {
   "codemirror_mode": {
    "name": "ipython",
    "version": 3
   },
   "file_extension": ".py",
   "mimetype": "text/x-python",
   "name": "python",
   "nbconvert_exporter": "python",
   "pygments_lexer": "ipython3",
   "version": "3.10.13"
  }
 },
 "nbformat": 4,
 "nbformat_minor": 5
}
