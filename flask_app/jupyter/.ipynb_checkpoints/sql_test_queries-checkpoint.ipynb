{
 "cells": [
  {
   "cell_type": "code",
   "execution_count": 1,
   "id": "11fe86fb",
   "metadata": {},
   "outputs": [],
   "source": [
    "import pandas as pd\n",
    "import sqlite3\n"
   ]
  },
  {
   "cell_type": "code",
   "execution_count": 26,
   "id": "faaab355",
   "metadata": {},
   "outputs": [],
   "source": [
    "begin_date = '9/1/20'\n",
    "end_date = '10/1/20'"
   ]
  },
  {
   "cell_type": "code",
   "execution_count": 44,
   "id": "023dc96e",
   "metadata": {},
   "outputs": [],
   "source": [
    "def return_table(begin_date,end_date):\n",
    "    #Set up sqlite\n",
    "    connection = sqlite3.connect('../static/data/sensors_readings_2016_present.db')\n",
    "    \n",
    "    #Assemble Query\n",
    "    sql_query_main_1 = \"select sensor_id, latitude, longitude, altitude, avg(pm2) as avg_pm2, avg(pm10) as avg_pm10 \"\n",
    "    sql_query_main_2 = \"from sensors_readings\"\n",
    "    sql_query_group = \" group by sensor_id, latitude, longitude, altitude\"\n",
    "    sql_query_date = f\"where date between {'2023-09-09'} and {'2023-10-09'}\"\n",
    "\n",
    "    sql_query = sql_query_main_1 + sql_query_main_2 + sql_query_group\n",
    "    df=pd.read_sql_query(sql_query,connection)\n",
    "    connection.close()\n",
    "\n",
    "    return df"
   ]
  },
  {
   "cell_type": "code",
   "execution_count": 45,
   "id": "db49884e",
   "metadata": {},
   "outputs": [],
   "source": [
    "df = return_table(begin_date,end_date)"
   ]
  },
  {
   "cell_type": "code",
   "execution_count": 47,
   "id": "e2c40a95",
   "metadata": {},
   "outputs": [],
   "source": [
    "connection = sqlite3.connect('../static/data/sensors_readings_2016_present.db')\n",
    "sql_query_main_1 = \"select * from sensors_readings \"\n",
    "\n",
    "sql_query = sql_query_main_1\n",
    "\n",
    "df = pd.read_sql_query(sql_query,connection)"
   ]
  },
  {
   "cell_type": "code",
   "execution_count": 48,
   "id": "f933cc06",
   "metadata": {},
   "outputs": [],
   "source": [
    "connection.close()"
   ]
  },
  {
   "cell_type": "code",
   "execution_count": 51,
   "id": "8805262c",
   "metadata": {},
   "outputs": [
    {
     "data": {
      "text/plain": [
       "2911"
      ]
     },
     "execution_count": 51,
     "metadata": {},
     "output_type": "execute_result"
    }
   ],
   "source": [
    "len(df.date.unique())"
   ]
  },
  {
   "cell_type": "code",
   "execution_count": 56,
   "id": "81721bfd",
   "metadata": {},
   "outputs": [],
   "source": [
    "# Convert the date column to datetime\n",
    "df['date'] = pd.to_datetime(df['date'], format='%m/%d/%y')\n",
    "\n",
    "# Now you can sort by this column\n",
    "df_sorted = df.sort_values(by='date')"
   ]
  },
  {
   "cell_type": "code",
   "execution_count": 60,
   "id": "5fe105d8",
   "metadata": {},
   "outputs": [],
   "source": [
    "df_sorted.groupby('date').count().reset_index()[['date']].to_csv('date_range.csv', index=False)"
   ]
  },
  {
   "cell_type": "code",
   "execution_count": null,
   "id": "1fea4e7d",
   "metadata": {},
   "outputs": [],
   "source": []
  }
 ],
 "metadata": {
  "kernelspec": {
   "display_name": "Python (capstonev)",
   "language": "python",
   "name": "capstonev"
  },
  "language_info": {
   "codemirror_mode": {
    "name": "ipython",
    "version": 3
   },
   "file_extension": ".py",
   "mimetype": "text/x-python",
   "name": "python",
   "nbconvert_exporter": "python",
   "pygments_lexer": "ipython3",
   "version": "3.10.13"
  }
 },
 "nbformat": 4,
 "nbformat_minor": 5
}
