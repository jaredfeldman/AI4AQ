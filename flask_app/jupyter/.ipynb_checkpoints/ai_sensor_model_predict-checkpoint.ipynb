{
 "cells": [
  {
   "cell_type": "code",
   "execution_count": 1,
   "id": "d4d5205e",
   "metadata": {},
   "outputs": [],
   "source": [
    "# Imports\n",
    "import geopandas as gpd\n",
    "import numpy as np\n",
    "import pandas as pd\n",
    "import os \n",
    "import requests\n",
    "import json\n",
    "import datetime\n",
    "import time\n",
    "import random\n",
    "from sklearn.model_selection import train_test_split\n",
    "from sklearn.compose import ColumnTransformer\n",
    "from sklearn.preprocessing import StandardScaler, OneHotEncoder\n",
    "from sklearn.model_selection import train_test_split\n",
    "from sklearn.pipeline import Pipeline\n",
    "from tensorflow import keras\n",
    "from sklearn.model_selection import train_test_split\n",
    "from sklearn import preprocessing\n",
    "from sklearn.preprocessing import StandardScaler, MinMaxScaler, LabelEncoder\n",
    "import matplotlib.pyplot as plt\n",
    "import tensorflow as tf\n",
    "from tensorflow.keras.layers import Input, Dense\n",
    "from tensorflow.keras.models import Model\n",
    "from tensorflow.keras.optimizers import Adam"
   ]
  },
  {
   "cell_type": "code",
   "execution_count": 117,
   "id": "83ac73c4",
   "metadata": {},
   "outputs": [],
   "source": [
    "from tensorflow.keras.models import load_model\n",
    "import pandas as pd\n",
    "import sqlite3\n",
    "from datetime import datetime, timedelta\n",
    "from joblib import load\n",
    "import numpy as np"
   ]
  },
  {
   "cell_type": "code",
   "execution_count": 15,
   "id": "8d743ff2",
   "metadata": {},
   "outputs": [],
   "source": []
  },
  {
   "cell_type": "code",
   "execution_count": 8,
   "id": "1c280f37",
   "metadata": {},
   "outputs": [
    {
     "name": "stderr",
     "output_type": "stream",
     "text": [
      "WARNING:absl:Compiled the loaded model, but the compiled metrics have yet to be built. `model.compile_metrics` will be empty until you train or evaluate the model.\n"
     ]
    }
   ],
   "source": [
    "# Load Model\n",
    "model = load_model('../static/data/rnn_model_1.h5')\n"
   ]
  },
  {
   "cell_type": "code",
   "execution_count": 19,
   "id": "48b28f34",
   "metadata": {},
   "outputs": [],
   "source": [
    "# Convert strings to datetime objects\n",
    "begin_date_obj = datetime.strptime(input_date, \"%Y-%m-%d\")\n",
    "end_date_obj = begin_date_obj + timedelta(days=1)\n",
    "\n",
    "# Convert back to string\n",
    "end_date = end_date_obj.strftime(\"%Y-%m-%d\")"
   ]
  },
  {
   "cell_type": "code",
   "execution_count": 32,
   "id": "fae9bb0e",
   "metadata": {},
   "outputs": [
    {
     "data": {
      "text/html": [
       "<div>\n",
       "<style scoped>\n",
       "    .dataframe tbody tr th:only-of-type {\n",
       "        vertical-align: middle;\n",
       "    }\n",
       "\n",
       "    .dataframe tbody tr th {\n",
       "        vertical-align: top;\n",
       "    }\n",
       "\n",
       "    .dataframe thead th {\n",
       "        text-align: right;\n",
       "    }\n",
       "</style>\n",
       "<table border=\"1\" class=\"dataframe\">\n",
       "  <thead>\n",
       "    <tr style=\"text-align: right;\">\n",
       "      <th></th>\n",
       "      <th>sensor_id</th>\n",
       "      <th>pm2</th>\n",
       "    </tr>\n",
       "  </thead>\n",
       "  <tbody>\n",
       "    <tr>\n",
       "      <th>0</th>\n",
       "      <td>18321</td>\n",
       "      <td>2.6435</td>\n",
       "    </tr>\n",
       "    <tr>\n",
       "      <th>1</th>\n",
       "      <td>6356</td>\n",
       "      <td>0.2815</td>\n",
       "    </tr>\n",
       "    <tr>\n",
       "      <th>2</th>\n",
       "      <td>18259</td>\n",
       "      <td>1.5640</td>\n",
       "    </tr>\n",
       "    <tr>\n",
       "      <th>3</th>\n",
       "      <td>6298</td>\n",
       "      <td>1.2870</td>\n",
       "    </tr>\n",
       "    <tr>\n",
       "      <th>4</th>\n",
       "      <td>5742</td>\n",
       "      <td>2.0365</td>\n",
       "    </tr>\n",
       "    <tr>\n",
       "      <th>...</th>\n",
       "      <td>...</td>\n",
       "      <td>...</td>\n",
       "    </tr>\n",
       "    <tr>\n",
       "      <th>222</th>\n",
       "      <td>62211</td>\n",
       "      <td>0.9895</td>\n",
       "    </tr>\n",
       "    <tr>\n",
       "      <th>223</th>\n",
       "      <td>31013</td>\n",
       "      <td>2.6375</td>\n",
       "    </tr>\n",
       "    <tr>\n",
       "      <th>224</th>\n",
       "      <td>18375</td>\n",
       "      <td>1.1360</td>\n",
       "    </tr>\n",
       "    <tr>\n",
       "      <th>225</th>\n",
       "      <td>6050</td>\n",
       "      <td>1.2960</td>\n",
       "    </tr>\n",
       "    <tr>\n",
       "      <th>226</th>\n",
       "      <td>13283</td>\n",
       "      <td>0.7125</td>\n",
       "    </tr>\n",
       "  </tbody>\n",
       "</table>\n",
       "<p>227 rows × 2 columns</p>\n",
       "</div>"
      ],
      "text/plain": [
       "     sensor_id     pm2\n",
       "0        18321  2.6435\n",
       "1         6356  0.2815\n",
       "2        18259  1.5640\n",
       "3         6298  1.2870\n",
       "4         5742  2.0365\n",
       "..         ...     ...\n",
       "222      62211  0.9895\n",
       "223      31013  2.6375\n",
       "224      18375  1.1360\n",
       "225       6050  1.2960\n",
       "226      13283  0.7125\n",
       "\n",
       "[227 rows x 2 columns]"
      ]
     },
     "execution_count": 32,
     "metadata": {},
     "output_type": "execute_result"
    }
   ],
   "source": [
    "# Set up sqlite\n",
    "connection = sqlite3.connect('../static/data/sensors_readings_2016_present.db')\n",
    "\n",
    "# Assemble Query\n",
    "sql_query = \"\"\"\n",
    "SELECT sensor_id, pm2\n",
    "FROM sensors_readings\n",
    "WHERE date(date) BETWEEN ? AND ?\n",
    "\"\"\"\n",
    "\n",
    "# Execute the query\n",
    "df = pd.read_sql_query(sql_query, connection, params=(input_date, end_date))\n",
    "\n",
    "connection.close()\n",
    "df"
   ]
  },
  {
   "cell_type": "code",
   "execution_count": 33,
   "id": "4050a654",
   "metadata": {},
   "outputs": [
    {
     "data": {
      "text/html": [
       "<div>\n",
       "<style scoped>\n",
       "    .dataframe tbody tr th:only-of-type {\n",
       "        vertical-align: middle;\n",
       "    }\n",
       "\n",
       "    .dataframe tbody tr th {\n",
       "        vertical-align: top;\n",
       "    }\n",
       "\n",
       "    .dataframe thead th {\n",
       "        text-align: right;\n",
       "    }\n",
       "</style>\n",
       "<table border=\"1\" class=\"dataframe\">\n",
       "  <thead>\n",
       "    <tr style=\"text-align: right;\">\n",
       "      <th></th>\n",
       "      <th>sensor_id</th>\n",
       "      <th>pm2</th>\n",
       "      <th>category</th>\n",
       "      <th>county</th>\n",
       "    </tr>\n",
       "  </thead>\n",
       "  <tbody>\n",
       "    <tr>\n",
       "      <th>0</th>\n",
       "      <td>18321</td>\n",
       "      <td>2.6435</td>\n",
       "      <td>green</td>\n",
       "      <td>Salt Lake County</td>\n",
       "    </tr>\n",
       "    <tr>\n",
       "      <th>1</th>\n",
       "      <td>6356</td>\n",
       "      <td>0.2815</td>\n",
       "      <td>orange</td>\n",
       "      <td>Salt Lake County</td>\n",
       "    </tr>\n",
       "    <tr>\n",
       "      <th>2</th>\n",
       "      <td>18259</td>\n",
       "      <td>1.5640</td>\n",
       "      <td>green</td>\n",
       "      <td>Salt Lake County</td>\n",
       "    </tr>\n",
       "    <tr>\n",
       "      <th>3</th>\n",
       "      <td>6298</td>\n",
       "      <td>1.2870</td>\n",
       "      <td>green</td>\n",
       "      <td>Davis County</td>\n",
       "    </tr>\n",
       "    <tr>\n",
       "      <th>4</th>\n",
       "      <td>5742</td>\n",
       "      <td>2.0365</td>\n",
       "      <td>blue</td>\n",
       "      <td>Salt Lake County</td>\n",
       "    </tr>\n",
       "  </tbody>\n",
       "</table>\n",
       "</div>"
      ],
      "text/plain": [
       "   sensor_id     pm2 category            county\n",
       "0      18321  2.6435    green  Salt Lake County\n",
       "1       6356  0.2815   orange  Salt Lake County\n",
       "2      18259  1.5640    green  Salt Lake County\n",
       "3       6298  1.2870    green      Davis County\n",
       "4       5742  2.0365     blue  Salt Lake County"
      ]
     },
     "execution_count": 33,
     "metadata": {},
     "output_type": "execute_result"
    }
   ],
   "source": [
    "# merge with sensor cateogires\n",
    "df_cat = pd.read_csv('../static/data/sensor_categories.csv')\n",
    "df = df.merge(df_cat, on = 'sensor_id')\n",
    "df.head()"
   ]
  },
  {
   "cell_type": "code",
   "execution_count": 34,
   "id": "d793645c",
   "metadata": {},
   "outputs": [],
   "source": [
    "df = df[['county','pm2']]"
   ]
  },
  {
   "cell_type": "code",
   "execution_count": 36,
   "id": "3aa418e3",
   "metadata": {},
   "outputs": [],
   "source": [
    "df = df.groupby('county').mean()"
   ]
  },
  {
   "cell_type": "code",
   "execution_count": 83,
   "id": "c3b2d074",
   "metadata": {},
   "outputs": [],
   "source": [
    "df.reset_index(inplace = True)"
   ]
  },
  {
   "cell_type": "code",
   "execution_count": 57,
   "id": "1b88a173",
   "metadata": {},
   "outputs": [],
   "source": [
    "# Prep Input\n",
    "# Predict Inputs\n",
    "\n",
    "input_lng = -111.88080951152304\n",
    "input_lat = 41.08032456289652\n",
    "input_date = '2020-11-18'\n",
    "predict_input = pd.DataFrame({'longitude':input_lng,'latitude':input_lat,'date':input_date}, index = [0])"
   ]
  },
  {
   "cell_type": "code",
   "execution_count": 87,
   "id": "f910a468",
   "metadata": {},
   "outputs": [],
   "source": [
    "url = '../static/data/centroid_prep.csv'\n",
    "predict_input = predict_input.merge(pd.read_csv(url), on = ['latitude','longitude'])\n"
   ]
  },
  {
   "cell_type": "code",
   "execution_count": 90,
   "id": "7713ce79",
   "metadata": {},
   "outputs": [],
   "source": [
    "row = predict_input.iloc[0]  # Access the first row\n",
    "\n",
    "# Get the column names of the last three columns where the value is True\n",
    "true_column = row.index[-3:][row.iloc[-3:] == True]\n",
    "\n",
    "# Print the column names\n",
    "predict_input['avg_pm2'] = df.loc[df.county == list(true_column)[0].split('_')[1]].pm2.values[0]\n"
   ]
  },
  {
   "cell_type": "code",
   "execution_count": 103,
   "id": "f22d75c7",
   "metadata": {},
   "outputs": [],
   "source": [
    "predict_input.columns\n",
    "predict_input = predict_input[['longitude', 'latitude', 'date','category_blue', 'category_green',\n",
    "       'category_orange', 'category_red', 'county_Davis County',\n",
    "       'county_Salt Lake County', 'county_Weber County', 'avg_pm2']]"
   ]
  },
  {
   "cell_type": "code",
   "execution_count": 104,
   "id": "d8e73a8a",
   "metadata": {},
   "outputs": [
    {
     "name": "stderr",
     "output_type": "stream",
     "text": [
      "/var/folders/kn/v0dr_8xn1qj15xgwlhdyfzph0000gn/T/ipykernel_81024/1492544555.py:3: SettingWithCopyWarning: \n",
      "A value is trying to be set on a copy of a slice from a DataFrame.\n",
      "Try using .loc[row_indexer,col_indexer] = value instead\n",
      "\n",
      "See the caveats in the documentation: https://pandas.pydata.org/pandas-docs/stable/user_guide/indexing.html#returning-a-view-versus-a-copy\n",
      "  predict_input['month'] = begin_date_obj.month\n"
     ]
    }
   ],
   "source": [
    "\n",
    "# pd.to_datetime(predict_input['date'], format='%Y/%m/%d')\n",
    "# predict_input.date.dt.month\n",
    "predict_input['month'] = begin_date_obj.month"
   ]
  },
  {
   "cell_type": "code",
   "execution_count": 110,
   "id": "257a781f",
   "metadata": {},
   "outputs": [
    {
     "name": "stderr",
     "output_type": "stream",
     "text": [
      "/var/folders/kn/v0dr_8xn1qj15xgwlhdyfzph0000gn/T/ipykernel_81024/1034643952.py:1: SettingWithCopyWarning: \n",
      "A value is trying to be set on a copy of a slice from a DataFrame.\n",
      "Try using .loc[row_indexer,col_indexer] = value instead\n",
      "\n",
      "See the caveats in the documentation: https://pandas.pydata.org/pandas-docs/stable/user_guide/indexing.html#returning-a-view-versus-a-copy\n",
      "  predict_input['month_1'] = False if begin_date_obj.month != 1 else True\n",
      "/var/folders/kn/v0dr_8xn1qj15xgwlhdyfzph0000gn/T/ipykernel_81024/1034643952.py:2: SettingWithCopyWarning: \n",
      "A value is trying to be set on a copy of a slice from a DataFrame.\n",
      "Try using .loc[row_indexer,col_indexer] = value instead\n",
      "\n",
      "See the caveats in the documentation: https://pandas.pydata.org/pandas-docs/stable/user_guide/indexing.html#returning-a-view-versus-a-copy\n",
      "  predict_input['month_2'] = False if begin_date_obj.month != 2 else True\n",
      "/var/folders/kn/v0dr_8xn1qj15xgwlhdyfzph0000gn/T/ipykernel_81024/1034643952.py:3: SettingWithCopyWarning: \n",
      "A value is trying to be set on a copy of a slice from a DataFrame.\n",
      "Try using .loc[row_indexer,col_indexer] = value instead\n",
      "\n",
      "See the caveats in the documentation: https://pandas.pydata.org/pandas-docs/stable/user_guide/indexing.html#returning-a-view-versus-a-copy\n",
      "  predict_input['month_3'] = False if begin_date_obj.month != 3 else True\n",
      "/var/folders/kn/v0dr_8xn1qj15xgwlhdyfzph0000gn/T/ipykernel_81024/1034643952.py:4: SettingWithCopyWarning: \n",
      "A value is trying to be set on a copy of a slice from a DataFrame.\n",
      "Try using .loc[row_indexer,col_indexer] = value instead\n",
      "\n",
      "See the caveats in the documentation: https://pandas.pydata.org/pandas-docs/stable/user_guide/indexing.html#returning-a-view-versus-a-copy\n",
      "  predict_input['month_4'] = False if begin_date_obj.month != 4 else True\n",
      "/var/folders/kn/v0dr_8xn1qj15xgwlhdyfzph0000gn/T/ipykernel_81024/1034643952.py:5: SettingWithCopyWarning: \n",
      "A value is trying to be set on a copy of a slice from a DataFrame.\n",
      "Try using .loc[row_indexer,col_indexer] = value instead\n",
      "\n",
      "See the caveats in the documentation: https://pandas.pydata.org/pandas-docs/stable/user_guide/indexing.html#returning-a-view-versus-a-copy\n",
      "  predict_input['month_5'] = False if begin_date_obj.month != 5 else True\n",
      "/var/folders/kn/v0dr_8xn1qj15xgwlhdyfzph0000gn/T/ipykernel_81024/1034643952.py:6: SettingWithCopyWarning: \n",
      "A value is trying to be set on a copy of a slice from a DataFrame.\n",
      "Try using .loc[row_indexer,col_indexer] = value instead\n",
      "\n",
      "See the caveats in the documentation: https://pandas.pydata.org/pandas-docs/stable/user_guide/indexing.html#returning-a-view-versus-a-copy\n",
      "  predict_input['month_6'] = False if begin_date_obj.month != 6 else True\n",
      "/var/folders/kn/v0dr_8xn1qj15xgwlhdyfzph0000gn/T/ipykernel_81024/1034643952.py:7: SettingWithCopyWarning: \n",
      "A value is trying to be set on a copy of a slice from a DataFrame.\n",
      "Try using .loc[row_indexer,col_indexer] = value instead\n",
      "\n",
      "See the caveats in the documentation: https://pandas.pydata.org/pandas-docs/stable/user_guide/indexing.html#returning-a-view-versus-a-copy\n",
      "  predict_input['month_7'] = False if begin_date_obj.month != 7 else True\n",
      "/var/folders/kn/v0dr_8xn1qj15xgwlhdyfzph0000gn/T/ipykernel_81024/1034643952.py:8: SettingWithCopyWarning: \n",
      "A value is trying to be set on a copy of a slice from a DataFrame.\n",
      "Try using .loc[row_indexer,col_indexer] = value instead\n",
      "\n",
      "See the caveats in the documentation: https://pandas.pydata.org/pandas-docs/stable/user_guide/indexing.html#returning-a-view-versus-a-copy\n",
      "  predict_input['month_8'] = False if begin_date_obj.month != 8 else True\n",
      "/var/folders/kn/v0dr_8xn1qj15xgwlhdyfzph0000gn/T/ipykernel_81024/1034643952.py:9: SettingWithCopyWarning: \n",
      "A value is trying to be set on a copy of a slice from a DataFrame.\n",
      "Try using .loc[row_indexer,col_indexer] = value instead\n",
      "\n",
      "See the caveats in the documentation: https://pandas.pydata.org/pandas-docs/stable/user_guide/indexing.html#returning-a-view-versus-a-copy\n",
      "  predict_input['month_9'] = False if begin_date_obj.month != 9 else True\n",
      "/var/folders/kn/v0dr_8xn1qj15xgwlhdyfzph0000gn/T/ipykernel_81024/1034643952.py:10: SettingWithCopyWarning: \n",
      "A value is trying to be set on a copy of a slice from a DataFrame.\n",
      "Try using .loc[row_indexer,col_indexer] = value instead\n",
      "\n",
      "See the caveats in the documentation: https://pandas.pydata.org/pandas-docs/stable/user_guide/indexing.html#returning-a-view-versus-a-copy\n",
      "  predict_input['month_10'] = False if begin_date_obj.month != 10 else True\n",
      "/var/folders/kn/v0dr_8xn1qj15xgwlhdyfzph0000gn/T/ipykernel_81024/1034643952.py:11: SettingWithCopyWarning: \n",
      "A value is trying to be set on a copy of a slice from a DataFrame.\n",
      "Try using .loc[row_indexer,col_indexer] = value instead\n",
      "\n",
      "See the caveats in the documentation: https://pandas.pydata.org/pandas-docs/stable/user_guide/indexing.html#returning-a-view-versus-a-copy\n",
      "  predict_input['month_11'] = False if begin_date_obj.month != 11 else True\n",
      "/var/folders/kn/v0dr_8xn1qj15xgwlhdyfzph0000gn/T/ipykernel_81024/1034643952.py:12: SettingWithCopyWarning: \n",
      "A value is trying to be set on a copy of a slice from a DataFrame.\n",
      "Try using .loc[row_indexer,col_indexer] = value instead\n",
      "\n",
      "See the caveats in the documentation: https://pandas.pydata.org/pandas-docs/stable/user_guide/indexing.html#returning-a-view-versus-a-copy\n",
      "  predict_input['month_12'] = False if begin_date_obj.month != 12 else True\n"
     ]
    }
   ],
   "source": [
    "\n",
    "predict_input['month_1'] = False if begin_date_obj.month != 1 else True\n",
    "predict_input['month_2'] = False if begin_date_obj.month != 2 else True\n",
    "predict_input['month_3'] = False if begin_date_obj.month != 3 else True\n",
    "predict_input['month_4'] = False if begin_date_obj.month != 4 else True\n",
    "predict_input['month_5'] = False if begin_date_obj.month != 5 else True\n",
    "predict_input['month_6'] = False if begin_date_obj.month != 6 else True\n",
    "predict_input['month_7'] = False if begin_date_obj.month != 7 else True\n",
    "predict_input['month_8'] = False if begin_date_obj.month != 8 else True\n",
    "predict_input['month_9'] = False if begin_date_obj.month != 9 else True\n",
    "predict_input['month_10'] = False if begin_date_obj.month != 10 else True\n",
    "predict_input['month_11'] = False if begin_date_obj.month != 11 else True\n",
    "predict_input['month_12'] = False if begin_date_obj.month != 12 else True\n",
    "                       "
   ]
  },
  {
   "cell_type": "code",
   "execution_count": 111,
   "id": "683707a5",
   "metadata": {},
   "outputs": [
    {
     "data": {
      "text/html": [
       "<div>\n",
       "<style scoped>\n",
       "    .dataframe tbody tr th:only-of-type {\n",
       "        vertical-align: middle;\n",
       "    }\n",
       "\n",
       "    .dataframe tbody tr th {\n",
       "        vertical-align: top;\n",
       "    }\n",
       "\n",
       "    .dataframe thead th {\n",
       "        text-align: right;\n",
       "    }\n",
       "</style>\n",
       "<table border=\"1\" class=\"dataframe\">\n",
       "  <thead>\n",
       "    <tr style=\"text-align: right;\">\n",
       "      <th></th>\n",
       "      <th>longitude</th>\n",
       "      <th>latitude</th>\n",
       "      <th>date</th>\n",
       "      <th>category_blue</th>\n",
       "      <th>category_green</th>\n",
       "      <th>category_orange</th>\n",
       "      <th>category_red</th>\n",
       "      <th>county_Davis County</th>\n",
       "      <th>county_Salt Lake County</th>\n",
       "      <th>county_Weber County</th>\n",
       "      <th>...</th>\n",
       "      <th>month_3</th>\n",
       "      <th>month_4</th>\n",
       "      <th>month_5</th>\n",
       "      <th>month_6</th>\n",
       "      <th>month_7</th>\n",
       "      <th>month_8</th>\n",
       "      <th>month_9</th>\n",
       "      <th>month_10</th>\n",
       "      <th>month_11</th>\n",
       "      <th>month_12</th>\n",
       "    </tr>\n",
       "  </thead>\n",
       "  <tbody>\n",
       "    <tr>\n",
       "      <th>0</th>\n",
       "      <td>-111.88081</td>\n",
       "      <td>41.080325</td>\n",
       "      <td>2020-11-18</td>\n",
       "      <td>True</td>\n",
       "      <td>False</td>\n",
       "      <td>False</td>\n",
       "      <td>False</td>\n",
       "      <td>True</td>\n",
       "      <td>False</td>\n",
       "      <td>False</td>\n",
       "      <td>...</td>\n",
       "      <td>False</td>\n",
       "      <td>False</td>\n",
       "      <td>False</td>\n",
       "      <td>False</td>\n",
       "      <td>False</td>\n",
       "      <td>False</td>\n",
       "      <td>False</td>\n",
       "      <td>False</td>\n",
       "      <td>True</td>\n",
       "      <td>False</td>\n",
       "    </tr>\n",
       "  </tbody>\n",
       "</table>\n",
       "<p>1 rows × 24 columns</p>\n",
       "</div>"
      ],
      "text/plain": [
       "   longitude   latitude        date  category_blue  category_green  \\\n",
       "0 -111.88081  41.080325  2020-11-18           True           False   \n",
       "\n",
       "   category_orange  category_red  county_Davis County  \\\n",
       "0            False         False                 True   \n",
       "\n",
       "   county_Salt Lake County  county_Weber County  ...  month_3  month_4  \\\n",
       "0                    False                False  ...    False    False   \n",
       "\n",
       "   month_5  month_6  month_7  month_8  month_9  month_10  month_11  month_12  \n",
       "0    False    False    False    False    False     False      True     False  \n",
       "\n",
       "[1 rows x 24 columns]"
      ]
     },
     "execution_count": 111,
     "metadata": {},
     "output_type": "execute_result"
    }
   ],
   "source": [
    "predict_input"
   ]
  },
  {
   "cell_type": "code",
   "execution_count": 112,
   "id": "109b8194",
   "metadata": {},
   "outputs": [],
   "source": [
    "# Load the preprocessor\n",
    "preprocessor = load('../static/data/preprocessor.joblib')\n",
    "\n",
    "# Now you can transform new data using the loaded preprocessor\n",
    "X_new_transformed = preprocessor.transform(predict_input)\n"
   ]
  },
  {
   "cell_type": "code",
   "execution_count": 114,
   "id": "85465899",
   "metadata": {},
   "outputs": [
    {
     "name": "stdout",
     "output_type": "stream",
     "text": [
      "\u001b[1m1/1\u001b[0m \u001b[32m━━━━━━━━━━━━━━━━━━━━\u001b[0m\u001b[37m\u001b[0m \u001b[1m0s\u001b[0m 29ms/step\n"
     ]
    }
   ],
   "source": [
    "prediction = model.predict(X_new_transformed)"
   ]
  },
  {
   "cell_type": "code",
   "execution_count": 122,
   "id": "ab932f84",
   "metadata": {},
   "outputs": [
    {
     "data": {
      "text/plain": [
       "array([1.], dtype=float32)"
      ]
     },
     "execution_count": 122,
     "metadata": {},
     "output_type": "execute_result"
    }
   ],
   "source": [
    "np.round(np.expm1(prediction)[0])\n"
   ]
  },
  {
   "cell_type": "code",
   "execution_count": null,
   "id": "2f480833",
   "metadata": {},
   "outputs": [],
   "source": [
    "\n",
    "        pm2 = np.round(np.expm1(prediction)[0])\n",
    "        \n",
    "        # Ensure the input_value is shaped correctly\n",
    "        input_value = np.array([[pm2], [pm10]])  # Shape (1, 2)\n",
    "        \n",
    "        # Predict and round the prediction\n",
    "        prediction = model.predict(input_value)\n",
    "        prediction = np.round(prediction).flatten().tolist()  # Flatten and convert to list\n",
    "        \n",
    "        # Return the prediction as a JSON response\n",
    "        return jsonify(prediction)\n",
    "    except Exception as e:\n",
    "        return jsonify({\"error\": str(e)}), 500"
   ]
  },
  {
   "cell_type": "code",
   "execution_count": null,
   "id": "8cf3fe27",
   "metadata": {},
   "outputs": [],
   "source": []
  }
 ],
 "metadata": {
  "kernelspec": {
   "display_name": "Python (capstonev)",
   "language": "python",
   "name": "capstonev"
  },
  "language_info": {
   "codemirror_mode": {
    "name": "ipython",
    "version": 3
   },
   "file_extension": ".py",
   "mimetype": "text/x-python",
   "name": "python",
   "nbconvert_exporter": "python",
   "pygments_lexer": "ipython3",
   "version": "3.10.13"
  }
 },
 "nbformat": 4,
 "nbformat_minor": 5
}
