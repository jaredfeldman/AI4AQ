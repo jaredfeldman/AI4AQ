{
 "cells": [
  {
   "cell_type": "markdown",
   "id": "95ca66bf",
   "metadata": {},
   "source": [
    "# Census and Utah Gov"
   ]
  },
  {
   "cell_type": "markdown",
   "id": "09c108a5",
   "metadata": {},
   "source": [
    "Salt Lake City data - I may build a separate model for the city\n",
    "https://gis-slcgov.opendata.arcgis.com/"
   ]
  },
  {
   "cell_type": "code",
   "execution_count": 35,
   "id": "6851efe7",
   "metadata": {},
   "outputs": [],
   "source": [
    "import numpy as np\n",
    "import pandas as pd\n",
    "import os \n",
    "import requests\n",
    "import json"
   ]
  },
  {
   "cell_type": "code",
   "execution_count": 45,
   "id": "1ae9c484",
   "metadata": {},
   "outputs": [],
   "source": [
    "k = \"774f9f3dce6687bf9c87914c0f6ba79e61e779d0\"\n",
    "URL = f\"https://api.census.gov/data/2017/ecnlocmfg?get=NAME,NAICS2017_LABEL,ESTAB&for=county:011&in=state:49&NAICS2017&key={k}\"\n"
   ]
  },
  {
   "cell_type": "code",
   "execution_count": 46,
   "id": "2c60230f",
   "metadata": {},
   "outputs": [],
   "source": [
    "response = requests.get(URL)\n",
    "#response = requests.request(\"GET\",URL)"
   ]
  },
  {
   "cell_type": "raw",
   "id": "ad0cfa6d",
   "metadata": {},
   "source": [
    "print(response.status_code)\n"
   ]
  },
  {
   "cell_type": "code",
   "execution_count": 47,
   "id": "1be1bb0b",
   "metadata": {},
   "outputs": [],
   "source": [
    "response.raise_for_status()"
   ]
  },
  {
   "cell_type": "code",
   "execution_count": null,
   "id": "494e7aed",
   "metadata": {},
   "outputs": [],
   "source": []
  }
 ],
 "metadata": {
  "kernelspec": {
   "display_name": "Python (capstonev)",
   "language": "python",
   "name": "capstonev"
  },
  "language_info": {
   "codemirror_mode": {
    "name": "ipython",
    "version": 3
   },
   "file_extension": ".py",
   "mimetype": "text/x-python",
   "name": "python",
   "nbconvert_exporter": "python",
   "pygments_lexer": "ipython3",
   "version": "3.10.13"
  }
 },
 "nbformat": 4,
 "nbformat_minor": 5
}
