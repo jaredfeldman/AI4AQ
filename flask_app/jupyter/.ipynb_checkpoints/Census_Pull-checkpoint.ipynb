{
 "cells": [
  {
   "cell_type": "markdown",
   "id": "85aa0d22",
   "metadata": {},
   "source": [
    "# Census and Utah Gov"
   ]
  },
  {
   "cell_type": "markdown",
   "id": "6ff97ddf",
   "metadata": {},
   "source": [
    "Salt Lake City data - I may build a separate model for the city\n",
    "https://gis-slcgov.opendata.arcgis.com/"
   ]
  },
  {
   "cell_type": "code",
   "execution_count": 1,
   "id": "078c4d32",
   "metadata": {},
   "outputs": [],
   "source": [
    "import numpy as np\n",
    "import pandas as pd\n",
    "import os \n",
    "import requests\n",
    "import json"
   ]
  },
  {
   "cell_type": "code",
   "execution_count": 8,
   "id": "679fabec",
   "metadata": {},
   "outputs": [],
   "source": [
    "k = \"\"\n",
    "URL = f\"https://api.census.gov/data/2017/ecnlocmfg?get=NAME,NAICS2017_LABEL,ESTAB&for=county:011&in=state:49&NAICS2017&key={k}\"\n"
   ]
  },
  {
   "cell_type": "code",
   "execution_count": 9,
   "id": "d80731f9",
   "metadata": {},
   "outputs": [],
   "source": [
    "response = requests.get(URL)\n",
    "#response = requests.request(\"GET\",URL)"
   ]
  },
  {
   "cell_type": "raw",
   "id": "2b3ff781",
   "metadata": {},
   "source": [
    "print(response.status_code)\n"
   ]
  },
  {
   "cell_type": "code",
   "execution_count": 10,
   "id": "2f4b7159",
   "metadata": {},
   "outputs": [],
   "source": [
    "response.raise_for_status()"
   ]
  },
  {
   "cell_type": "code",
   "execution_count": 11,
   "id": "4afec5c2",
   "metadata": {},
   "outputs": [
    {
     "data": {
      "text/plain": [
       "requests.models.Response"
      ]
     },
     "execution_count": 11,
     "metadata": {},
     "output_type": "execute_result"
    }
   ],
   "source": [
    "type(response)"
   ]
  },
  {
   "cell_type": "code",
   "execution_count": 12,
   "id": "32ce7ae3",
   "metadata": {},
   "outputs": [
    {
     "data": {
      "text/plain": [
       "200"
      ]
     },
     "execution_count": 12,
     "metadata": {},
     "output_type": "execute_result"
    }
   ],
   "source": [
    "response.status_code"
   ]
  },
  {
   "cell_type": "code",
   "execution_count": 13,
   "id": "5584bdda",
   "metadata": {},
   "outputs": [
    {
     "name": "stdout",
     "output_type": "stream",
     "text": [
      "[['NAME', 'NAICS2017_LABEL', 'ESTAB', 'NAICS2017', 'state', 'county'], ['Davis County, Utah', 'Manufacturing', '269', '31-33', '49', '011'], ['Davis County, Utah', 'Food manufacturing', '0', '311', '49', '011'], ['Davis County, Utah', 'Textile product mills', '0', '314', '49', '011'], ['Davis County, Utah', 'Apparel manufacturing', '3', '315', '49', '011'], ['Davis County, Utah', 'Wood product manufacturing', '13', '321', '49', '011'], ['Davis County, Utah', 'Paper manufacturing', '0', '322', '49', '011'], ['Davis County, Utah', 'Printing and related support activities', '26', '323', '49', '011'], ['Davis County, Utah', 'Petroleum and coal products manufacturing', '0', '324', '49', '011'], ['Davis County, Utah', 'Chemical manufacturing', '15', '325', '49', '011'], ['Davis County, Utah', 'Plastics and rubber products manufacturing', '15', '326', '49', '011'], ['Davis County, Utah', 'Computer and electronic product manufacturing', '0', '334', '49', '011'], ['Davis County, Utah', 'Nonmetallic mineral product manufacturing', '11', '327', '49', '011'], ['Davis County, Utah', 'Fabricated metal product manufacturing', '58', '332', '49', '011'], ['Davis County, Utah', 'Machinery manufacturing', '0', '333', '49', '011'], ['Davis County, Utah', 'Electrical equipment, appliance, and component manufacturing', '0', '335', '49', '011'], ['Davis County, Utah', 'Miscellaneous manufacturing', '31', '339', '49', '011'], ['Davis County, Utah', 'Transportation equipment manufacturing', '0', '336', '49', '011'], ['Davis County, Utah', 'Furniture and related product manufacturing', '0', '337', '49', '011']]\n"
     ]
    }
   ],
   "source": [
    "print(response.json())"
   ]
  },
  {
   "cell_type": "code",
   "execution_count": null,
   "id": "ecb6d412",
   "metadata": {},
   "outputs": [],
   "source": []
  }
 ],
 "metadata": {
  "kernelspec": {
   "display_name": "Python (capstonev)",
   "language": "python",
   "name": "capstonev"
  },
  "language_info": {
   "codemirror_mode": {
    "name": "ipython",
    "version": 3
   },
   "file_extension": ".py",
   "mimetype": "text/x-python",
   "name": "python",
   "nbconvert_exporter": "python",
   "pygments_lexer": "ipython3",
   "version": "3.10.13"
  }
 },
 "nbformat": 4,
 "nbformat_minor": 5
}
