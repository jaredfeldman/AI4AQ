{
 "cells": [
  {
   "cell_type": "code",
   "execution_count": 1,
   "id": "d4d5205e",
   "metadata": {},
   "outputs": [],
   "source": [
    "# Imports\n",
    "import geopandas as gpd\n",
    "import numpy as np\n",
    "import pandas as pd\n",
    "import os \n",
    "import requests\n",
    "import json\n",
    "import datetime\n",
    "import time\n",
    "import random\n",
    "from sklearn.model_selection import train_test_split\n",
    "from sklearn.compose import ColumnTransformer\n",
    "from sklearn.preprocessing import StandardScaler, OneHotEncoder\n",
    "from sklearn.model_selection import train_test_split\n",
    "from sklearn.pipeline import Pipeline\n",
    "from tensorflow import keras\n",
    "from sklearn.model_selection import train_test_split\n",
    "from sklearn import preprocessing\n",
    "from sklearn.preprocessing import StandardScaler, MinMaxScaler, LabelEncoder\n",
    "import matplotlib.pyplot as plt\n",
    "import tensorflow as tf\n",
    "from tensorflow.keras.layers import Input, Dense\n",
    "from tensorflow.keras.models import Model\n",
    "from tensorflow.keras.optimizers import Adam"
   ]
  },
  {
   "cell_type": "markdown",
   "id": "ae9f1ec6",
   "metadata": {},
   "source": [
    "### Purple Air"
   ]
  },
  {
   "cell_type": "code",
   "execution_count": 2,
   "id": "a40ec690",
   "metadata": {},
   "outputs": [],
   "source": [
    "df_purple = pd.read_csv(\"../static/data/slc_daily_pm2.5_pm10_2016to2024.csv\")\n",
    "df_purple = df_purple.sort_values(['date'], ascending = False)"
   ]
  },
  {
   "cell_type": "code",
   "execution_count": 3,
   "id": "b18a2c08",
   "metadata": {},
   "outputs": [
    {
     "data": {
      "text/html": [
       "<div>\n",
       "<style scoped>\n",
       "    .dataframe tbody tr th:only-of-type {\n",
       "        vertical-align: middle;\n",
       "    }\n",
       "\n",
       "    .dataframe tbody tr th {\n",
       "        vertical-align: top;\n",
       "    }\n",
       "\n",
       "    .dataframe thead th {\n",
       "        text-align: right;\n",
       "    }\n",
       "</style>\n",
       "<table border=\"1\" class=\"dataframe\">\n",
       "  <thead>\n",
       "    <tr style=\"text-align: right;\">\n",
       "      <th></th>\n",
       "      <th>sensor_id</th>\n",
       "      <th>latitude</th>\n",
       "      <th>longitude</th>\n",
       "      <th>date</th>\n",
       "      <th>altitude</th>\n",
       "      <th>pm2</th>\n",
       "      <th>pm10</th>\n",
       "      <th>month</th>\n",
       "    </tr>\n",
       "  </thead>\n",
       "  <tbody>\n",
       "    <tr>\n",
       "      <th>232809</th>\n",
       "      <td>83563</td>\n",
       "      <td>41.153950</td>\n",
       "      <td>-111.937020</td>\n",
       "      <td>2023-09-09</td>\n",
       "      <td>4806</td>\n",
       "      <td>2.0930</td>\n",
       "      <td>2.3085</td>\n",
       "      <td>9</td>\n",
       "    </tr>\n",
       "    <tr>\n",
       "      <th>243366</th>\n",
       "      <td>122011</td>\n",
       "      <td>40.639800</td>\n",
       "      <td>-111.822510</td>\n",
       "      <td>2023-09-09</td>\n",
       "      <td>4499</td>\n",
       "      <td>0.4095</td>\n",
       "      <td>0.5130</td>\n",
       "      <td>9</td>\n",
       "    </tr>\n",
       "    <tr>\n",
       "      <th>241621</th>\n",
       "      <td>114467</td>\n",
       "      <td>41.063160</td>\n",
       "      <td>-111.903320</td>\n",
       "      <td>2023-09-09</td>\n",
       "      <td>5104</td>\n",
       "      <td>0.1460</td>\n",
       "      <td>0.2130</td>\n",
       "      <td>9</td>\n",
       "    </tr>\n",
       "    <tr>\n",
       "      <th>225969</th>\n",
       "      <td>44157</td>\n",
       "      <td>40.574078</td>\n",
       "      <td>-111.958800</td>\n",
       "      <td>2023-09-09</td>\n",
       "      <td>4533</td>\n",
       "      <td>10.7160</td>\n",
       "      <td>12.9255</td>\n",
       "      <td>9</td>\n",
       "    </tr>\n",
       "    <tr>\n",
       "      <th>217892</th>\n",
       "      <td>30967</td>\n",
       "      <td>41.066500</td>\n",
       "      <td>-111.912445</td>\n",
       "      <td>2023-09-09</td>\n",
       "      <td>4774</td>\n",
       "      <td>3.4305</td>\n",
       "      <td>3.9045</td>\n",
       "      <td>9</td>\n",
       "    </tr>\n",
       "  </tbody>\n",
       "</table>\n",
       "</div>"
      ],
      "text/plain": [
       "        sensor_id   latitude   longitude       date  altitude      pm2  \\\n",
       "232809      83563  41.153950 -111.937020 2023-09-09      4806   2.0930   \n",
       "243366     122011  40.639800 -111.822510 2023-09-09      4499   0.4095   \n",
       "241621     114467  41.063160 -111.903320 2023-09-09      5104   0.1460   \n",
       "225969      44157  40.574078 -111.958800 2023-09-09      4533  10.7160   \n",
       "217892      30967  41.066500 -111.912445 2023-09-09      4774   3.4305   \n",
       "\n",
       "           pm10  month  \n",
       "232809   2.3085      9  \n",
       "243366   0.5130      9  \n",
       "241621   0.2130      9  \n",
       "225969  12.9255      9  \n",
       "217892   3.9045      9  "
      ]
     },
     "execution_count": 3,
     "metadata": {},
     "output_type": "execute_result"
    }
   ],
   "source": [
    "df_purple = df_purple[['sensor_id','latitude','longitude','date','altitude','pm2.5_atm','pm10.0_atm']]\n",
    "df_purple.rename(columns = {'pm2.5_atm':'pm2','pm10.0_atm':'pm10'},inplace=True)\n",
    "df_purple['date'] = pd.to_datetime(df_purple['date'], format='%m/%d/%y')\n",
    "df_purple['month'] = df_purple['date'].dt.month\n",
    "df_purple.head()\n"
   ]
  },
  {
   "cell_type": "code",
   "execution_count": 4,
   "id": "73cc320b",
   "metadata": {},
   "outputs": [],
   "source": [
    "# Convert df_purple to a GeoDataFrame\n",
    "gdf_purple = gpd.GeoDataFrame(\n",
    "    df_purple, \n",
    "    geometry=gpd.points_from_xy(df_purple.longitude, df_purple.latitude),\n",
    "    crs=\"EPSG:4326\" # Assuming the coordinates are in WGS84\n",
    ")"
   ]
  },
  {
   "cell_type": "code",
   "execution_count": 5,
   "id": "79f3a80f",
   "metadata": {},
   "outputs": [],
   "source": [
    "# Load Dataset for Join\n",
    "geojson_gdf = gpd.read_file('../static/data/converted_geojson_data.geojson')"
   ]
  },
  {
   "cell_type": "code",
   "execution_count": 6,
   "id": "d9d91535",
   "metadata": {},
   "outputs": [
    {
     "name": "stderr",
     "output_type": "stream",
     "text": [
      "/Users/juliakauffmann/miniforge3/envs/capstonev/lib/python3.10/site-packages/IPython/core/interactiveshell.py:3517: FutureWarning: The `op` parameter is deprecated and will be removed in a future release. Please use the `predicate` parameter instead.\n",
      "  if await self.run_code(code, result, async_=asy):\n"
     ]
    }
   ],
   "source": [
    "# Perform a spatial join\n",
    "joined_gdf = gpd.sjoin(gdf_purple, geojson_gdf, how=\"inner\", op=\"within\")"
   ]
  },
  {
   "cell_type": "code",
   "execution_count": 7,
   "id": "0fbeab3c",
   "metadata": {},
   "outputs": [
    {
     "data": {
      "text/plain": [
       "Index(['sensor_id', 'latitude', 'longitude', 'date', 'altitude', 'pm2', 'pm10',\n",
       "       'month', 'geometry', 'index_right', 'OBJECTID', 'GEOID', 'Source',\n",
       "       'geoname', 'Stusab', 'Countyname', 'State', 'County', 'Tract', 'BLKGRP',\n",
       "       'Low', 'Lowmod', 'Lmmi', 'Lowmoduniv', 'Lowmod_pct', 'uclowmod',\n",
       "       'ucLowmod_p', 'MOE_LOWMOD_PCT', 'MOE_UCLOWMOD_PCT', 'Shape__Area',\n",
       "       'Shape__Length', 'category'],\n",
       "      dtype='object')"
      ]
     },
     "execution_count": 7,
     "metadata": {},
     "output_type": "execute_result"
    }
   ],
   "source": [
    "joined_gdf.columns"
   ]
  },
  {
   "cell_type": "code",
   "execution_count": 8,
   "id": "c8d95dc8",
   "metadata": {},
   "outputs": [],
   "source": [
    "joined_gdf = joined_gdf[['sensor_id','latitude','longitude','date','Countyname','category','month','pm2','pm10']]\n",
    "joined_gdf = joined_gdf.rename(columns = {'Countyname':'county'})"
   ]
  },
  {
   "cell_type": "code",
   "execution_count": 9,
   "id": "d6d61c59",
   "metadata": {},
   "outputs": [
    {
     "data": {
      "text/html": [
       "<div>\n",
       "<style scoped>\n",
       "    .dataframe tbody tr th:only-of-type {\n",
       "        vertical-align: middle;\n",
       "    }\n",
       "\n",
       "    .dataframe tbody tr th {\n",
       "        vertical-align: top;\n",
       "    }\n",
       "\n",
       "    .dataframe thead th {\n",
       "        text-align: right;\n",
       "    }\n",
       "</style>\n",
       "<table border=\"1\" class=\"dataframe\">\n",
       "  <thead>\n",
       "    <tr style=\"text-align: right;\">\n",
       "      <th></th>\n",
       "      <th>county</th>\n",
       "      <th>date</th>\n",
       "      <th>avg_pm2</th>\n",
       "      <th>avg_pm10</th>\n",
       "    </tr>\n",
       "  </thead>\n",
       "  <tbody>\n",
       "    <tr>\n",
       "      <th>0</th>\n",
       "      <td>Davis County</td>\n",
       "      <td>2017-11-18</td>\n",
       "      <td>59.099000</td>\n",
       "      <td>83.647500</td>\n",
       "    </tr>\n",
       "    <tr>\n",
       "      <th>1</th>\n",
       "      <td>Davis County</td>\n",
       "      <td>2017-12-14</td>\n",
       "      <td>55.391500</td>\n",
       "      <td>82.216500</td>\n",
       "    </tr>\n",
       "    <tr>\n",
       "      <th>2</th>\n",
       "      <td>Davis County</td>\n",
       "      <td>2017-12-17</td>\n",
       "      <td>3.371500</td>\n",
       "      <td>3.737000</td>\n",
       "    </tr>\n",
       "    <tr>\n",
       "      <th>3</th>\n",
       "      <td>Davis County</td>\n",
       "      <td>2017-12-18</td>\n",
       "      <td>14.419500</td>\n",
       "      <td>15.746000</td>\n",
       "    </tr>\n",
       "    <tr>\n",
       "      <th>4</th>\n",
       "      <td>Davis County</td>\n",
       "      <td>2017-12-19</td>\n",
       "      <td>18.354000</td>\n",
       "      <td>20.184500</td>\n",
       "    </tr>\n",
       "    <tr>\n",
       "      <th>...</th>\n",
       "      <td>...</td>\n",
       "      <td>...</td>\n",
       "      <td>...</td>\n",
       "      <td>...</td>\n",
       "    </tr>\n",
       "    <tr>\n",
       "      <th>7787</th>\n",
       "      <td>Weber County</td>\n",
       "      <td>2024-03-04</td>\n",
       "      <td>133.610400</td>\n",
       "      <td>134.006167</td>\n",
       "    </tr>\n",
       "    <tr>\n",
       "      <th>7788</th>\n",
       "      <td>Weber County</td>\n",
       "      <td>2024-03-05</td>\n",
       "      <td>127.340900</td>\n",
       "      <td>127.750733</td>\n",
       "    </tr>\n",
       "    <tr>\n",
       "      <th>7789</th>\n",
       "      <td>Weber County</td>\n",
       "      <td>2024-03-06</td>\n",
       "      <td>117.259433</td>\n",
       "      <td>117.676000</td>\n",
       "    </tr>\n",
       "    <tr>\n",
       "      <th>7790</th>\n",
       "      <td>Weber County</td>\n",
       "      <td>2024-03-07</td>\n",
       "      <td>120.556000</td>\n",
       "      <td>121.088933</td>\n",
       "    </tr>\n",
       "    <tr>\n",
       "      <th>7791</th>\n",
       "      <td>Weber County</td>\n",
       "      <td>2024-03-08</td>\n",
       "      <td>134.427467</td>\n",
       "      <td>135.163400</td>\n",
       "    </tr>\n",
       "  </tbody>\n",
       "</table>\n",
       "<p>7792 rows × 4 columns</p>\n",
       "</div>"
      ],
      "text/plain": [
       "            county       date     avg_pm2    avg_pm10\n",
       "0     Davis County 2017-11-18   59.099000   83.647500\n",
       "1     Davis County 2017-12-14   55.391500   82.216500\n",
       "2     Davis County 2017-12-17    3.371500    3.737000\n",
       "3     Davis County 2017-12-18   14.419500   15.746000\n",
       "4     Davis County 2017-12-19   18.354000   20.184500\n",
       "...            ...        ...         ...         ...\n",
       "7787  Weber County 2024-03-04  133.610400  134.006167\n",
       "7788  Weber County 2024-03-05  127.340900  127.750733\n",
       "7789  Weber County 2024-03-06  117.259433  117.676000\n",
       "7790  Weber County 2024-03-07  120.556000  121.088933\n",
       "7791  Weber County 2024-03-08  134.427467  135.163400\n",
       "\n",
       "[7792 rows x 4 columns]"
      ]
     },
     "execution_count": 9,
     "metadata": {},
     "output_type": "execute_result"
    }
   ],
   "source": [
    "avg_pm = joined_gdf.groupby(['county', 'date'])[['pm2', 'pm10']].mean().reset_index()\n",
    "avg_pm.columns = ['county', 'date', 'avg_pm2', 'avg_pm10']\n",
    "avg_pm"
   ]
  },
  {
   "cell_type": "code",
   "execution_count": 10,
   "id": "43f66ea2",
   "metadata": {},
   "outputs": [],
   "source": [
    "# Ensure that the 'date' column in both DataFrames are of the same type, preferably datetime64\n",
    "joined_gdf['date'] = pd.to_datetime(joined_gdf['date'])\n",
    "avg_pm['date'] = pd.to_datetime(avg_pm['date'])\n",
    "\n",
    "# Merging the average values back to the original GeoDataFrame\n",
    "joined_gdf_finalx = joined_gdf.merge(avg_pm, on=['county', 'date'], how='left')\n"
   ]
  },
  {
   "cell_type": "code",
   "execution_count": 11,
   "id": "212de550",
   "metadata": {},
   "outputs": [
    {
     "data": {
      "text/plain": [
       "array([41.15395 , 40.6398  , 41.06316 , 40.574078, 41.0665  , 40.779472,\n",
       "       40.78668 , 40.675575, 40.691936, 40.942867, 40.744972, 41.224422,\n",
       "       41.07105 , 40.735126, 41.088875, 40.637936, 40.701218, 40.710594,\n",
       "       40.665512, 40.68405 , 40.68914 , 40.68262 , 40.65524 , 40.67845 ,\n",
       "       40.733875, 40.769947, 40.77445 , 41.06097 , 40.908325, 40.90276 ,\n",
       "       41.321125, 41.100193, 40.689068, 40.792244, 40.710438, 40.84942 ,\n",
       "       40.694   , 41.02446 , 40.84746 , 41.087585, 40.68852 , 40.709763,\n",
       "       40.62173 , 40.57964 , 40.703495, 40.609367, 40.766937, 40.67708 ,\n",
       "       40.656242, 40.629227, 40.74412 , 40.71572 , 40.581345, 40.61586 ,\n",
       "       40.65376 , 40.674072, 40.73344 , 40.72031 , 40.899494, 40.68566 ,\n",
       "       41.10572 , 40.785297, 40.682564, 41.19397 , 40.773415, 40.674377,\n",
       "       40.70351 , 40.696323, 40.796906, 40.611156, 40.703976, 40.677616,\n",
       "       40.68181 , 41.06404 , 40.77824 , 40.67275 , 40.78727 , 40.751663,\n",
       "       40.74115 , 40.74831 , 40.67895 , 40.681103, 40.78387 , 40.633476,\n",
       "       40.835648, 40.9873  , 40.646465, 41.191982, 41.068417, 40.975555,\n",
       "       40.70729 , 40.78386 , 40.689796, 41.193577, 40.741535, 40.739105,\n",
       "       41.04566 , 40.74004 , 40.901443, 40.70908 , 40.877953, 40.646835,\n",
       "       40.777283, 40.76407 , 41.057144, 40.67518 , 40.79087 , 41.124454,\n",
       "       40.89667 , 41.08101 , 40.75687 , 41.097664, 40.773514, 40.7667  ,\n",
       "       41.094536, 40.9656  , 40.939285, 40.7329  , 40.634884, 40.72751 ,\n",
       "       41.074944, 40.646297, 41.172134, 40.723938, 40.919155, 41.14309 ,\n",
       "       41.100025, 41.137455, 40.689594, 40.717   , 41.19531 , 41.084663,\n",
       "       40.664246, 40.686424, 40.692505, 41.195732, 40.638115, 40.67029 ,\n",
       "       40.697025, 40.68183 , 40.656517, 40.8716  , 40.74361 , 40.782787,\n",
       "       40.639458, 41.053085, 40.703102, 41.30161 , 40.896187, 40.633564,\n",
       "       40.74132 , 40.620068, 40.64714 , 40.734   , 41.24572 , 40.735943,\n",
       "       40.681572, 41.192738, 40.595387, 40.9478  , 40.63026 , 40.618492,\n",
       "       40.705807, 41.014286, 40.6657  , 40.672577, 41.07944 , 41.320457,\n",
       "       40.97547 , 41.11814 , 41.093666, 40.73202 , 40.860847, 41.074577,\n",
       "       40.61303 , 40.622456, 40.6854  , 41.315216, 41.09514 , 40.750816,\n",
       "       40.691006, 40.696266, 40.698456, 41.09527 , 40.849373, 40.722088,\n",
       "       40.55721 , 40.72763 , 41.11333 , 40.77386 , 40.693317, 40.746613,\n",
       "       40.661354, 40.69866 , 40.861103, 40.705555, 40.593708])"
      ]
     },
     "execution_count": 11,
     "metadata": {},
     "output_type": "execute_result"
    }
   ],
   "source": [
    "joined_gdf_finalx.latitude.unique()"
   ]
  },
  {
   "cell_type": "markdown",
   "id": "491a56a9",
   "metadata": {},
   "source": [
    "### Encode Categories"
   ]
  },
  {
   "cell_type": "code",
   "execution_count": 14,
   "id": "1caebbdf",
   "metadata": {},
   "outputs": [],
   "source": [
    "# \n",
    "category_map = {'red':1,'orange':2,'green':3,'blue':4}\n",
    "county_map = {'Salt Lake County':1,'Weber County':2,'Davis County':3}\n",
    "df = joined_gdf_finalx\n",
    "df['county_encoded'] = df['county'].map(county_map)\n",
    "df['category_encoded'] = df['category'].map(category_map)"
   ]
  },
  {
   "cell_type": "markdown",
   "id": "713b218e",
   "metadata": {},
   "source": [
    "### Prep Data"
   ]
  },
  {
   "cell_type": "code",
   "execution_count": 42,
   "id": "0e4a12ae",
   "metadata": {},
   "outputs": [],
   "source": [
    "df = df.loc[df.pm2<75]\n",
    "df = df.loc[df.pm10<75]"
   ]
  },
  {
   "cell_type": "code",
   "execution_count": 43,
   "id": "2eee24a0",
   "metadata": {},
   "outputs": [
    {
     "data": {
      "text/plain": [
       "Index(['sensor_id', 'latitude', 'longitude', 'date', 'county', 'category',\n",
       "       'month', 'pm2', 'pm10', 'avg_pm2', 'avg_pm10', 'county_encoded',\n",
       "       'category_encoded'],\n",
       "      dtype='object')"
      ]
     },
     "execution_count": 43,
     "metadata": {},
     "output_type": "execute_result"
    }
   ],
   "source": [
    "df.columns"
   ]
  },
  {
   "cell_type": "code",
   "execution_count": 44,
   "id": "46854e1a",
   "metadata": {},
   "outputs": [],
   "source": [
    "X = df[['latitude','longitude', 'avg_pm10','avg_pm2','county_encoded','category_encoded','month']]\n",
    "                       \n",
    "# Replace 'target_column' with your actual target column name\n",
    "y = df['pm2']  # Target variable"
   ]
  },
  {
   "cell_type": "code",
   "execution_count": 45,
   "id": "b79cd51c",
   "metadata": {},
   "outputs": [],
   "source": [
    "# Columns to standardi\n",
    "standardize_cols = ['latitude','longitude','avg_pm2','avg_pm10']\n",
    "# Columns to one-hot encode\n",
    "encode_cols = ['county_encoded','category_encoded','month'] "
   ]
  },
  {
   "cell_type": "code",
   "execution_count": 46,
   "id": "bc76104d",
   "metadata": {},
   "outputs": [],
   "source": [
    "# First split: 70% train, 30% temp_test\n",
    "X_train, X_temp_test, y_train, y_temp_test = train_test_split(X, y, test_size=0.3, random_state=42)\n",
    "\n",
    "# Second split of temp_test: 2/3 validation, 1/3 test => 20% of original data validation, 10% test\n",
    "X_val, X_test, y_val, y_test = train_test_split(X_temp_test, y_temp_test, test_size=1/3, random_state=42)\n",
    "\n",
    "\n"
   ]
  },
  {
   "cell_type": "markdown",
   "id": "7f1e55bc",
   "metadata": {},
   "source": [
    "### Prepare Data"
   ]
  },
  {
   "cell_type": "code",
   "execution_count": 47,
   "id": "39ae56bd",
   "metadata": {},
   "outputs": [],
   "source": [
    "preprocessor = ColumnTransformer(\n",
    "    transformers=[\n",
    "        ('num', StandardScaler(), standardize_cols),\n",
    "        ('cat', OneHotEncoder(handle_unknown='ignore'), encode_cols)\n",
    "    ])"
   ]
  },
  {
   "cell_type": "code",
   "execution_count": 48,
   "id": "76bfc9fd",
   "metadata": {},
   "outputs": [],
   "source": [
    "# Fit and transform the training data\n",
    "X_train_transformed = preprocessor.fit_transform(X_train)\n",
    "\n",
    "# Transform the validation and test data\n",
    "X_val_transformed = preprocessor.transform(X_val)\n",
    "X_test_transformed = preprocessor.transform(X_test)"
   ]
  },
  {
   "cell_type": "code",
   "execution_count": 49,
   "id": "9ccb663b",
   "metadata": {},
   "outputs": [
    {
     "data": {
      "text/plain": [
       "['../static/data/preprocessor.joblib']"
      ]
     },
     "execution_count": 49,
     "metadata": {},
     "output_type": "execute_result"
    }
   ],
   "source": [
    "from joblib import dump\n",
    "dump(preprocessor, '../static/data/preprocessor.joblib')"
   ]
  },
  {
   "cell_type": "code",
   "execution_count": 50,
   "id": "9335b08a",
   "metadata": {},
   "outputs": [
    {
     "data": {
      "text/plain": [
       "array([-0.45289084,  1.45275541, -0.32431597, -0.33233082,  1.        ,\n",
       "        0.        ,  0.        ,  0.        ,  0.        ,  1.        ,\n",
       "        0.        ,  0.        ,  0.        ,  0.        ,  0.        ,\n",
       "        0.        ,  1.        ,  0.        ,  0.        ,  0.        ,\n",
       "        0.        ,  0.        ,  0.        ])"
      ]
     },
     "execution_count": 50,
     "metadata": {},
     "output_type": "execute_result"
    }
   ],
   "source": [
    "X_test_transformed[0]"
   ]
  },
  {
   "cell_type": "markdown",
   "id": "62fbe884",
   "metadata": {},
   "source": [
    "# MODEL - TENSORFLOW -------------------------------"
   ]
  },
  {
   "cell_type": "code",
   "execution_count": 51,
   "id": "2d8bb7eb",
   "metadata": {},
   "outputs": [],
   "source": [
    "# set randomizer seeds\n",
    "seed = 42\n",
    "np.random.seed(seed)\n",
    "tf.random.set_seed(seed)\n"
   ]
  },
  {
   "cell_type": "code",
   "execution_count": 52,
   "id": "2367d931",
   "metadata": {},
   "outputs": [],
   "source": [
    "import numpy as np\n",
    "\n",
    "# Applying log1p transformation\n",
    "y_train_log = np.log1p(y_train)\n",
    "y_val_log = np.log1p(y_val)\n",
    "y_test_log = np.log1p(y_test)\n"
   ]
  },
  {
   "cell_type": "code",
   "execution_count": 53,
   "id": "3dcf7d36",
   "metadata": {},
   "outputs": [
    {
     "data": {
      "text/html": [
       "<pre style=\"white-space:pre;overflow-x:auto;line-height:normal;font-family:Menlo,'DejaVu Sans Mono',consolas,'Courier New',monospace\"><span style=\"font-weight: bold\">Model: \"functional_17\"</span>\n",
       "</pre>\n"
      ],
      "text/plain": [
       "\u001b[1mModel: \"functional_17\"\u001b[0m\n"
      ]
     },
     "metadata": {},
     "output_type": "display_data"
    },
    {
     "data": {
      "text/html": [
       "<pre style=\"white-space:pre;overflow-x:auto;line-height:normal;font-family:Menlo,'DejaVu Sans Mono',consolas,'Courier New',monospace\">┏━━━━━━━━━━━━━━━━━━━━━━━━━━━━━━━━━┳━━━━━━━━━━━━━━━━━━━━━━━━┳━━━━━━━━━━━━━━━┓\n",
       "┃<span style=\"font-weight: bold\"> Layer (type)                    </span>┃<span style=\"font-weight: bold\"> Output Shape           </span>┃<span style=\"font-weight: bold\">       Param # </span>┃\n",
       "┡━━━━━━━━━━━━━━━━━━━━━━━━━━━━━━━━━╇━━━━━━━━━━━━━━━━━━━━━━━━╇━━━━━━━━━━━━━━━┩\n",
       "│ input_layer_8 (<span style=\"color: #0087ff; text-decoration-color: #0087ff\">InputLayer</span>)      │ (<span style=\"color: #00d7ff; text-decoration-color: #00d7ff\">None</span>, <span style=\"color: #00af00; text-decoration-color: #00af00\">23</span>)             │             <span style=\"color: #00af00; text-decoration-color: #00af00\">0</span> │\n",
       "├─────────────────────────────────┼────────────────────────┼───────────────┤\n",
       "│ dense_28 (<span style=\"color: #0087ff; text-decoration-color: #0087ff\">Dense</span>)                │ (<span style=\"color: #00d7ff; text-decoration-color: #00d7ff\">None</span>, <span style=\"color: #00af00; text-decoration-color: #00af00\">32</span>)             │           <span style=\"color: #00af00; text-decoration-color: #00af00\">768</span> │\n",
       "├─────────────────────────────────┼────────────────────────┼───────────────┤\n",
       "│ dense_29 (<span style=\"color: #0087ff; text-decoration-color: #0087ff\">Dense</span>)                │ (<span style=\"color: #00d7ff; text-decoration-color: #00d7ff\">None</span>, <span style=\"color: #00af00; text-decoration-color: #00af00\">16</span>)             │           <span style=\"color: #00af00; text-decoration-color: #00af00\">528</span> │\n",
       "├─────────────────────────────────┼────────────────────────┼───────────────┤\n",
       "│ dense_30 (<span style=\"color: #0087ff; text-decoration-color: #0087ff\">Dense</span>)                │ (<span style=\"color: #00d7ff; text-decoration-color: #00d7ff\">None</span>, <span style=\"color: #00af00; text-decoration-color: #00af00\">1</span>)              │            <span style=\"color: #00af00; text-decoration-color: #00af00\">17</span> │\n",
       "└─────────────────────────────────┴────────────────────────┴───────────────┘\n",
       "</pre>\n"
      ],
      "text/plain": [
       "┏━━━━━━━━━━━━━━━━━━━━━━━━━━━━━━━━━┳━━━━━━━━━━━━━━━━━━━━━━━━┳━━━━━━━━━━━━━━━┓\n",
       "┃\u001b[1m \u001b[0m\u001b[1mLayer (type)                   \u001b[0m\u001b[1m \u001b[0m┃\u001b[1m \u001b[0m\u001b[1mOutput Shape          \u001b[0m\u001b[1m \u001b[0m┃\u001b[1m \u001b[0m\u001b[1m      Param #\u001b[0m\u001b[1m \u001b[0m┃\n",
       "┡━━━━━━━━━━━━━━━━━━━━━━━━━━━━━━━━━╇━━━━━━━━━━━━━━━━━━━━━━━━╇━━━━━━━━━━━━━━━┩\n",
       "│ input_layer_8 (\u001b[38;5;33mInputLayer\u001b[0m)      │ (\u001b[38;5;45mNone\u001b[0m, \u001b[38;5;34m23\u001b[0m)             │             \u001b[38;5;34m0\u001b[0m │\n",
       "├─────────────────────────────────┼────────────────────────┼───────────────┤\n",
       "│ dense_28 (\u001b[38;5;33mDense\u001b[0m)                │ (\u001b[38;5;45mNone\u001b[0m, \u001b[38;5;34m32\u001b[0m)             │           \u001b[38;5;34m768\u001b[0m │\n",
       "├─────────────────────────────────┼────────────────────────┼───────────────┤\n",
       "│ dense_29 (\u001b[38;5;33mDense\u001b[0m)                │ (\u001b[38;5;45mNone\u001b[0m, \u001b[38;5;34m16\u001b[0m)             │           \u001b[38;5;34m528\u001b[0m │\n",
       "├─────────────────────────────────┼────────────────────────┼───────────────┤\n",
       "│ dense_30 (\u001b[38;5;33mDense\u001b[0m)                │ (\u001b[38;5;45mNone\u001b[0m, \u001b[38;5;34m1\u001b[0m)              │            \u001b[38;5;34m17\u001b[0m │\n",
       "└─────────────────────────────────┴────────────────────────┴───────────────┘\n"
      ]
     },
     "metadata": {},
     "output_type": "display_data"
    },
    {
     "data": {
      "text/html": [
       "<pre style=\"white-space:pre;overflow-x:auto;line-height:normal;font-family:Menlo,'DejaVu Sans Mono',consolas,'Courier New',monospace\"><span style=\"font-weight: bold\"> Total params: </span><span style=\"color: #00af00; text-decoration-color: #00af00\">1,313</span> (5.13 KB)\n",
       "</pre>\n"
      ],
      "text/plain": [
       "\u001b[1m Total params: \u001b[0m\u001b[38;5;34m1,313\u001b[0m (5.13 KB)\n"
      ]
     },
     "metadata": {},
     "output_type": "display_data"
    },
    {
     "data": {
      "text/html": [
       "<pre style=\"white-space:pre;overflow-x:auto;line-height:normal;font-family:Menlo,'DejaVu Sans Mono',consolas,'Courier New',monospace\"><span style=\"font-weight: bold\"> Trainable params: </span><span style=\"color: #00af00; text-decoration-color: #00af00\">1,313</span> (5.13 KB)\n",
       "</pre>\n"
      ],
      "text/plain": [
       "\u001b[1m Trainable params: \u001b[0m\u001b[38;5;34m1,313\u001b[0m (5.13 KB)\n"
      ]
     },
     "metadata": {},
     "output_type": "display_data"
    },
    {
     "data": {
      "text/html": [
       "<pre style=\"white-space:pre;overflow-x:auto;line-height:normal;font-family:Menlo,'DejaVu Sans Mono',consolas,'Courier New',monospace\"><span style=\"font-weight: bold\"> Non-trainable params: </span><span style=\"color: #00af00; text-decoration-color: #00af00\">0</span> (0.00 B)\n",
       "</pre>\n"
      ],
      "text/plain": [
       "\u001b[1m Non-trainable params: \u001b[0m\u001b[38;5;34m0\u001b[0m (0.00 B)\n"
      ]
     },
     "metadata": {},
     "output_type": "display_data"
    },
    {
     "name": "stdout",
     "output_type": "stream",
     "text": [
      "Epoch 1/140\n",
      "\u001b[1m1397/1397\u001b[0m \u001b[32m━━━━━━━━━━━━━━━━━━━━\u001b[0m\u001b[37m\u001b[0m \u001b[1m1s\u001b[0m 466us/step - loss: 0.9698 - val_loss: 0.6069\n",
      "Epoch 2/140\n",
      "\u001b[1m1397/1397\u001b[0m \u001b[32m━━━━━━━━━━━━━━━━━━━━\u001b[0m\u001b[37m\u001b[0m \u001b[1m1s\u001b[0m 431us/step - loss: 0.5902 - val_loss: 0.5408\n",
      "Epoch 3/140\n",
      "\u001b[1m1397/1397\u001b[0m \u001b[32m━━━━━━━━━━━━━━━━━━━━\u001b[0m\u001b[37m\u001b[0m \u001b[1m1s\u001b[0m 429us/step - loss: 0.5241 - val_loss: 0.4789\n",
      "Epoch 4/140\n",
      "\u001b[1m1397/1397\u001b[0m \u001b[32m━━━━━━━━━━━━━━━━━━━━\u001b[0m\u001b[37m\u001b[0m \u001b[1m1s\u001b[0m 432us/step - loss: 0.4660 - val_loss: 0.4299\n",
      "Epoch 5/140\n",
      "\u001b[1m1397/1397\u001b[0m \u001b[32m━━━━━━━━━━━━━━━━━━━━\u001b[0m\u001b[37m\u001b[0m \u001b[1m1s\u001b[0m 430us/step - loss: 0.4244 - val_loss: 0.3972\n",
      "Epoch 6/140\n",
      "\u001b[1m1397/1397\u001b[0m \u001b[32m━━━━━━━━━━━━━━━━━━━━\u001b[0m\u001b[37m\u001b[0m \u001b[1m1s\u001b[0m 431us/step - loss: 0.3966 - val_loss: 0.3756\n",
      "Epoch 7/140\n",
      "\u001b[1m1397/1397\u001b[0m \u001b[32m━━━━━━━━━━━━━━━━━━━━\u001b[0m\u001b[37m\u001b[0m \u001b[1m1s\u001b[0m 437us/step - loss: 0.3758 - val_loss: 0.3587\n",
      "Epoch 8/140\n",
      "\u001b[1m1397/1397\u001b[0m \u001b[32m━━━━━━━━━━━━━━━━━━━━\u001b[0m\u001b[37m\u001b[0m \u001b[1m1s\u001b[0m 427us/step - loss: 0.3596 - val_loss: 0.3421\n",
      "Epoch 9/140\n",
      "\u001b[1m1397/1397\u001b[0m \u001b[32m━━━━━━━━━━━━━━━━━━━━\u001b[0m\u001b[37m\u001b[0m \u001b[1m1s\u001b[0m 430us/step - loss: 0.3438 - val_loss: 0.3292\n",
      "Epoch 10/140\n",
      "\u001b[1m1397/1397\u001b[0m \u001b[32m━━━━━━━━━━━━━━━━━━━━\u001b[0m\u001b[37m\u001b[0m \u001b[1m1s\u001b[0m 430us/step - loss: 0.3304 - val_loss: 0.3168\n",
      "Epoch 11/140\n",
      "\u001b[1m1397/1397\u001b[0m \u001b[32m━━━━━━━━━━━━━━━━━━━━\u001b[0m\u001b[37m\u001b[0m \u001b[1m1s\u001b[0m 442us/step - loss: 0.3173 - val_loss: 0.3046\n",
      "Epoch 12/140\n",
      "\u001b[1m1397/1397\u001b[0m \u001b[32m━━━━━━━━━━━━━━━━━━━━\u001b[0m\u001b[37m\u001b[0m \u001b[1m1s\u001b[0m 431us/step - loss: 0.3051 - val_loss: 0.2923\n",
      "Epoch 13/140\n",
      "\u001b[1m1397/1397\u001b[0m \u001b[32m━━━━━━━━━━━━━━━━━━━━\u001b[0m\u001b[37m\u001b[0m \u001b[1m1s\u001b[0m 428us/step - loss: 0.2944 - val_loss: 0.2833\n",
      "Epoch 14/140\n",
      "\u001b[1m1397/1397\u001b[0m \u001b[32m━━━━━━━━━━━━━━━━━━━━\u001b[0m\u001b[37m\u001b[0m \u001b[1m1s\u001b[0m 444us/step - loss: 0.2853 - val_loss: 0.2748\n",
      "Epoch 15/140\n",
      "\u001b[1m1397/1397\u001b[0m \u001b[32m━━━━━━━━━━━━━━━━━━━━\u001b[0m\u001b[37m\u001b[0m \u001b[1m1s\u001b[0m 433us/step - loss: 0.2778 - val_loss: 0.2678\n",
      "Epoch 16/140\n",
      "\u001b[1m1397/1397\u001b[0m \u001b[32m━━━━━━━━━━━━━━━━━━━━\u001b[0m\u001b[37m\u001b[0m \u001b[1m1s\u001b[0m 439us/step - loss: 0.2716 - val_loss: 0.2632\n",
      "Epoch 17/140\n",
      "\u001b[1m1397/1397\u001b[0m \u001b[32m━━━━━━━━━━━━━━━━━━━━\u001b[0m\u001b[37m\u001b[0m \u001b[1m1s\u001b[0m 431us/step - loss: 0.2664 - val_loss: 0.2586\n",
      "Epoch 18/140\n",
      "\u001b[1m1397/1397\u001b[0m \u001b[32m━━━━━━━━━━━━━━━━━━━━\u001b[0m\u001b[37m\u001b[0m \u001b[1m1s\u001b[0m 428us/step - loss: 0.2616 - val_loss: 0.2561\n",
      "Epoch 19/140\n",
      "\u001b[1m1397/1397\u001b[0m \u001b[32m━━━━━━━━━━━━━━━━━━━━\u001b[0m\u001b[37m\u001b[0m \u001b[1m1s\u001b[0m 441us/step - loss: 0.2578 - val_loss: 0.2554\n",
      "Epoch 20/140\n",
      "\u001b[1m1397/1397\u001b[0m \u001b[32m━━━━━━━━━━━━━━━━━━━━\u001b[0m\u001b[37m\u001b[0m \u001b[1m1s\u001b[0m 435us/step - loss: 0.2549 - val_loss: 0.2516\n",
      "Epoch 21/140\n",
      "\u001b[1m1397/1397\u001b[0m \u001b[32m━━━━━━━━━━━━━━━━━━━━\u001b[0m\u001b[37m\u001b[0m \u001b[1m1s\u001b[0m 439us/step - loss: 0.2520 - val_loss: 0.2488\n",
      "Epoch 22/140\n",
      "\u001b[1m1397/1397\u001b[0m \u001b[32m━━━━━━━━━━━━━━━━━━━━\u001b[0m\u001b[37m\u001b[0m \u001b[1m1s\u001b[0m 437us/step - loss: 0.2500 - val_loss: 0.2493\n",
      "Epoch 23/140\n",
      "\u001b[1m1397/1397\u001b[0m \u001b[32m━━━━━━━━━━━━━━━━━━━━\u001b[0m\u001b[37m\u001b[0m \u001b[1m1s\u001b[0m 449us/step - loss: 0.2478 - val_loss: 0.2452\n",
      "Epoch 24/140\n",
      "\u001b[1m1397/1397\u001b[0m \u001b[32m━━━━━━━━━━━━━━━━━━━━\u001b[0m\u001b[37m\u001b[0m \u001b[1m1s\u001b[0m 433us/step - loss: 0.2455 - val_loss: 0.2460\n",
      "Epoch 25/140\n",
      "\u001b[1m1397/1397\u001b[0m \u001b[32m━━━━━━━━━━━━━━━━━━━━\u001b[0m\u001b[37m\u001b[0m \u001b[1m1s\u001b[0m 431us/step - loss: 0.2441 - val_loss: 0.2433\n",
      "Epoch 26/140\n",
      "\u001b[1m1397/1397\u001b[0m \u001b[32m━━━━━━━━━━━━━━━━━━━━\u001b[0m\u001b[37m\u001b[0m \u001b[1m1s\u001b[0m 445us/step - loss: 0.2428 - val_loss: 0.2438\n",
      "Epoch 27/140\n",
      "\u001b[1m1397/1397\u001b[0m \u001b[32m━━━━━━━━━━━━━━━━━━━━\u001b[0m\u001b[37m\u001b[0m \u001b[1m1s\u001b[0m 435us/step - loss: 0.2418 - val_loss: 0.2415\n",
      "Epoch 28/140\n",
      "\u001b[1m1397/1397\u001b[0m \u001b[32m━━━━━━━━━━━━━━━━━━━━\u001b[0m\u001b[37m\u001b[0m \u001b[1m1s\u001b[0m 445us/step - loss: 0.2409 - val_loss: 0.2402\n",
      "Epoch 29/140\n",
      "\u001b[1m1397/1397\u001b[0m \u001b[32m━━━━━━━━━━━━━━━━━━━━\u001b[0m\u001b[37m\u001b[0m \u001b[1m1s\u001b[0m 430us/step - loss: 0.2397 - val_loss: 0.2386\n",
      "Epoch 30/140\n",
      "\u001b[1m1397/1397\u001b[0m \u001b[32m━━━━━━━━━━━━━━━━━━━━\u001b[0m\u001b[37m\u001b[0m \u001b[1m1s\u001b[0m 445us/step - loss: 0.2391 - val_loss: 0.2384\n",
      "Epoch 31/140\n",
      "\u001b[1m1397/1397\u001b[0m \u001b[32m━━━━━━━━━━━━━━━━━━━━\u001b[0m\u001b[37m\u001b[0m \u001b[1m1s\u001b[0m 446us/step - loss: 0.2387 - val_loss: 0.2364\n",
      "Epoch 32/140\n",
      "\u001b[1m1397/1397\u001b[0m \u001b[32m━━━━━━━━━━━━━━━━━━━━\u001b[0m\u001b[37m\u001b[0m \u001b[1m1s\u001b[0m 434us/step - loss: 0.2379 - val_loss: 0.2376\n",
      "Epoch 33/140\n",
      "\u001b[1m1397/1397\u001b[0m \u001b[32m━━━━━━━━━━━━━━━━━━━━\u001b[0m\u001b[37m\u001b[0m \u001b[1m1s\u001b[0m 444us/step - loss: 0.2375 - val_loss: 0.2379\n",
      "Epoch 34/140\n",
      "\u001b[1m1397/1397\u001b[0m \u001b[32m━━━━━━━━━━━━━━━━━━━━\u001b[0m\u001b[37m\u001b[0m \u001b[1m1s\u001b[0m 436us/step - loss: 0.2370 - val_loss: 0.2345\n",
      "Epoch 35/140\n",
      "\u001b[1m1397/1397\u001b[0m \u001b[32m━━━━━━━━━━━━━━━━━━━━\u001b[0m\u001b[37m\u001b[0m \u001b[1m1s\u001b[0m 442us/step - loss: 0.2360 - val_loss: 0.2358\n",
      "Epoch 36/140\n",
      "\u001b[1m1397/1397\u001b[0m \u001b[32m━━━━━━━━━━━━━━━━━━━━\u001b[0m\u001b[37m\u001b[0m \u001b[1m1s\u001b[0m 445us/step - loss: 0.2360 - val_loss: 0.2345\n",
      "Epoch 37/140\n",
      "\u001b[1m1397/1397\u001b[0m \u001b[32m━━━━━━━━━━━━━━━━━━━━\u001b[0m\u001b[37m\u001b[0m \u001b[1m1s\u001b[0m 433us/step - loss: 0.2354 - val_loss: 0.2371\n",
      "Epoch 38/140\n",
      "\u001b[1m1397/1397\u001b[0m \u001b[32m━━━━━━━━━━━━━━━━━━━━\u001b[0m\u001b[37m\u001b[0m \u001b[1m1s\u001b[0m 444us/step - loss: 0.2352 - val_loss: 0.2343\n",
      "Epoch 39/140\n",
      "\u001b[1m1397/1397\u001b[0m \u001b[32m━━━━━━━━━━━━━━━━━━━━\u001b[0m\u001b[37m\u001b[0m \u001b[1m1s\u001b[0m 445us/step - loss: 0.2350 - val_loss: 0.2366\n",
      "Epoch 40/140\n",
      "\u001b[1m1397/1397\u001b[0m \u001b[32m━━━━━━━━━━━━━━━━━━━━\u001b[0m\u001b[37m\u001b[0m \u001b[1m1s\u001b[0m 432us/step - loss: 0.2344 - val_loss: 0.2361\n",
      "Epoch 41/140\n",
      "\u001b[1m1397/1397\u001b[0m \u001b[32m━━━━━━━━━━━━━━━━━━━━\u001b[0m\u001b[37m\u001b[0m \u001b[1m1s\u001b[0m 449us/step - loss: 0.2340 - val_loss: 0.2335\n",
      "Epoch 42/140\n",
      "\u001b[1m1397/1397\u001b[0m \u001b[32m━━━━━━━━━━━━━━━━━━━━\u001b[0m\u001b[37m\u001b[0m \u001b[1m1s\u001b[0m 445us/step - loss: 0.2332 - val_loss: 0.2342\n",
      "Epoch 43/140\n",
      "\u001b[1m1397/1397\u001b[0m \u001b[32m━━━━━━━━━━━━━━━━━━━━\u001b[0m\u001b[37m\u001b[0m \u001b[1m1s\u001b[0m 435us/step - loss: 0.2329 - val_loss: 0.2347\n",
      "Epoch 44/140\n",
      "\u001b[1m1397/1397\u001b[0m \u001b[32m━━━━━━━━━━━━━━━━━━━━\u001b[0m\u001b[37m\u001b[0m \u001b[1m1s\u001b[0m 440us/step - loss: 0.2326 - val_loss: 0.2354\n",
      "Epoch 45/140\n",
      "\u001b[1m1397/1397\u001b[0m \u001b[32m━━━━━━━━━━━━━━━━━━━━\u001b[0m\u001b[37m\u001b[0m \u001b[1m1s\u001b[0m 443us/step - loss: 0.2321 - val_loss: 0.2364\n",
      "Epoch 46/140\n",
      "\u001b[1m1397/1397\u001b[0m \u001b[32m━━━━━━━━━━━━━━━━━━━━\u001b[0m\u001b[37m\u001b[0m \u001b[1m1s\u001b[0m 446us/step - loss: 0.2319 - val_loss: 0.2323\n",
      "Epoch 47/140\n",
      "\u001b[1m1397/1397\u001b[0m \u001b[32m━━━━━━━━━━━━━━━━━━━━\u001b[0m\u001b[37m\u001b[0m \u001b[1m1s\u001b[0m 451us/step - loss: 0.2315 - val_loss: 0.2334\n",
      "Epoch 48/140\n",
      "\u001b[1m1397/1397\u001b[0m \u001b[32m━━━━━━━━━━━━━━━━━━━━\u001b[0m\u001b[37m\u001b[0m \u001b[1m1s\u001b[0m 452us/step - loss: 0.2309 - val_loss: 0.2324\n",
      "Epoch 49/140\n",
      "\u001b[1m1397/1397\u001b[0m \u001b[32m━━━━━━━━━━━━━━━━━━━━\u001b[0m\u001b[37m\u001b[0m \u001b[1m1s\u001b[0m 449us/step - loss: 0.2314 - val_loss: 0.2328\n",
      "Epoch 50/140\n",
      "\u001b[1m1397/1397\u001b[0m \u001b[32m━━━━━━━━━━━━━━━━━━━━\u001b[0m\u001b[37m\u001b[0m \u001b[1m1s\u001b[0m 447us/step - loss: 0.2304 - val_loss: 0.2299\n",
      "Epoch 51/140\n",
      "\u001b[1m1397/1397\u001b[0m \u001b[32m━━━━━━━━━━━━━━━━━━━━\u001b[0m\u001b[37m\u001b[0m \u001b[1m1s\u001b[0m 436us/step - loss: 0.2301 - val_loss: 0.2328\n",
      "Epoch 52/140\n",
      "\u001b[1m1397/1397\u001b[0m \u001b[32m━━━━━━━━━━━━━━━━━━━━\u001b[0m\u001b[37m\u001b[0m \u001b[1m1s\u001b[0m 453us/step - loss: 0.2299 - val_loss: 0.2300\n",
      "Epoch 53/140\n",
      "\u001b[1m1397/1397\u001b[0m \u001b[32m━━━━━━━━━━━━━━━━━━━━\u001b[0m\u001b[37m\u001b[0m \u001b[1m1s\u001b[0m 449us/step - loss: 0.2299 - val_loss: 0.2324\n",
      "Epoch 54/140\n",
      "\u001b[1m1397/1397\u001b[0m \u001b[32m━━━━━━━━━━━━━━━━━━━━\u001b[0m\u001b[37m\u001b[0m \u001b[1m1s\u001b[0m 456us/step - loss: 0.2297 - val_loss: 0.2332\n",
      "Epoch 55/140\n",
      "\u001b[1m1397/1397\u001b[0m \u001b[32m━━━━━━━━━━━━━━━━━━━━\u001b[0m\u001b[37m\u001b[0m \u001b[1m1s\u001b[0m 439us/step - loss: 0.2293 - val_loss: 0.2316\n",
      "Epoch 56/140\n",
      "\u001b[1m1397/1397\u001b[0m \u001b[32m━━━━━━━━━━━━━━━━━━━━\u001b[0m\u001b[37m\u001b[0m \u001b[1m1s\u001b[0m 439us/step - loss: 0.2290 - val_loss: 0.2255\n",
      "Epoch 57/140\n",
      "\u001b[1m1397/1397\u001b[0m \u001b[32m━━━━━━━━━━━━━━━━━━━━\u001b[0m\u001b[37m\u001b[0m \u001b[1m1s\u001b[0m 446us/step - loss: 0.2276 - val_loss: 0.2257\n",
      "Epoch 58/140\n",
      "\u001b[1m1397/1397\u001b[0m \u001b[32m━━━━━━━━━━━━━━━━━━━━\u001b[0m\u001b[37m\u001b[0m \u001b[1m1s\u001b[0m 449us/step - loss: 0.2258 - val_loss: 0.2255\n",
      "Epoch 59/140\n",
      "\u001b[1m1397/1397\u001b[0m \u001b[32m━━━━━━━━━━━━━━━━━━━━\u001b[0m\u001b[37m\u001b[0m \u001b[1m1s\u001b[0m 450us/step - loss: 0.2252 - val_loss: 0.2240\n",
      "Epoch 60/140\n",
      "\u001b[1m1397/1397\u001b[0m \u001b[32m━━━━━━━━━━━━━━━━━━━━\u001b[0m\u001b[37m\u001b[0m \u001b[1m1s\u001b[0m 458us/step - loss: 0.2245 - val_loss: 0.2221\n",
      "Epoch 61/140\n",
      "\u001b[1m1397/1397\u001b[0m \u001b[32m━━━━━━━━━━━━━━━━━━━━\u001b[0m\u001b[37m\u001b[0m \u001b[1m1s\u001b[0m 449us/step - loss: 0.2235 - val_loss: 0.2207\n",
      "Epoch 62/140\n",
      "\u001b[1m1397/1397\u001b[0m \u001b[32m━━━━━━━━━━━━━━━━━━━━\u001b[0m\u001b[37m\u001b[0m \u001b[1m1s\u001b[0m 446us/step - loss: 0.2231 - val_loss: 0.2201\n",
      "Epoch 63/140\n",
      "\u001b[1m1397/1397\u001b[0m \u001b[32m━━━━━━━━━━━━━━━━━━━━\u001b[0m\u001b[37m\u001b[0m \u001b[1m1s\u001b[0m 450us/step - loss: 0.2227 - val_loss: 0.2246\n",
      "Epoch 64/140\n",
      "\u001b[1m1397/1397\u001b[0m \u001b[32m━━━━━━━━━━━━━━━━━━━━\u001b[0m\u001b[37m\u001b[0m \u001b[1m1s\u001b[0m 451us/step - loss: 0.2222 - val_loss: 0.2229\n",
      "Epoch 65/140\n",
      "\u001b[1m1397/1397\u001b[0m \u001b[32m━━━━━━━━━━━━━━━━━━━━\u001b[0m\u001b[37m\u001b[0m \u001b[1m1s\u001b[0m 450us/step - loss: 0.2223 - val_loss: 0.2198\n",
      "Epoch 66/140\n"
     ]
    },
    {
     "name": "stdout",
     "output_type": "stream",
     "text": [
      "\u001b[1m1397/1397\u001b[0m \u001b[32m━━━━━━━━━━━━━━━━━━━━\u001b[0m\u001b[37m\u001b[0m \u001b[1m1s\u001b[0m 438us/step - loss: 0.2217 - val_loss: 0.2219\n",
      "Epoch 67/140\n",
      "\u001b[1m1397/1397\u001b[0m \u001b[32m━━━━━━━━━━━━━━━━━━━━\u001b[0m\u001b[37m\u001b[0m \u001b[1m1s\u001b[0m 426us/step - loss: 0.2212 - val_loss: 0.2207\n",
      "Epoch 68/140\n",
      "\u001b[1m1397/1397\u001b[0m \u001b[32m━━━━━━━━━━━━━━━━━━━━\u001b[0m\u001b[37m\u001b[0m \u001b[1m1s\u001b[0m 473us/step - loss: 0.2215 - val_loss: 0.2214\n",
      "Epoch 69/140\n",
      "\u001b[1m1397/1397\u001b[0m \u001b[32m━━━━━━━━━━━━━━━━━━━━\u001b[0m\u001b[37m\u001b[0m \u001b[1m1s\u001b[0m 480us/step - loss: 0.2204 - val_loss: 0.2208\n",
      "Epoch 70/140\n",
      "\u001b[1m1397/1397\u001b[0m \u001b[32m━━━━━━━━━━━━━━━━━━━━\u001b[0m\u001b[37m\u001b[0m \u001b[1m1s\u001b[0m 489us/step - loss: 0.2207 - val_loss: 0.2189\n",
      "Epoch 71/140\n",
      "\u001b[1m1397/1397\u001b[0m \u001b[32m━━━━━━━━━━━━━━━━━━━━\u001b[0m\u001b[37m\u001b[0m \u001b[1m1s\u001b[0m 440us/step - loss: 0.2205 - val_loss: 0.2179\n",
      "Epoch 72/140\n",
      "\u001b[1m1397/1397\u001b[0m \u001b[32m━━━━━━━━━━━━━━━━━━━━\u001b[0m\u001b[37m\u001b[0m \u001b[1m1s\u001b[0m 452us/step - loss: 0.2195 - val_loss: 0.2215\n",
      "Epoch 73/140\n",
      "\u001b[1m1397/1397\u001b[0m \u001b[32m━━━━━━━━━━━━━━━━━━━━\u001b[0m\u001b[37m\u001b[0m \u001b[1m1s\u001b[0m 445us/step - loss: 0.2194 - val_loss: 0.2197\n",
      "Epoch 74/140\n",
      "\u001b[1m1397/1397\u001b[0m \u001b[32m━━━━━━━━━━━━━━━━━━━━\u001b[0m\u001b[37m\u001b[0m \u001b[1m1s\u001b[0m 448us/step - loss: 0.2193 - val_loss: 0.2181\n",
      "Epoch 75/140\n",
      "\u001b[1m1397/1397\u001b[0m \u001b[32m━━━━━━━━━━━━━━━━━━━━\u001b[0m\u001b[37m\u001b[0m \u001b[1m1s\u001b[0m 435us/step - loss: 0.2191 - val_loss: 0.2190\n",
      "Epoch 76/140\n",
      "\u001b[1m1397/1397\u001b[0m \u001b[32m━━━━━━━━━━━━━━━━━━━━\u001b[0m\u001b[37m\u001b[0m \u001b[1m1s\u001b[0m 447us/step - loss: 0.2191 - val_loss: 0.2191\n",
      "Epoch 77/140\n",
      "\u001b[1m1397/1397\u001b[0m \u001b[32m━━━━━━━━━━━━━━━━━━━━\u001b[0m\u001b[37m\u001b[0m \u001b[1m1s\u001b[0m 446us/step - loss: 0.2183 - val_loss: 0.2218\n",
      "Epoch 78/140\n",
      "\u001b[1m1397/1397\u001b[0m \u001b[32m━━━━━━━━━━━━━━━━━━━━\u001b[0m\u001b[37m\u001b[0m \u001b[1m1s\u001b[0m 435us/step - loss: 0.2184 - val_loss: 0.2166\n",
      "Epoch 79/140\n",
      "\u001b[1m1397/1397\u001b[0m \u001b[32m━━━━━━━━━━━━━━━━━━━━\u001b[0m\u001b[37m\u001b[0m \u001b[1m1s\u001b[0m 435us/step - loss: 0.2180 - val_loss: 0.2179\n",
      "Epoch 80/140\n",
      "\u001b[1m1397/1397\u001b[0m \u001b[32m━━━━━━━━━━━━━━━━━━━━\u001b[0m\u001b[37m\u001b[0m \u001b[1m1s\u001b[0m 431us/step - loss: 0.2183 - val_loss: 0.2170\n",
      "Epoch 81/140\n",
      "\u001b[1m1397/1397\u001b[0m \u001b[32m━━━━━━━━━━━━━━━━━━━━\u001b[0m\u001b[37m\u001b[0m \u001b[1m1s\u001b[0m 432us/step - loss: 0.2179 - val_loss: 0.2191\n",
      "Epoch 82/140\n",
      "\u001b[1m1397/1397\u001b[0m \u001b[32m━━━━━━━━━━━━━━━━━━━━\u001b[0m\u001b[37m\u001b[0m \u001b[1m1s\u001b[0m 442us/step - loss: 0.2177 - val_loss: 0.2178\n",
      "Epoch 83/140\n",
      "\u001b[1m1397/1397\u001b[0m \u001b[32m━━━━━━━━━━━━━━━━━━━━\u001b[0m\u001b[37m\u001b[0m \u001b[1m1s\u001b[0m 432us/step - loss: 0.2176 - val_loss: 0.2171\n",
      "Epoch 84/140\n",
      "\u001b[1m1397/1397\u001b[0m \u001b[32m━━━━━━━━━━━━━━━━━━━━\u001b[0m\u001b[37m\u001b[0m \u001b[1m1s\u001b[0m 445us/step - loss: 0.2172 - val_loss: 0.2178\n",
      "Epoch 85/140\n",
      "\u001b[1m1397/1397\u001b[0m \u001b[32m━━━━━━━━━━━━━━━━━━━━\u001b[0m\u001b[37m\u001b[0m \u001b[1m1s\u001b[0m 434us/step - loss: 0.2166 - val_loss: 0.2184\n",
      "Epoch 86/140\n",
      "\u001b[1m1397/1397\u001b[0m \u001b[32m━━━━━━━━━━━━━━━━━━━━\u001b[0m\u001b[37m\u001b[0m \u001b[1m1s\u001b[0m 441us/step - loss: 0.2169 - val_loss: 0.2161\n",
      "Epoch 87/140\n",
      "\u001b[1m1397/1397\u001b[0m \u001b[32m━━━━━━━━━━━━━━━━━━━━\u001b[0m\u001b[37m\u001b[0m \u001b[1m1s\u001b[0m 431us/step - loss: 0.2164 - val_loss: 0.2153\n",
      "Epoch 88/140\n",
      "\u001b[1m1397/1397\u001b[0m \u001b[32m━━━━━━━━━━━━━━━━━━━━\u001b[0m\u001b[37m\u001b[0m \u001b[1m1s\u001b[0m 450us/step - loss: 0.2164 - val_loss: 0.2188\n",
      "Epoch 89/140\n",
      "\u001b[1m1397/1397\u001b[0m \u001b[32m━━━━━━━━━━━━━━━━━━━━\u001b[0m\u001b[37m\u001b[0m \u001b[1m1s\u001b[0m 430us/step - loss: 0.2165 - val_loss: 0.2185\n",
      "Epoch 90/140\n",
      "\u001b[1m1397/1397\u001b[0m \u001b[32m━━━━━━━━━━━━━━━━━━━━\u001b[0m\u001b[37m\u001b[0m \u001b[1m1s\u001b[0m 437us/step - loss: 0.2159 - val_loss: 0.2171\n",
      "Epoch 91/140\n",
      "\u001b[1m1397/1397\u001b[0m \u001b[32m━━━━━━━━━━━━━━━━━━━━\u001b[0m\u001b[37m\u001b[0m \u001b[1m1s\u001b[0m 429us/step - loss: 0.2156 - val_loss: 0.2168\n",
      "Epoch 92/140\n",
      "\u001b[1m1397/1397\u001b[0m \u001b[32m━━━━━━━━━━━━━━━━━━━━\u001b[0m\u001b[37m\u001b[0m \u001b[1m1s\u001b[0m 430us/step - loss: 0.2155 - val_loss: 0.2146\n",
      "Epoch 93/140\n",
      "\u001b[1m1397/1397\u001b[0m \u001b[32m━━━━━━━━━━━━━━━━━━━━\u001b[0m\u001b[37m\u001b[0m \u001b[1m1s\u001b[0m 437us/step - loss: 0.2149 - val_loss: 0.2141\n",
      "Epoch 94/140\n",
      "\u001b[1m1397/1397\u001b[0m \u001b[32m━━━━━━━━━━━━━━━━━━━━\u001b[0m\u001b[37m\u001b[0m \u001b[1m1s\u001b[0m 430us/step - loss: 0.2152 - val_loss: 0.2170\n",
      "Epoch 95/140\n",
      "\u001b[1m1397/1397\u001b[0m \u001b[32m━━━━━━━━━━━━━━━━━━━━\u001b[0m\u001b[37m\u001b[0m \u001b[1m1s\u001b[0m 441us/step - loss: 0.2150 - val_loss: 0.2173\n",
      "Epoch 96/140\n",
      "\u001b[1m1397/1397\u001b[0m \u001b[32m━━━━━━━━━━━━━━━━━━━━\u001b[0m\u001b[37m\u001b[0m \u001b[1m1s\u001b[0m 433us/step - loss: 0.2149 - val_loss: 0.2155\n",
      "Epoch 97/140\n",
      "\u001b[1m1397/1397\u001b[0m \u001b[32m━━━━━━━━━━━━━━━━━━━━\u001b[0m\u001b[37m\u001b[0m \u001b[1m1s\u001b[0m 443us/step - loss: 0.2145 - val_loss: 0.2172\n",
      "Epoch 98/140\n",
      "\u001b[1m1397/1397\u001b[0m \u001b[32m━━━━━━━━━━━━━━━━━━━━\u001b[0m\u001b[37m\u001b[0m \u001b[1m1s\u001b[0m 441us/step - loss: 0.2145 - val_loss: 0.2153\n",
      "Epoch 99/140\n",
      "\u001b[1m1397/1397\u001b[0m \u001b[32m━━━━━━━━━━━━━━━━━━━━\u001b[0m\u001b[37m\u001b[0m \u001b[1m1s\u001b[0m 432us/step - loss: 0.2142 - val_loss: 0.2165\n",
      "Epoch 100/140\n",
      "\u001b[1m1397/1397\u001b[0m \u001b[32m━━━━━━━━━━━━━━━━━━━━\u001b[0m\u001b[37m\u001b[0m \u001b[1m1s\u001b[0m 445us/step - loss: 0.2141 - val_loss: 0.2144\n",
      "Epoch 101/140\n",
      "\u001b[1m1397/1397\u001b[0m \u001b[32m━━━━━━━━━━━━━━━━━━━━\u001b[0m\u001b[37m\u001b[0m \u001b[1m1s\u001b[0m 447us/step - loss: 0.2140 - val_loss: 0.2147\n",
      "Epoch 102/140\n",
      "\u001b[1m1397/1397\u001b[0m \u001b[32m━━━━━━━━━━━━━━━━━━━━\u001b[0m\u001b[37m\u001b[0m \u001b[1m1s\u001b[0m 428us/step - loss: 0.2140 - val_loss: 0.2165\n",
      "Epoch 103/140\n",
      "\u001b[1m1397/1397\u001b[0m \u001b[32m━━━━━━━━━━━━━━━━━━━━\u001b[0m\u001b[37m\u001b[0m \u001b[1m1s\u001b[0m 434us/step - loss: 0.2142 - val_loss: 0.2145\n",
      "Epoch 104/140\n",
      "\u001b[1m1397/1397\u001b[0m \u001b[32m━━━━━━━━━━━━━━━━━━━━\u001b[0m\u001b[37m\u001b[0m \u001b[1m1s\u001b[0m 430us/step - loss: 0.2135 - val_loss: 0.2156\n",
      "Epoch 105/140\n",
      "\u001b[1m1397/1397\u001b[0m \u001b[32m━━━━━━━━━━━━━━━━━━━━\u001b[0m\u001b[37m\u001b[0m \u001b[1m1s\u001b[0m 443us/step - loss: 0.2135 - val_loss: 0.2163\n",
      "Epoch 106/140\n",
      "\u001b[1m1397/1397\u001b[0m \u001b[32m━━━━━━━━━━━━━━━━━━━━\u001b[0m\u001b[37m\u001b[0m \u001b[1m1s\u001b[0m 444us/step - loss: 0.2134 - val_loss: 0.2129\n",
      "Epoch 107/140\n",
      "\u001b[1m1397/1397\u001b[0m \u001b[32m━━━━━━━━━━━━━━━━━━━━\u001b[0m\u001b[37m\u001b[0m \u001b[1m1s\u001b[0m 446us/step - loss: 0.2132 - val_loss: 0.2137\n",
      "Epoch 108/140\n",
      "\u001b[1m1397/1397\u001b[0m \u001b[32m━━━━━━━━━━━━━━━━━━━━\u001b[0m\u001b[37m\u001b[0m \u001b[1m1s\u001b[0m 443us/step - loss: 0.2127 - val_loss: 0.2158\n",
      "Epoch 109/140\n",
      "\u001b[1m1397/1397\u001b[0m \u001b[32m━━━━━━━━━━━━━━━━━━━━\u001b[0m\u001b[37m\u001b[0m \u001b[1m1s\u001b[0m 435us/step - loss: 0.2129 - val_loss: 0.2151\n",
      "Epoch 110/140\n",
      "\u001b[1m1397/1397\u001b[0m \u001b[32m━━━━━━━━━━━━━━━━━━━━\u001b[0m\u001b[37m\u001b[0m \u001b[1m1s\u001b[0m 445us/step - loss: 0.2128 - val_loss: 0.2151\n",
      "Epoch 111/140\n",
      "\u001b[1m1397/1397\u001b[0m \u001b[32m━━━━━━━━━━━━━━━━━━━━\u001b[0m\u001b[37m\u001b[0m \u001b[1m1s\u001b[0m 448us/step - loss: 0.2125 - val_loss: 0.2136\n",
      "Epoch 112/140\n",
      "\u001b[1m1397/1397\u001b[0m \u001b[32m━━━━━━━━━━━━━━━━━━━━\u001b[0m\u001b[37m\u001b[0m \u001b[1m1s\u001b[0m 443us/step - loss: 0.2123 - val_loss: 0.2163\n",
      "Epoch 113/140\n",
      "\u001b[1m1397/1397\u001b[0m \u001b[32m━━━━━━━━━━━━━━━━━━━━\u001b[0m\u001b[37m\u001b[0m \u001b[1m1s\u001b[0m 445us/step - loss: 0.2127 - val_loss: 0.2115\n",
      "Epoch 114/140\n",
      "\u001b[1m1397/1397\u001b[0m \u001b[32m━━━━━━━━━━━━━━━━━━━━\u001b[0m\u001b[37m\u001b[0m \u001b[1m1s\u001b[0m 434us/step - loss: 0.2121 - val_loss: 0.2121\n",
      "Epoch 115/140\n",
      "\u001b[1m1397/1397\u001b[0m \u001b[32m━━━━━━━━━━━━━━━━━━━━\u001b[0m\u001b[37m\u001b[0m \u001b[1m1s\u001b[0m 443us/step - loss: 0.2122 - val_loss: 0.2137\n",
      "Epoch 116/140\n",
      "\u001b[1m1397/1397\u001b[0m \u001b[32m━━━━━━━━━━━━━━━━━━━━\u001b[0m\u001b[37m\u001b[0m \u001b[1m1s\u001b[0m 442us/step - loss: 0.2121 - val_loss: 0.2132\n",
      "Epoch 117/140\n",
      "\u001b[1m1397/1397\u001b[0m \u001b[32m━━━━━━━━━━━━━━━━━━━━\u001b[0m\u001b[37m\u001b[0m \u001b[1m1s\u001b[0m 447us/step - loss: 0.2120 - val_loss: 0.2119\n",
      "Epoch 118/140\n",
      "\u001b[1m1397/1397\u001b[0m \u001b[32m━━━━━━━━━━━━━━━━━━━━\u001b[0m\u001b[37m\u001b[0m \u001b[1m1s\u001b[0m 450us/step - loss: 0.2115 - val_loss: 0.2118\n",
      "Epoch 119/140\n",
      "\u001b[1m1397/1397\u001b[0m \u001b[32m━━━━━━━━━━━━━━━━━━━━\u001b[0m\u001b[37m\u001b[0m \u001b[1m1s\u001b[0m 453us/step - loss: 0.2117 - val_loss: 0.2131\n",
      "Epoch 120/140\n",
      "\u001b[1m1397/1397\u001b[0m \u001b[32m━━━━━━━━━━━━━━━━━━━━\u001b[0m\u001b[37m\u001b[0m \u001b[1m1s\u001b[0m 446us/step - loss: 0.2118 - val_loss: 0.2138\n",
      "Epoch 121/140\n",
      "\u001b[1m1397/1397\u001b[0m \u001b[32m━━━━━━━━━━━━━━━━━━━━\u001b[0m\u001b[37m\u001b[0m \u001b[1m1s\u001b[0m 447us/step - loss: 0.2118 - val_loss: 0.2108\n",
      "Epoch 122/140\n",
      "\u001b[1m1397/1397\u001b[0m \u001b[32m━━━━━━━━━━━━━━━━━━━━\u001b[0m\u001b[37m\u001b[0m \u001b[1m1s\u001b[0m 446us/step - loss: 0.2113 - val_loss: 0.2144\n",
      "Epoch 123/140\n",
      "\u001b[1m1397/1397\u001b[0m \u001b[32m━━━━━━━━━━━━━━━━━━━━\u001b[0m\u001b[37m\u001b[0m \u001b[1m1s\u001b[0m 447us/step - loss: 0.2114 - val_loss: 0.2113\n",
      "Epoch 124/140\n",
      "\u001b[1m1397/1397\u001b[0m \u001b[32m━━━━━━━━━━━━━━━━━━━━\u001b[0m\u001b[37m\u001b[0m \u001b[1m1s\u001b[0m 449us/step - loss: 0.2112 - val_loss: 0.2124\n",
      "Epoch 125/140\n",
      "\u001b[1m1397/1397\u001b[0m \u001b[32m━━━━━━━━━━━━━━━━━━━━\u001b[0m\u001b[37m\u001b[0m \u001b[1m1s\u001b[0m 444us/step - loss: 0.2110 - val_loss: 0.2108\n",
      "Epoch 126/140\n",
      "\u001b[1m1397/1397\u001b[0m \u001b[32m━━━━━━━━━━━━━━━━━━━━\u001b[0m\u001b[37m\u001b[0m \u001b[1m1s\u001b[0m 445us/step - loss: 0.2108 - val_loss: 0.2109\n",
      "Epoch 127/140\n",
      "\u001b[1m1397/1397\u001b[0m \u001b[32m━━━━━━━━━━━━━━━━━━━━\u001b[0m\u001b[37m\u001b[0m \u001b[1m1s\u001b[0m 449us/step - loss: 0.2104 - val_loss: 0.2126\n",
      "Epoch 128/140\n",
      "\u001b[1m1397/1397\u001b[0m \u001b[32m━━━━━━━━━━━━━━━━━━━━\u001b[0m\u001b[37m\u001b[0m \u001b[1m1s\u001b[0m 448us/step - loss: 0.2102 - val_loss: 0.2120\n",
      "Epoch 129/140\n",
      "\u001b[1m1397/1397\u001b[0m \u001b[32m━━━━━━━━━━━━━━━━━━━━\u001b[0m\u001b[37m\u001b[0m \u001b[1m1s\u001b[0m 438us/step - loss: 0.2104 - val_loss: 0.2108\n",
      "Epoch 130/140\n",
      "\u001b[1m1397/1397\u001b[0m \u001b[32m━━━━━━━━━━━━━━━━━━━━\u001b[0m\u001b[37m\u001b[0m \u001b[1m1s\u001b[0m 457us/step - loss: 0.2103 - val_loss: 0.2127\n"
     ]
    },
    {
     "name": "stdout",
     "output_type": "stream",
     "text": [
      "Epoch 131/140\n",
      "\u001b[1m1397/1397\u001b[0m \u001b[32m━━━━━━━━━━━━━━━━━━━━\u001b[0m\u001b[37m\u001b[0m \u001b[1m1s\u001b[0m 431us/step - loss: 0.2103 - val_loss: 0.2113\n",
      "Epoch 132/140\n",
      "\u001b[1m1397/1397\u001b[0m \u001b[32m━━━━━━━━━━━━━━━━━━━━\u001b[0m\u001b[37m\u001b[0m \u001b[1m1s\u001b[0m 426us/step - loss: 0.2104 - val_loss: 0.2112\n",
      "Epoch 133/140\n",
      "\u001b[1m1397/1397\u001b[0m \u001b[32m━━━━━━━━━━━━━━━━━━━━\u001b[0m\u001b[37m\u001b[0m \u001b[1m1s\u001b[0m 425us/step - loss: 0.2101 - val_loss: 0.2149\n",
      "Epoch 134/140\n",
      "\u001b[1m1397/1397\u001b[0m \u001b[32m━━━━━━━━━━━━━━━━━━━━\u001b[0m\u001b[37m\u001b[0m \u001b[1m1s\u001b[0m 425us/step - loss: 0.2102 - val_loss: 0.2115\n",
      "Epoch 135/140\n",
      "\u001b[1m1397/1397\u001b[0m \u001b[32m━━━━━━━━━━━━━━━━━━━━\u001b[0m\u001b[37m\u001b[0m \u001b[1m1s\u001b[0m 423us/step - loss: 0.2097 - val_loss: 0.2113\n",
      "Epoch 136/140\n",
      "\u001b[1m1397/1397\u001b[0m \u001b[32m━━━━━━━━━━━━━━━━━━━━\u001b[0m\u001b[37m\u001b[0m \u001b[1m1s\u001b[0m 420us/step - loss: 0.2099 - val_loss: 0.2106\n",
      "Epoch 137/140\n",
      "\u001b[1m1397/1397\u001b[0m \u001b[32m━━━━━━━━━━━━━━━━━━━━\u001b[0m\u001b[37m\u001b[0m \u001b[1m1s\u001b[0m 421us/step - loss: 0.2097 - val_loss: 0.2099\n",
      "Epoch 138/140\n",
      "\u001b[1m1397/1397\u001b[0m \u001b[32m━━━━━━━━━━━━━━━━━━━━\u001b[0m\u001b[37m\u001b[0m \u001b[1m1s\u001b[0m 424us/step - loss: 0.2096 - val_loss: 0.2103\n",
      "Epoch 139/140\n",
      "\u001b[1m1397/1397\u001b[0m \u001b[32m━━━━━━━━━━━━━━━━━━━━\u001b[0m\u001b[37m\u001b[0m \u001b[1m1s\u001b[0m 434us/step - loss: 0.2095 - val_loss: 0.2106\n",
      "Epoch 140/140\n",
      "\u001b[1m1397/1397\u001b[0m \u001b[32m━━━━━━━━━━━━━━━━━━━━\u001b[0m\u001b[37m\u001b[0m \u001b[1m1s\u001b[0m 425us/step - loss: 0.2095 - val_loss: 0.2132\n"
     ]
    }
   ],
   "source": [
    "\n",
    "\n",
    "# Assuming X_train_transformed is your training feature set\n",
    "input_shape = (X_train_transformed.shape[1],)  # Dynamically set input shape\n",
    "\n",
    "inputs = Input(shape=input_shape)\n",
    "\n",
    "# Creating a simple dense network\n",
    "x = Dense(32, activation='relu')(inputs)\n",
    "x1 = Dense(16, activation='relu')(x)\n",
    "#x2 = Dense(8, activation='relu')(x1)\n",
    "outputs = Dense(1, activation='linear')(x1)  # Assuming a regression problem; adjust if it's classification\n",
    "\n",
    "# Create the model\n",
    "model = Model(inputs=inputs, outputs=outputs)\n",
    "\n",
    "# Compile the model with adjustable learning rate\n",
    "learning_rate = 0.001  # Placeholder for learning rate\n",
    "optimizer = Adam(learning_rate=learning_rate)\n",
    "model.compile(optimizer=optimizer,\n",
    "              loss='mean_squared_error')  # Use 'categorical_crossentropy' for multi-class classification,\n",
    "\n",
    "\n",
    "model.summary()\n",
    "\n",
    "# Placeholder for epochs\n",
    "epochs = 140  # Adjust the number of epochs\n",
    "\n",
    "# Training the model with the training data and validating using the validation set\n",
    "history = model.fit(X_train_transformed, y_train_log,\n",
    "                    validation_data=(X_val_transformed, y_val_log),\n",
    "                    epochs=epochs,\n",
    "                    batch_size=128)  # Adjust batch size as necessary\n"
   ]
  },
  {
   "cell_type": "code",
   "execution_count": 54,
   "id": "6ae8ed32",
   "metadata": {},
   "outputs": [
    {
     "data": {
      "text/plain": [
       "[<matplotlib.lines.Line2D at 0x2d03a4b20>]"
      ]
     },
     "execution_count": 54,
     "metadata": {},
     "output_type": "execute_result"
    },
    {
     "data": {
      "image/png": "[encoded data removed]",
      "text/plain": [
       "<Figure size 640x480 with 1 Axes>"
      ]
     },
     "metadata": {},
     "output_type": "display_data"
    }
   ],
   "source": [
    "# import matplotlib.pyplot as plt\n",
    "plt.plot(history.history['val_loss'])\n",
    "plt.plot(history.history['loss'])\n"
   ]
  },
  {
   "cell_type": "code",
   "execution_count": 55,
   "id": "1b06a902",
   "metadata": {},
   "outputs": [
    {
     "name": "stdout",
     "output_type": "stream",
     "text": [
      "\u001b[1m798/798\u001b[0m \u001b[32m━━━━━━━━━━━━━━━━━━━━\u001b[0m\u001b[37m\u001b[0m \u001b[1m0s\u001b[0m 257us/step\n"
     ]
    }
   ],
   "source": [
    "y_test_pred = model.predict(X_test_transformed)\n",
    "y_test_pred_O = np.expm1(y_test_pred)\n"
   ]
  },
  {
   "cell_type": "code",
   "execution_count": 56,
   "id": "f5cb2f75",
   "metadata": {},
   "outputs": [
    {
     "name": "stdout",
     "output_type": "stream",
     "text": [
      "Mean Absolute Error (MAE): 2.5787916815655483\n",
      "Mean Squared Error (MSE): 21.94998248515198\n",
      "Root Mean Squared Error (RMSE): 4.685080840834231\n",
      "R-squared Score: 0.7910050807692265\n"
     ]
    },
    {
     "name": "stderr",
     "output_type": "stream",
     "text": [
      "/Users/juliakauffmann/miniforge3/envs/capstonev/lib/python3.10/site-packages/sklearn/metrics/_regression.py:483: FutureWarning: 'squared' is deprecated in version 1.4 and will be removed in 1.6. To calculate the root mean squared error, use the function'root_mean_squared_error'.\n",
      "  warnings.warn(\n"
     ]
    }
   ],
   "source": [
    "from sklearn.metrics import mean_absolute_error, mean_squared_error, r2_score\n",
    "\n",
    "print(\"Mean Absolute Error (MAE):\", mean_absolute_error(y_test, y_test_pred_O))\n",
    "print(\"Mean Squared Error (MSE):\", mean_squared_error(y_test, y_test_pred_O))\n",
    "print(\"Root Mean Squared Error (RMSE):\", mean_squared_error(y_test, y_test_pred_O, squared=False))\n",
    "print(\"R-squared Score:\", r2_score(y_test, y_test_pred_O))\n"
   ]
  },
  {
   "cell_type": "code",
   "execution_count": 57,
   "id": "383ce09f",
   "metadata": {},
   "outputs": [
    {
     "data": {
      "text/html": [
       "<div>\n",
       "<style scoped>\n",
       "    .dataframe tbody tr th:only-of-type {\n",
       "        vertical-align: middle;\n",
       "    }\n",
       "\n",
       "    .dataframe tbody tr th {\n",
       "        vertical-align: top;\n",
       "    }\n",
       "\n",
       "    .dataframe thead th {\n",
       "        text-align: right;\n",
       "    }\n",
       "</style>\n",
       "<table border=\"1\" class=\"dataframe\">\n",
       "  <thead>\n",
       "    <tr style=\"text-align: right;\">\n",
       "      <th></th>\n",
       "      <th>latitude</th>\n",
       "      <th>longitude</th>\n",
       "      <th>avg_pm10</th>\n",
       "      <th>avg_pm2</th>\n",
       "      <th>county_encoded</th>\n",
       "      <th>category_encoded</th>\n",
       "      <th>month</th>\n",
       "    </tr>\n",
       "  </thead>\n",
       "  <tbody>\n",
       "    <tr>\n",
       "      <th>0</th>\n",
       "      <td>41.153950</td>\n",
       "      <td>-111.937020</td>\n",
       "      <td>111.263967</td>\n",
       "      <td>110.958733</td>\n",
       "      <td>2</td>\n",
       "      <td>3</td>\n",
       "      <td>9</td>\n",
       "    </tr>\n",
       "    <tr>\n",
       "      <th>1</th>\n",
       "      <td>40.639800</td>\n",
       "      <td>-111.822510</td>\n",
       "      <td>141.949592</td>\n",
       "      <td>141.612708</td>\n",
       "      <td>1</td>\n",
       "      <td>4</td>\n",
       "      <td>9</td>\n",
       "    </tr>\n",
       "    <tr>\n",
       "      <th>2</th>\n",
       "      <td>41.063160</td>\n",
       "      <td>-111.903320</td>\n",
       "      <td>79.045115</td>\n",
       "      <td>78.739573</td>\n",
       "      <td>3</td>\n",
       "      <td>4</td>\n",
       "      <td>9</td>\n",
       "    </tr>\n",
       "    <tr>\n",
       "      <th>3</th>\n",
       "      <td>40.574078</td>\n",
       "      <td>-111.958800</td>\n",
       "      <td>141.949592</td>\n",
       "      <td>141.612708</td>\n",
       "      <td>1</td>\n",
       "      <td>4</td>\n",
       "      <td>9</td>\n",
       "    </tr>\n",
       "    <tr>\n",
       "      <th>4</th>\n",
       "      <td>41.066500</td>\n",
       "      <td>-111.912445</td>\n",
       "      <td>79.045115</td>\n",
       "      <td>78.739573</td>\n",
       "      <td>3</td>\n",
       "      <td>4</td>\n",
       "      <td>9</td>\n",
       "    </tr>\n",
       "    <tr>\n",
       "      <th>...</th>\n",
       "      <td>...</td>\n",
       "      <td>...</td>\n",
       "      <td>...</td>\n",
       "      <td>...</td>\n",
       "      <td>...</td>\n",
       "      <td>...</td>\n",
       "      <td>...</td>\n",
       "    </tr>\n",
       "    <tr>\n",
       "      <th>265671</th>\n",
       "      <td>40.987300</td>\n",
       "      <td>-111.928600</td>\n",
       "      <td>30.669000</td>\n",
       "      <td>27.952500</td>\n",
       "      <td>3</td>\n",
       "      <td>4</td>\n",
       "      <td>1</td>\n",
       "    </tr>\n",
       "    <tr>\n",
       "      <th>265672</th>\n",
       "      <td>40.733440</td>\n",
       "      <td>-111.821510</td>\n",
       "      <td>17.150500</td>\n",
       "      <td>15.120600</td>\n",
       "      <td>1</td>\n",
       "      <td>3</td>\n",
       "      <td>1</td>\n",
       "    </tr>\n",
       "    <tr>\n",
       "      <th>265673</th>\n",
       "      <td>40.664246</td>\n",
       "      <td>-111.849230</td>\n",
       "      <td>17.150500</td>\n",
       "      <td>15.120600</td>\n",
       "      <td>1</td>\n",
       "      <td>4</td>\n",
       "      <td>1</td>\n",
       "    </tr>\n",
       "    <tr>\n",
       "      <th>265674</th>\n",
       "      <td>40.750816</td>\n",
       "      <td>-111.825290</td>\n",
       "      <td>56.609000</td>\n",
       "      <td>43.520000</td>\n",
       "      <td>1</td>\n",
       "      <td>1</td>\n",
       "      <td>1</td>\n",
       "    </tr>\n",
       "    <tr>\n",
       "      <th>265675</th>\n",
       "      <td>41.224422</td>\n",
       "      <td>-111.968376</td>\n",
       "      <td>27.592500</td>\n",
       "      <td>21.269000</td>\n",
       "      <td>2</td>\n",
       "      <td>1</td>\n",
       "      <td>1</td>\n",
       "    </tr>\n",
       "  </tbody>\n",
       "</table>\n",
       "<p>255344 rows × 7 columns</p>\n",
       "</div>"
      ],
      "text/plain": [
       "         latitude   longitude    avg_pm10     avg_pm2  county_encoded  \\\n",
       "0       41.153950 -111.937020  111.263967  110.958733               2   \n",
       "1       40.639800 -111.822510  141.949592  141.612708               1   \n",
       "2       41.063160 -111.903320   79.045115   78.739573               3   \n",
       "3       40.574078 -111.958800  141.949592  141.612708               1   \n",
       "4       41.066500 -111.912445   79.045115   78.739573               3   \n",
       "...           ...         ...         ...         ...             ...   \n",
       "265671  40.987300 -111.928600   30.669000   27.952500               3   \n",
       "265672  40.733440 -111.821510   17.150500   15.120600               1   \n",
       "265673  40.664246 -111.849230   17.150500   15.120600               1   \n",
       "265674  40.750816 -111.825290   56.609000   43.520000               1   \n",
       "265675  41.224422 -111.968376   27.592500   21.269000               2   \n",
       "\n",
       "        category_encoded  month  \n",
       "0                      3      9  \n",
       "1                      4      9  \n",
       "2                      4      9  \n",
       "3                      4      9  \n",
       "4                      4      9  \n",
       "...                  ...    ...  \n",
       "265671                 4      1  \n",
       "265672                 3      1  \n",
       "265673                 4      1  \n",
       "265674                 1      1  \n",
       "265675                 1      1  \n",
       "\n",
       "[255344 rows x 7 columns]"
      ]
     },
     "execution_count": 57,
     "metadata": {},
     "output_type": "execute_result"
    }
   ],
   "source": [
    "X"
   ]
  },
  {
   "cell_type": "code",
   "execution_count": 58,
   "id": "b0384e3e",
   "metadata": {},
   "outputs": [
    {
     "name": "stderr",
     "output_type": "stream",
     "text": [
      "WARNING:absl:You are saving your model as an HDF5 file via `model.save()` or `keras.saving.save_model(model)`. This file format is considered legacy. We recommend using instead the native Keras format, e.g. `model.save('my_model.keras')` or `keras.saving.save_model(model, 'my_model.keras')`. \n"
     ]
    }
   ],
   "source": [
    "model.save('../static/data/nnn_model_1.h5')\n"
   ]
  },
  {
   "cell_type": "code",
   "execution_count": 57,
   "id": "a5c4320d",
   "metadata": {},
   "outputs": [
    {
     "data": {
      "text/plain": [
       "array([[ 1.7956142],\n",
       "       [ 3.5925062],\n",
       "       [28.04021  ],\n",
       "       ...,\n",
       "       [ 1.4853419],\n",
       "       [ 4.168177 ],\n",
       "       [ 1.0639913]], dtype=float32)"
      ]
     },
     "execution_count": 57,
     "metadata": {},
     "output_type": "execute_result"
    }
   ],
   "source": [
    "y_test_pred_O"
   ]
  },
  {
   "cell_type": "code",
   "execution_count": 52,
   "id": "8cf3fe27",
   "metadata": {},
   "outputs": [
    {
     "data": {
      "text/html": [
       "<div>\n",
       "<style scoped>\n",
       "    .dataframe tbody tr th:only-of-type {\n",
       "        vertical-align: middle;\n",
       "    }\n",
       "\n",
       "    .dataframe tbody tr th {\n",
       "        vertical-align: top;\n",
       "    }\n",
       "\n",
       "    .dataframe thead th {\n",
       "        text-align: right;\n",
       "    }\n",
       "</style>\n",
       "<table border=\"1\" class=\"dataframe\">\n",
       "  <thead>\n",
       "    <tr style=\"text-align: right;\">\n",
       "      <th></th>\n",
       "      <th>latitude</th>\n",
       "      <th>longitude</th>\n",
       "      <th>avg_pm10</th>\n",
       "      <th>avg_pm2</th>\n",
       "      <th>county_encoded</th>\n",
       "      <th>category_encoded</th>\n",
       "      <th>month</th>\n",
       "    </tr>\n",
       "  </thead>\n",
       "  <tbody>\n",
       "    <tr>\n",
       "      <th>140082</th>\n",
       "      <td>40.785297</td>\n",
       "      <td>-111.863075</td>\n",
       "      <td>87.882076</td>\n",
       "      <td>87.496826</td>\n",
       "      <td>1</td>\n",
       "      <td>4</td>\n",
       "      <td>3</td>\n",
       "    </tr>\n",
       "    <tr>\n",
       "      <th>236733</th>\n",
       "      <td>40.696266</td>\n",
       "      <td>-111.877380</td>\n",
       "      <td>28.262254</td>\n",
       "      <td>27.768127</td>\n",
       "      <td>1</td>\n",
       "      <td>2</td>\n",
       "      <td>10</td>\n",
       "    </tr>\n",
       "    <tr>\n",
       "      <th>170538</th>\n",
       "      <td>41.118140</td>\n",
       "      <td>-112.031425</td>\n",
       "      <td>62.482979</td>\n",
       "      <td>57.820677</td>\n",
       "      <td>3</td>\n",
       "      <td>1</td>\n",
       "      <td>2</td>\n",
       "    </tr>\n",
       "    <tr>\n",
       "      <th>194180</th>\n",
       "      <td>40.686424</td>\n",
       "      <td>-112.018810</td>\n",
       "      <td>41.071299</td>\n",
       "      <td>40.756886</td>\n",
       "      <td>1</td>\n",
       "      <td>3</td>\n",
       "      <td>12</td>\n",
       "    </tr>\n",
       "    <tr>\n",
       "      <th>252070</th>\n",
       "      <td>40.691936</td>\n",
       "      <td>-111.991470</td>\n",
       "      <td>188.458205</td>\n",
       "      <td>185.751415</td>\n",
       "      <td>1</td>\n",
       "      <td>2</td>\n",
       "      <td>1</td>\n",
       "    </tr>\n",
       "    <tr>\n",
       "      <th>...</th>\n",
       "      <td>...</td>\n",
       "      <td>...</td>\n",
       "      <td>...</td>\n",
       "      <td>...</td>\n",
       "      <td>...</td>\n",
       "      <td>...</td>\n",
       "      <td>...</td>\n",
       "    </tr>\n",
       "    <tr>\n",
       "      <th>255933</th>\n",
       "      <td>40.678450</td>\n",
       "      <td>-111.893990</td>\n",
       "      <td>84.995228</td>\n",
       "      <td>78.022272</td>\n",
       "      <td>1</td>\n",
       "      <td>2</td>\n",
       "      <td>1</td>\n",
       "    </tr>\n",
       "    <tr>\n",
       "      <th>116423</th>\n",
       "      <td>40.703102</td>\n",
       "      <td>-112.023630</td>\n",
       "      <td>85.823850</td>\n",
       "      <td>85.494863</td>\n",
       "      <td>1</td>\n",
       "      <td>3</td>\n",
       "      <td>4</td>\n",
       "    </tr>\n",
       "    <tr>\n",
       "      <th>119824</th>\n",
       "      <td>41.153950</td>\n",
       "      <td>-111.937020</td>\n",
       "      <td>1.399179</td>\n",
       "      <td>1.161071</td>\n",
       "      <td>2</td>\n",
       "      <td>3</td>\n",
       "      <td>4</td>\n",
       "    </tr>\n",
       "    <tr>\n",
       "      <th>220288</th>\n",
       "      <td>40.620068</td>\n",
       "      <td>-111.840866</td>\n",
       "      <td>138.224890</td>\n",
       "      <td>137.793809</td>\n",
       "      <td>1</td>\n",
       "      <td>3</td>\n",
       "      <td>10</td>\n",
       "    </tr>\n",
       "    <tr>\n",
       "      <th>190267</th>\n",
       "      <td>40.686424</td>\n",
       "      <td>-112.018810</td>\n",
       "      <td>40.624654</td>\n",
       "      <td>40.408681</td>\n",
       "      <td>1</td>\n",
       "      <td>3</td>\n",
       "      <td>12</td>\n",
       "    </tr>\n",
       "  </tbody>\n",
       "</table>\n",
       "<p>25671 rows × 7 columns</p>\n",
       "</div>"
      ],
      "text/plain": [
       "         latitude   longitude    avg_pm10     avg_pm2  county_encoded  \\\n",
       "140082  40.785297 -111.863075   87.882076   87.496826               1   \n",
       "236733  40.696266 -111.877380   28.262254   27.768127               1   \n",
       "170538  41.118140 -112.031425   62.482979   57.820677               3   \n",
       "194180  40.686424 -112.018810   41.071299   40.756886               1   \n",
       "252070  40.691936 -111.991470  188.458205  185.751415               1   \n",
       "...           ...         ...         ...         ...             ...   \n",
       "255933  40.678450 -111.893990   84.995228   78.022272               1   \n",
       "116423  40.703102 -112.023630   85.823850   85.494863               1   \n",
       "119824  41.153950 -111.937020    1.399179    1.161071               2   \n",
       "220288  40.620068 -111.840866  138.224890  137.793809               1   \n",
       "190267  40.686424 -112.018810   40.624654   40.408681               1   \n",
       "\n",
       "        category_encoded  month  \n",
       "140082                 4      3  \n",
       "236733                 2     10  \n",
       "170538                 1      2  \n",
       "194180                 3     12  \n",
       "252070                 2      1  \n",
       "...                  ...    ...  \n",
       "255933                 2      1  \n",
       "116423                 3      4  \n",
       "119824                 3      4  \n",
       "220288                 3     10  \n",
       "190267                 3     12  \n",
       "\n",
       "[25671 rows x 7 columns]"
      ]
     },
     "execution_count": 52,
     "metadata": {},
     "output_type": "execute_result"
    }
   ],
   "source": [
    "X_test"
   ]
  },
  {
   "cell_type": "code",
   "execution_count": null,
   "id": "58aa0175",
   "metadata": {},
   "outputs": [],
   "source": []
  }
 ],
 "metadata": {
  "kernelspec": {
   "display_name": "Python (capstonev)",
   "language": "python",
   "name": "capstonev"
  },
  "language_info": {
   "codemirror_mode": {
    "name": "ipython",
    "version": 3
   },
   "file_extension": ".py",
   "mimetype": "text/x-python",
   "name": "python",
   "nbconvert_exporter": "python",
   "pygments_lexer": "ipython3",
   "version": "3.10.13"
  }
 },
 "nbformat": 4,
 "nbformat_minor": 5
}
