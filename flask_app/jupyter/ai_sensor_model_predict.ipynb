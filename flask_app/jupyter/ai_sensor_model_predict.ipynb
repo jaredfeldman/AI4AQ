{
 "cells": [
  {
   "cell_type": "code",
   "execution_count": 50,
   "id": "d96148f7",
   "metadata": {},
   "outputs": [],
   "source": [
    "from tensorflow.keras.models import load_model\n",
    "import pandas as pd\n",
    "import sqlite3\n",
    "from datetime import datetime, timedelta\n",
    "from joblib import load\n",
    "import numpy as np\n",
    "import geopandas as gpd"
   ]
  },
  {
   "cell_type": "code",
   "execution_count": null,
   "id": "1a6d4cd6",
   "metadata": {},
   "outputs": [],
   "source": []
  },
  {
   "cell_type": "code",
   "execution_count": 84,
   "id": "c3ae77be",
   "metadata": {},
   "outputs": [
    {
     "name": "stderr",
     "output_type": "stream",
     "text": [
      "WARNING:absl:Compiled the loaded model, but the compiled metrics have yet to be built. `model.compile_metrics` will be empty until you train or evaluate the model.\n"
     ]
    }
   ],
   "source": [
    "# Load Model\n",
    "model = load_model('../static/data/nnn_model_1.h5')\n"
   ]
  },
  {
   "cell_type": "code",
   "execution_count": 39,
   "id": "3d9bd470",
   "metadata": {},
   "outputs": [],
   "source": [
    "# Prep Input\n",
    "# Predict Inputs\n",
    "\n",
    "input_lng = -111.88080951152304\n",
    "input_lat = 41.08032456289652\n",
    "input_date = '2020-11-18'\n",
    "predict_input = pd.DataFrame({'longitude':input_lng,'latitude':input_lat,'date':input_date}, index = [0])"
   ]
  },
  {
   "cell_type": "code",
   "execution_count": 40,
   "id": "b561c608",
   "metadata": {},
   "outputs": [],
   "source": [
    "# Convert strings to datetime objects\n",
    "begin_date_obj = datetime.strptime(input_date, \"%Y-%m-%d\")\n",
    "end_date_obj = begin_date_obj + timedelta(days=1)\n",
    "\n",
    "# Convert back to string\n",
    "end_date = end_date_obj.strftime(\"%Y-%m-%d\")"
   ]
  },
  {
   "cell_type": "code",
   "execution_count": 41,
   "id": "25438f36",
   "metadata": {},
   "outputs": [
    {
     "data": {
      "text/html": [
       "<div>\n",
       "<style scoped>\n",
       "    .dataframe tbody tr th:only-of-type {\n",
       "        vertical-align: middle;\n",
       "    }\n",
       "\n",
       "    .dataframe tbody tr th {\n",
       "        vertical-align: top;\n",
       "    }\n",
       "\n",
       "    .dataframe thead th {\n",
       "        text-align: right;\n",
       "    }\n",
       "</style>\n",
       "<table border=\"1\" class=\"dataframe\">\n",
       "  <thead>\n",
       "    <tr style=\"text-align: right;\">\n",
       "      <th></th>\n",
       "      <th>sensor_id</th>\n",
       "      <th>pm2</th>\n",
       "    </tr>\n",
       "  </thead>\n",
       "  <tbody>\n",
       "    <tr>\n",
       "      <th>0</th>\n",
       "      <td>18321</td>\n",
       "      <td>2.6435</td>\n",
       "    </tr>\n",
       "    <tr>\n",
       "      <th>1</th>\n",
       "      <td>6356</td>\n",
       "      <td>0.2815</td>\n",
       "    </tr>\n",
       "    <tr>\n",
       "      <th>2</th>\n",
       "      <td>18259</td>\n",
       "      <td>1.5640</td>\n",
       "    </tr>\n",
       "    <tr>\n",
       "      <th>3</th>\n",
       "      <td>6298</td>\n",
       "      <td>1.2870</td>\n",
       "    </tr>\n",
       "    <tr>\n",
       "      <th>4</th>\n",
       "      <td>5742</td>\n",
       "      <td>2.0365</td>\n",
       "    </tr>\n",
       "    <tr>\n",
       "      <th>...</th>\n",
       "      <td>...</td>\n",
       "      <td>...</td>\n",
       "    </tr>\n",
       "    <tr>\n",
       "      <th>222</th>\n",
       "      <td>62211</td>\n",
       "      <td>0.9895</td>\n",
       "    </tr>\n",
       "    <tr>\n",
       "      <th>223</th>\n",
       "      <td>31013</td>\n",
       "      <td>2.6375</td>\n",
       "    </tr>\n",
       "    <tr>\n",
       "      <th>224</th>\n",
       "      <td>18375</td>\n",
       "      <td>1.1360</td>\n",
       "    </tr>\n",
       "    <tr>\n",
       "      <th>225</th>\n",
       "      <td>6050</td>\n",
       "      <td>1.2960</td>\n",
       "    </tr>\n",
       "    <tr>\n",
       "      <th>226</th>\n",
       "      <td>13283</td>\n",
       "      <td>0.7125</td>\n",
       "    </tr>\n",
       "  </tbody>\n",
       "</table>\n",
       "<p>227 rows × 2 columns</p>\n",
       "</div>"
      ],
      "text/plain": [
       "     sensor_id     pm2\n",
       "0        18321  2.6435\n",
       "1         6356  0.2815\n",
       "2        18259  1.5640\n",
       "3         6298  1.2870\n",
       "4         5742  2.0365\n",
       "..         ...     ...\n",
       "222      62211  0.9895\n",
       "223      31013  2.6375\n",
       "224      18375  1.1360\n",
       "225       6050  1.2960\n",
       "226      13283  0.7125\n",
       "\n",
       "[227 rows x 2 columns]"
      ]
     },
     "execution_count": 41,
     "metadata": {},
     "output_type": "execute_result"
    }
   ],
   "source": [
    "# Set up sqlite\n",
    "connection = sqlite3.connect('../static/data/sensors_readings_2016_present.db')\n",
    "\n",
    "# Assemble Query\n",
    "sql_query = \"\"\"\n",
    "SELECT sensor_id, pm2\n",
    "FROM sensors_readings\n",
    "WHERE date(date) BETWEEN ? AND ?\n",
    "\"\"\"\n",
    "\n",
    "# Execute the query\n",
    "df = pd.read_sql_query(sql_query, connection, params=(input_date, end_date))\n",
    "\n",
    "connection.close()\n",
    "df"
   ]
  },
  {
   "cell_type": "code",
   "execution_count": 42,
   "id": "f3d25b4f",
   "metadata": {},
   "outputs": [
    {
     "data": {
      "text/html": [
       "<div>\n",
       "<style scoped>\n",
       "    .dataframe tbody tr th:only-of-type {\n",
       "        vertical-align: middle;\n",
       "    }\n",
       "\n",
       "    .dataframe tbody tr th {\n",
       "        vertical-align: top;\n",
       "    }\n",
       "\n",
       "    .dataframe thead th {\n",
       "        text-align: right;\n",
       "    }\n",
       "</style>\n",
       "<table border=\"1\" class=\"dataframe\">\n",
       "  <thead>\n",
       "    <tr style=\"text-align: right;\">\n",
       "      <th></th>\n",
       "      <th>sensor_id</th>\n",
       "      <th>pm2</th>\n",
       "      <th>category</th>\n",
       "      <th>county</th>\n",
       "    </tr>\n",
       "  </thead>\n",
       "  <tbody>\n",
       "    <tr>\n",
       "      <th>0</th>\n",
       "      <td>18321</td>\n",
       "      <td>2.6435</td>\n",
       "      <td>green</td>\n",
       "      <td>Salt Lake County</td>\n",
       "    </tr>\n",
       "    <tr>\n",
       "      <th>1</th>\n",
       "      <td>6356</td>\n",
       "      <td>0.2815</td>\n",
       "      <td>orange</td>\n",
       "      <td>Salt Lake County</td>\n",
       "    </tr>\n",
       "    <tr>\n",
       "      <th>2</th>\n",
       "      <td>18259</td>\n",
       "      <td>1.5640</td>\n",
       "      <td>green</td>\n",
       "      <td>Salt Lake County</td>\n",
       "    </tr>\n",
       "    <tr>\n",
       "      <th>3</th>\n",
       "      <td>6298</td>\n",
       "      <td>1.2870</td>\n",
       "      <td>green</td>\n",
       "      <td>Davis County</td>\n",
       "    </tr>\n",
       "    <tr>\n",
       "      <th>4</th>\n",
       "      <td>5742</td>\n",
       "      <td>2.0365</td>\n",
       "      <td>blue</td>\n",
       "      <td>Salt Lake County</td>\n",
       "    </tr>\n",
       "  </tbody>\n",
       "</table>\n",
       "</div>"
      ],
      "text/plain": [
       "   sensor_id     pm2 category            county\n",
       "0      18321  2.6435    green  Salt Lake County\n",
       "1       6356  0.2815   orange  Salt Lake County\n",
       "2      18259  1.5640    green  Salt Lake County\n",
       "3       6298  1.2870    green      Davis County\n",
       "4       5742  2.0365     blue  Salt Lake County"
      ]
     },
     "execution_count": 42,
     "metadata": {},
     "output_type": "execute_result"
    }
   ],
   "source": [
    "# merge with sensor cateogires\n",
    "df_cat = pd.read_csv('../static/data/sensor_categories.csv')\n",
    "df = df.merge(df_cat, on = 'sensor_id')\n",
    "df.head()"
   ]
  },
  {
   "cell_type": "code",
   "execution_count": 43,
   "id": "b680b5af",
   "metadata": {},
   "outputs": [],
   "source": [
    "df = df[['county','pm2']]"
   ]
  },
  {
   "cell_type": "code",
   "execution_count": 44,
   "id": "ffe677a5",
   "metadata": {},
   "outputs": [],
   "source": [
    "df = df.groupby('county').mean()"
   ]
  },
  {
   "cell_type": "code",
   "execution_count": 45,
   "id": "12cbc847",
   "metadata": {},
   "outputs": [],
   "source": [
    "df.reset_index(inplace = True)"
   ]
  },
  {
   "cell_type": "code",
   "execution_count": 67,
   "id": "25c0a861",
   "metadata": {},
   "outputs": [
    {
     "data": {
      "text/plain": [
       "longitude    float64\n",
       "latitude     float64\n",
       "date          object\n",
       "dtype: object"
      ]
     },
     "execution_count": 67,
     "metadata": {},
     "output_type": "execute_result"
    }
   ],
   "source": [
    "predict_input.dtypes"
   ]
  },
  {
   "cell_type": "code",
   "execution_count": null,
   "id": "7f10600a",
   "metadata": {},
   "outputs": [],
   "source": []
  },
  {
   "cell_type": "code",
   "execution_count": 68,
   "id": "7d910032",
   "metadata": {},
   "outputs": [],
   "source": [
    "url = '../static/data/centroids_merge.csv'\n",
    "predict_input = predict_input.merge(pd.read_csv(url), on = ['latitude','longitude'])\n"
   ]
  },
  {
   "cell_type": "code",
   "execution_count": 69,
   "id": "d9afbd0b",
   "metadata": {},
   "outputs": [
    {
     "data": {
      "text/html": [
       "<div>\n",
       "<style scoped>\n",
       "    .dataframe tbody tr th:only-of-type {\n",
       "        vertical-align: middle;\n",
       "    }\n",
       "\n",
       "    .dataframe tbody tr th {\n",
       "        vertical-align: top;\n",
       "    }\n",
       "\n",
       "    .dataframe thead th {\n",
       "        text-align: right;\n",
       "    }\n",
       "</style>\n",
       "<table border=\"1\" class=\"dataframe\">\n",
       "  <thead>\n",
       "    <tr style=\"text-align: right;\">\n",
       "      <th></th>\n",
       "      <th>longitude</th>\n",
       "      <th>latitude</th>\n",
       "      <th>date</th>\n",
       "      <th>Unnamed: 0</th>\n",
       "      <th>county</th>\n",
       "      <th>category</th>\n",
       "    </tr>\n",
       "  </thead>\n",
       "  <tbody>\n",
       "    <tr>\n",
       "      <th>0</th>\n",
       "      <td>-111.88081</td>\n",
       "      <td>41.080325</td>\n",
       "      <td>2020-11-18</td>\n",
       "      <td>0</td>\n",
       "      <td>Davis County</td>\n",
       "      <td>blue</td>\n",
       "    </tr>\n",
       "  </tbody>\n",
       "</table>\n",
       "</div>"
      ],
      "text/plain": [
       "   longitude   latitude        date  Unnamed: 0        county category\n",
       "0 -111.88081  41.080325  2020-11-18           0  Davis County     blue"
      ]
     },
     "execution_count": 69,
     "metadata": {},
     "output_type": "execute_result"
    }
   ],
   "source": [
    "predict_input = predict_input"
   ]
  },
  {
   "cell_type": "code",
   "execution_count": 70,
   "id": "7cfee0cb",
   "metadata": {},
   "outputs": [],
   "source": [
    "predict_input['month'] = begin_date_obj.month\n",
    "\n",
    "# Print the column names\n",
    "predict_input['avg_pm2'] = df.loc[df.county == list(true_column)[0].split('_')[1]].pm2.values[0]\n"
   ]
  },
  {
   "cell_type": "code",
   "execution_count": 71,
   "id": "6c092994",
   "metadata": {},
   "outputs": [
    {
     "data": {
      "text/html": [
       "<div>\n",
       "<style scoped>\n",
       "    .dataframe tbody tr th:only-of-type {\n",
       "        vertical-align: middle;\n",
       "    }\n",
       "\n",
       "    .dataframe tbody tr th {\n",
       "        vertical-align: top;\n",
       "    }\n",
       "\n",
       "    .dataframe thead th {\n",
       "        text-align: right;\n",
       "    }\n",
       "</style>\n",
       "<table border=\"1\" class=\"dataframe\">\n",
       "  <thead>\n",
       "    <tr style=\"text-align: right;\">\n",
       "      <th></th>\n",
       "      <th>longitude</th>\n",
       "      <th>latitude</th>\n",
       "      <th>date</th>\n",
       "      <th>Unnamed: 0</th>\n",
       "      <th>county</th>\n",
       "      <th>category</th>\n",
       "      <th>month</th>\n",
       "      <th>avg_pm2</th>\n",
       "    </tr>\n",
       "  </thead>\n",
       "  <tbody>\n",
       "    <tr>\n",
       "      <th>0</th>\n",
       "      <td>-111.88081</td>\n",
       "      <td>41.080325</td>\n",
       "      <td>2020-11-18</td>\n",
       "      <td>0</td>\n",
       "      <td>Davis County</td>\n",
       "      <td>blue</td>\n",
       "      <td>11</td>\n",
       "      <td>1.268242</td>\n",
       "    </tr>\n",
       "  </tbody>\n",
       "</table>\n",
       "</div>"
      ],
      "text/plain": [
       "   longitude   latitude        date  Unnamed: 0        county category  month  \\\n",
       "0 -111.88081  41.080325  2020-11-18           0  Davis County     blue     11   \n",
       "\n",
       "    avg_pm2  \n",
       "0  1.268242  "
      ]
     },
     "execution_count": 71,
     "metadata": {},
     "output_type": "execute_result"
    }
   ],
   "source": [
    "predict_input"
   ]
  },
  {
   "cell_type": "code",
   "execution_count": 72,
   "id": "d740c4d2",
   "metadata": {},
   "outputs": [],
   "source": [
    "category_map = {'red':1,'orange':2,'green':3,'blue':4}\n",
    "county_map = {'Salt Lake County':1,'Weber County':2,'Davis County':3}\n",
    "df = predict_input\n",
    "df['county_encoded'] = df['county'].map(county_map)\n",
    "df['category_encoded'] = df['category'].map(category_map)"
   ]
  },
  {
   "cell_type": "code",
   "execution_count": 114,
   "id": "87e9dbe5",
   "metadata": {},
   "outputs": [
    {
     "name": "stderr",
     "output_type": "stream",
     "text": [
      "/var/folders/kn/v0dr_8xn1qj15xgwlhdyfzph0000gn/T/ipykernel_83520/1591629937.py:2: SettingWithCopyWarning: \n",
      "A value is trying to be set on a copy of a slice from a DataFrame.\n",
      "Try using .loc[row_indexer,col_indexer] = value instead\n",
      "\n",
      "See the caveats in the documentation: https://pandas.pydata.org/pandas-docs/stable/user_guide/indexing.html#returning-a-view-versus-a-copy\n",
      "  df['avg_pm10'] = 30.5\n",
      "/var/folders/kn/v0dr_8xn1qj15xgwlhdyfzph0000gn/T/ipykernel_83520/1591629937.py:3: SettingWithCopyWarning: \n",
      "A value is trying to be set on a copy of a slice from a DataFrame.\n",
      "Try using .loc[row_indexer,col_indexer] = value instead\n",
      "\n",
      "See the caveats in the documentation: https://pandas.pydata.org/pandas-docs/stable/user_guide/indexing.html#returning-a-view-versus-a-copy\n",
      "  df['avg_pm2'] = 17.5\n"
     ]
    }
   ],
   "source": [
    "#temp at avg_pm2\n",
    "df['avg_pm10'] = 30.5\n",
    "df['avg_pm2'] = 17.5"
   ]
  },
  {
   "cell_type": "code",
   "execution_count": 121,
   "id": "2c8ae60f",
   "metadata": {},
   "outputs": [
    {
     "name": "stderr",
     "output_type": "stream",
     "text": [
      "/var/folders/kn/v0dr_8xn1qj15xgwlhdyfzph0000gn/T/ipykernel_83520/1414550929.py:3: SettingWithCopyWarning: \n",
      "A value is trying to be set on a copy of a slice from a DataFrame.\n",
      "Try using .loc[row_indexer,col_indexer] = value instead\n",
      "\n",
      "See the caveats in the documentation: https://pandas.pydata.org/pandas-docs/stable/user_guide/indexing.html#returning-a-view-versus-a-copy\n",
      "  df.county_encoded = 1\n"
     ]
    }
   ],
   "source": [
    "#f = df.drop(['Unnamed: 0','county','category'],axis=1)\n",
    "df.head(1)\n",
    "df.county_encoded = 1"
   ]
  },
  {
   "cell_type": "code",
   "execution_count": 122,
   "id": "40b9e7a4",
   "metadata": {},
   "outputs": [],
   "source": [
    "df = df[['latitude','longitude', 'avg_pm10','avg_pm2','county_encoded','category_encoded','month']]"
   ]
  },
  {
   "cell_type": "code",
   "execution_count": 128,
   "id": "a050582e",
   "metadata": {},
   "outputs": [],
   "source": [
    "# Load the preprocessor\n",
    "preprocessor = load('../static/data/preprocessor.joblib')\n",
    "\n",
    "# Now you can transform new data using the loaded preprocessor\n",
    "X_new_transformed = preprocessor.transform(df)\n"
   ]
  },
  {
   "cell_type": "code",
   "execution_count": 129,
   "id": "52159cac",
   "metadata": {},
   "outputs": [
    {
     "data": {
      "text/plain": [
       "array([[ 1.23212883,  0.4032256 , -0.71148417, -0.51249774,  1.        ,\n",
       "         0.        ,  0.        ,  0.        ,  0.        ,  0.        ,\n",
       "         1.        ,  0.        ,  0.        ,  0.        ,  0.        ,\n",
       "         0.        ,  0.        ,  0.        ,  0.        ,  0.        ,\n",
       "         0.        ,  1.        ,  0.        ]])"
      ]
     },
     "execution_count": 129,
     "metadata": {},
     "output_type": "execute_result"
    }
   ],
   "source": [
    "X_new_transformed"
   ]
  },
  {
   "cell_type": "code",
   "execution_count": 130,
   "id": "6b3cf973",
   "metadata": {},
   "outputs": [
    {
     "name": "stdout",
     "output_type": "stream",
     "text": [
      "\u001b[1m1/1\u001b[0m \u001b[32m━━━━━━━━━━━━━━━━━━━━\u001b[0m\u001b[37m\u001b[0m \u001b[1m0s\u001b[0m 13ms/step\n"
     ]
    }
   ],
   "source": [
    "prediction = model.predict(X_new_transformed)"
   ]
  },
  {
   "cell_type": "code",
   "execution_count": 131,
   "id": "a40673d9",
   "metadata": {},
   "outputs": [
    {
     "data": {
      "text/plain": [
       "array([[2.7345862]], dtype=float32)"
      ]
     },
     "execution_count": 131,
     "metadata": {},
     "output_type": "execute_result"
    }
   ],
   "source": [
    "prediction"
   ]
  },
  {
   "cell_type": "code",
   "execution_count": 127,
   "id": "12400f6b",
   "metadata": {},
   "outputs": [
    {
     "data": {
      "text/plain": [
       "array([[-0.36650077]], dtype=float32)"
      ]
     },
     "execution_count": 127,
     "metadata": {},
     "output_type": "execute_result"
    }
   ],
   "source": [
    "np.expm1(prediction)"
   ]
  },
  {
   "cell_type": "code",
   "execution_count": 102,
   "id": "db59ee76",
   "metadata": {},
   "outputs": [
    {
     "data": {
      "text/plain": [
       "array([-0.], dtype=float32)"
      ]
     },
     "execution_count": 102,
     "metadata": {},
     "output_type": "execute_result"
    }
   ],
   "source": [
    "np.round(np.expm1(prediction)[0])\n"
   ]
  },
  {
   "cell_type": "code",
   "execution_count": null,
   "id": "dcbef011",
   "metadata": {},
   "outputs": [],
   "source": [
    "\n",
    "        pm2 = np.round(np.expm1(prediction)[0])\n",
    "        \n",
    "        # Ensure the input_value is shaped correctly\n",
    "        input_value = np.array([[pm2], [pm10]])  # Shape (1, 2)\n",
    "        \n",
    "        # Predict and round the prediction\n",
    "        prediction = model.predict(input_value)\n",
    "        prediction = np.round(prediction).flatten().tolist()  # Flatten and convert to list\n",
    "        \n",
    "        # Return the prediction as a JSON response\n",
    "        return jsonify(prediction)\n",
    "    except Exception as e:\n",
    "        return jsonify({\"error\": str(e)}), 500"
   ]
  },
  {
   "cell_type": "code",
   "execution_count": 135,
   "id": "795f8076",
   "metadata": {},
   "outputs": [
    {
     "ename": "NameError",
     "evalue": "name 'X_test' is not defined",
     "output_type": "error",
     "traceback": [
      "\u001b[0;31m---------------------------------------------------------------------------\u001b[0m",
      "\u001b[0;31mNameError\u001b[0m                                 Traceback (most recent call last)",
      "Cell \u001b[0;32mIn[135], line 1\u001b[0m\n\u001b[0;32m----> 1\u001b[0m \u001b[43mX_test\u001b[49m\n",
      "\u001b[0;31mNameError\u001b[0m: name 'X_test' is not defined"
     ]
    }
   ],
   "source": [
    "X_test"
   ]
  },
  {
   "cell_type": "code",
   "execution_count": 136,
   "id": "8e4267a7",
   "metadata": {},
   "outputs": [],
   "source": [
    "import numpy as np\n",
    "from tensorflow.keras.preprocessing.image import load_img, img_to_array\n",
    "\n",
    "def load_and_preprocess_image(image_path):\n",
    "    img = load_img(image_path, target_size=(224, 224))  # Load and resize image\n",
    "    img_array = img_to_array(img)  # Convert to array\n",
    "    img_array = img_array / 255.0  # Normalize to [0, 1]\n",
    "    return img_array\n"
   ]
  },
  {
   "cell_type": "code",
   "execution_count": 138,
   "id": "36adba2f",
   "metadata": {},
   "outputs": [],
   "source": [
    "from flask import (\n",
    "    Flask,\n",
    "    render_template,\n",
    "    jsonify,\n",
    "    request)\n",
    "import pandas as pd\n",
    "import sqlite3\n",
    "import traceback\n",
    "from tensorflow.keras.models import load_model\n",
    "import numpy as np\n",
    "import pandas as pd\n",
    "from datetime import datetime, timedelta\n",
    "from joblib import load"
   ]
  },
  {
   "cell_type": "code",
   "execution_count": null,
   "id": "81f50afa",
   "metadata": {},
   "outputs": [],
   "source": []
  }
 ],
 "metadata": {
  "kernelspec": {
   "display_name": "Python (capstonev)",
   "language": "python",
   "name": "capstonev"
  },
  "language_info": {
   "codemirror_mode": {
    "name": "ipython",
    "version": 3
   },
   "file_extension": ".py",
   "mimetype": "text/x-python",
   "name": "python",
   "nbconvert_exporter": "python",
   "pygments_lexer": "ipython3",
   "version": "3.10.13"
  }
 },
 "nbformat": 4,
 "nbformat_minor": 5
}
