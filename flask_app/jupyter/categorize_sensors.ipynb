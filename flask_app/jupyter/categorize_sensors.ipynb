{
 "cells": [
  {
   "cell_type": "code",
   "execution_count": 1,
   "id": "e97ece6a",
   "metadata": {},
   "outputs": [],
   "source": [
    "import pandas as pd\n",
    "import geopandas as gpd\n",
    "from shapely.geometry import Point\n",
    "import matplotlib.pyplot as plt\n",
    "from matplotlib.patches import Patch\n",
    "import numpy as np"
   ]
  },
  {
   "cell_type": "code",
   "execution_count": 14,
   "id": "f590aee1",
   "metadata": {},
   "outputs": [],
   "source": [
    "# Load sensor data\n",
    "sensor_data = pd.read_csv('../static/data/slc_daily_pm2.5_pm10_2016to2024.csv')\n",
    "\n",
    "# Assuming your sensor data has columns 'latitude' and 'longitude'\n",
    "\n",
    "# Convert sensor data DataFrame to GeoDataFrame\n",
    "sensor_data['geometry'] = sensor_data.apply(lambda row: Point(row.longitude, row.latitude), axis=1)\n",
    "sensor_gdf = gpd.GeoDataFrame(sensor_data, geometry='geometry')\n",
    "\n",
    "# Load GeoJSON file\n",
    "geojson_gdf = gpd.read_file('../static/data/converted_geojson_data.geojson')"
   ]
  },
  {
   "cell_type": "code",
   "execution_count": 15,
   "id": "40ff1d39",
   "metadata": {},
   "outputs": [
    {
     "name": "stderr",
     "output_type": "stream",
     "text": [
      "/Users/juliakauffmann/miniforge3/envs/capstonev/lib/python3.10/site-packages/IPython/core/interactiveshell.py:3517: FutureWarning: The `op` parameter is deprecated and will be removed in a future release. Please use the `predicate` parameter instead.\n",
      "  if await self.run_code(code, result, async_=asy):\n"
     ]
    }
   ],
   "source": [
    "# Ensure both GeoDataFrames use the same CRS\n",
    "sensor_gdf = sensor_gdf.set_crs(geojson_gdf.crs)\n",
    "\n",
    "# Perform spatial join\n",
    "joined_gdf = gpd.sjoin(sensor_gdf, geojson_gdf, how=\"left\", op='within')\n"
   ]
  },
  {
   "cell_type": "code",
   "execution_count": 16,
   "id": "f2418bab",
   "metadata": {},
   "outputs": [
    {
     "name": "stdout",
     "output_type": "stream",
     "text": [
      "        sensor_id category        Countyname\n",
      "0              77      red  Salt Lake County\n",
      "1              77      red  Salt Lake County\n",
      "2              77      red  Salt Lake County\n",
      "3              77      red  Salt Lake County\n",
      "4              77      red  Salt Lake County\n",
      "...           ...      ...               ...\n",
      "282304     208783     blue      Weber County\n",
      "282305     208783     blue      Weber County\n",
      "282306     208783     blue      Weber County\n",
      "282307     208781    green      Weber County\n",
      "282308     208781    green      Weber County\n",
      "\n",
      "[282309 rows x 3 columns]\n"
     ]
    }
   ],
   "source": [
    "# Function to categorize based on 'Lowmod_pct'\n",
    "def categorize(lowmod_pct):\n",
    "    if lowmod_pct > 0.75:\n",
    "        return 'red'\n",
    "    elif lowmod_pct > 0.5:\n",
    "        return 'orange'\n",
    "    elif lowmod_pct > 0.25:\n",
    "        return 'green'\n",
    "    else:\n",
    "        return 'blue'\n",
    "\n",
    "# Apply categorization\n",
    "joined_gdf['category'] = joined_gdf['Lowmod_pct'].apply(categorize)\n",
    "\n",
    "# Log the categories (or export to CSV)\n",
    "print(joined_gdf[['sensor_id', 'category','Countyname']])\n",
    "\n"
   ]
  },
  {
   "cell_type": "code",
   "execution_count": null,
   "id": "783f46a9",
   "metadata": {},
   "outputs": [],
   "source": []
  },
  {
   "cell_type": "code",
   "execution_count": 19,
   "id": "3157687c",
   "metadata": {},
   "outputs": [],
   "source": [
    "df.rename(columns = {'Countyname':'county'},inplace=True)"
   ]
  },
  {
   "cell_type": "code",
   "execution_count": 20,
   "id": "bab6937d",
   "metadata": {},
   "outputs": [],
   "source": [
    "df = joined_gdf.groupby('sensor_id').first().reset_index()[['sensor_id', 'category','Countyname']]\n",
    "df.rename(columns = {'Countyname':'county'},inplace=True)\n",
    "#export to CSV\n",
    "df.to_csv('../static/data/sensor_categories.csv', index=False)"
   ]
  },
  {
   "cell_type": "code",
   "execution_count": 21,
   "id": "41ba7d3b",
   "metadata": {},
   "outputs": [
    {
     "data": {
      "text/html": [
       "<div>\n",
       "<style scoped>\n",
       "    .dataframe tbody tr th:only-of-type {\n",
       "        vertical-align: middle;\n",
       "    }\n",
       "\n",
       "    .dataframe tbody tr th {\n",
       "        vertical-align: top;\n",
       "    }\n",
       "\n",
       "    .dataframe thead th {\n",
       "        text-align: right;\n",
       "    }\n",
       "</style>\n",
       "<table border=\"1\" class=\"dataframe\">\n",
       "  <thead>\n",
       "    <tr style=\"text-align: right;\">\n",
       "      <th></th>\n",
       "      <th>sensor_id</th>\n",
       "      <th>category</th>\n",
       "      <th>county</th>\n",
       "    </tr>\n",
       "  </thead>\n",
       "  <tbody>\n",
       "    <tr>\n",
       "      <th>0</th>\n",
       "      <td>77</td>\n",
       "      <td>red</td>\n",
       "      <td>Salt Lake County</td>\n",
       "    </tr>\n",
       "    <tr>\n",
       "      <th>1</th>\n",
       "      <td>443</td>\n",
       "      <td>red</td>\n",
       "      <td>Weber County</td>\n",
       "    </tr>\n",
       "    <tr>\n",
       "      <th>2</th>\n",
       "      <td>525</td>\n",
       "      <td>green</td>\n",
       "      <td>Salt Lake County</td>\n",
       "    </tr>\n",
       "    <tr>\n",
       "      <th>3</th>\n",
       "      <td>984</td>\n",
       "      <td>blue</td>\n",
       "      <td>Salt Lake County</td>\n",
       "    </tr>\n",
       "    <tr>\n",
       "      <th>4</th>\n",
       "      <td>992</td>\n",
       "      <td>green</td>\n",
       "      <td>Salt Lake County</td>\n",
       "    </tr>\n",
       "    <tr>\n",
       "      <th>...</th>\n",
       "      <td>...</td>\n",
       "      <td>...</td>\n",
       "      <td>...</td>\n",
       "    </tr>\n",
       "    <tr>\n",
       "      <th>217</th>\n",
       "      <td>204009</td>\n",
       "      <td>red</td>\n",
       "      <td>Salt Lake County</td>\n",
       "    </tr>\n",
       "    <tr>\n",
       "      <th>218</th>\n",
       "      <td>204315</td>\n",
       "      <td>green</td>\n",
       "      <td>Salt Lake County</td>\n",
       "    </tr>\n",
       "    <tr>\n",
       "      <th>219</th>\n",
       "      <td>207743</td>\n",
       "      <td>blue</td>\n",
       "      <td>Salt Lake County</td>\n",
       "    </tr>\n",
       "    <tr>\n",
       "      <th>220</th>\n",
       "      <td>208781</td>\n",
       "      <td>green</td>\n",
       "      <td>Weber County</td>\n",
       "    </tr>\n",
       "    <tr>\n",
       "      <th>221</th>\n",
       "      <td>208783</td>\n",
       "      <td>blue</td>\n",
       "      <td>Weber County</td>\n",
       "    </tr>\n",
       "  </tbody>\n",
       "</table>\n",
       "<p>222 rows × 3 columns</p>\n",
       "</div>"
      ],
      "text/plain": [
       "     sensor_id category            county\n",
       "0           77      red  Salt Lake County\n",
       "1          443      red      Weber County\n",
       "2          525    green  Salt Lake County\n",
       "3          984     blue  Salt Lake County\n",
       "4          992    green  Salt Lake County\n",
       "..         ...      ...               ...\n",
       "217     204009      red  Salt Lake County\n",
       "218     204315    green  Salt Lake County\n",
       "219     207743     blue  Salt Lake County\n",
       "220     208781    green      Weber County\n",
       "221     208783     blue      Weber County\n",
       "\n",
       "[222 rows x 3 columns]"
      ]
     },
     "execution_count": 21,
     "metadata": {},
     "output_type": "execute_result"
    }
   ],
   "source": [
    "df"
   ]
  },
  {
   "cell_type": "code",
   "execution_count": null,
   "id": "a1ace672",
   "metadata": {},
   "outputs": [],
   "source": []
  }
 ],
 "metadata": {
  "kernelspec": {
   "display_name": "Python (capstonev)",
   "language": "python",
   "name": "capstonev"
  },
  "language_info": {
   "codemirror_mode": {
    "name": "ipython",
    "version": 3
   },
   "file_extension": ".py",
   "mimetype": "text/x-python",
   "name": "python",
   "nbconvert_exporter": "python",
   "pygments_lexer": "ipython3",
   "version": "3.10.13"
  }
 },
 "nbformat": 4,
 "nbformat_minor": 5
}
