{
 "cells": [
  {
   "cell_type": "markdown",
   "id": "85aa0d22",
   "metadata": {},
   "source": [
    "# Census and Utah Gov"
   ]
  },
  {
   "cell_type": "markdown",
   "id": "6ff97ddf",
   "metadata": {},
   "source": [
    "Salt Lake City data - I may build a separate model for the city\n",
    "https://gis-slcgov.opendata.arcgis.com/"
   ]
  },
  {
   "cell_type": "code",
   "execution_count": 1,
   "id": "078c4d32",
   "metadata": {},
   "outputs": [],
   "source": [
    "import numpy as np\n",
    "import pandas as pd\n",
    "import os \n",
    "import requests\n",
    "import json"
   ]
  },
  {
   "cell_type": "code",
   "execution_count": 2,
   "id": "679fabec",
   "metadata": {},
   "outputs": [],
   "source": [
    "k = \"\"\n",
    "URL = f\"https://api.census.gov/data/2017/ecnlocmfg?get=NAME,NAICS2017_LABEL,ESTAB&for=county:011&in=state:49&NAICS2017&key={k}\"\n"
   ]
  },
  {
   "cell_type": "code",
   "execution_count": 4,
   "id": "d80731f9",
   "metadata": {},
   "outputs": [],
   "source": [
    "#response = requests.get(URL)\n",
    "response = requests.request(\"GET\",URL)"
   ]
  },
  {
   "cell_type": "raw",
   "id": "2b3ff781",
   "metadata": {},
   "source": [
    "print(response.status_code)\n"
   ]
  },
  {
   "cell_type": "code",
   "execution_count": 52,
   "id": "2f4b7159",
   "metadata": {},
   "outputs": [],
   "source": [
    "response.raise_for_status()"
   ]
  },
  {
   "cell_type": "code",
   "execution_count": null,
   "id": "4afec5c2",
   "metadata": {},
   "outputs": [],
   "source": []
  }
 ],
 "metadata": {
  "kernelspec": {
   "display_name": "Python (capstonev)",
   "language": "python",
   "name": "capstonev"
  },
  "language_info": {
   "codemirror_mode": {
    "name": "ipython",
    "version": 3
   },
   "file_extension": ".py",
   "mimetype": "text/x-python",
   "name": "python",
   "nbconvert_exporter": "python",
   "pygments_lexer": "ipython3",
   "version": "3.10.13"
  }
 },
 "nbformat": 4,
 "nbformat_minor": 5
}
