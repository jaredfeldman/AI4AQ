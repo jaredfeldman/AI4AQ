{
 "cells": [
  {
   "cell_type": "code",
   "execution_count": 1,
   "id": "474aca7a",
   "metadata": {},
   "outputs": [],
   "source": [
    "import pandas as pd\n",
    "import sqlite3\n",
    "import requests\n",
    "import json\n",
    "import geopandas as gpd\n"
   ]
  },
  {
   "cell_type": "markdown",
   "id": "48becfb4",
   "metadata": {},
   "source": [
    "## building database for Flask app"
   ]
  },
  {
   "cell_type": "code",
   "execution_count": null,
   "id": "63f31293",
   "metadata": {},
   "outputs": [],
   "source": [
    "pd.read_csv(\"slc_daily_pm2.5_pm10_2016to2024.csv\").head(5)"
   ]
  },
  {
   "cell_type": "code",
   "execution_count": null,
   "id": "8a1d6cdd",
   "metadata": {},
   "outputs": [],
   "source": [
    "# Define the SQLite database name\n",
    "database_name = 'database.db'\n",
    "\n",
    "# Connect to the SQLite database (or create it if it doesn't exist)\n",
    "conn = sqlite3.connect(database_name)\n",
    "\n",
    "# Convert the DataFrame to a SQL table within the database\n",
    "# Replace 'data_table' with your desired table name\n",
    "df.to_sql('data_table', conn, if_exists='replace', index=False)\n",
    "\n",
    "# Close the connection to the database\n",
    "conn.close()"
   ]
  },
  {
   "cell_type": "code",
   "execution_count": null,
   "id": "6e220af7",
   "metadata": {},
   "outputs": [],
   "source": [
    "def return_table(region,gender,generation,category):\n",
    "    #Set up sqlite\n",
    "    connection = sqlite3.connect('flix.db')\n",
    "    \n",
    "    \n",
    "    #Assemble Query\n",
    "    option_count=0\n",
    "    if region=='all' or gender=='all' or generation=='all':\n",
    "        sql_query=\"select *, sum(cast(replace(view,',','') as integer)) as views from flix_shows_kidz\"\n",
    "    else:\n",
    "         sql_query=\"select *,cast(replace(view,',','') as integer) as views from flix_shows_kidz\"\n",
    "    \n",
    "    if region!='all' or gender!='all' or generation!='all' or category!='all':\n",
    "        sql_query=sql_query+\" where\"\n",
    "    \n",
    "    if region!='all': \n",
    "        sql_query=sql_query+f\" viewing_country='{region}'\"\n",
    "        option_count=1\n",
    "    if gender!='all':\n",
    "        if option_count>0: sql_query=sql_query+\" and\"\n",
    "        sql_query=sql_query+f\" gender='{gender}'\"\n",
    "        option_count=1\n",
    "    if generation!='all':\n",
    "        if option_count>0: sql_query=sql_query+\" and\"\n",
    "        sql_query=sql_query+f\" generation='{generation}'\"\n",
    "    if category!='all':\n",
    "        if option_count>0: sql_query=sql_query+\" and\"\n",
    "        sql_query=sql_query+f\" category='{category}'\"\n",
    "        \n",
    "    if region=='all' or gender=='all' or generation=='all':\n",
    "        sql_query=sql_query+\" group by title order by Views desc\"\n",
    "        \n",
    "    df=pd.read_sql_query(sql_query,connection)\n",
    "    \n",
    "    return df "
   ]
  }
 ],
 "metadata": {
  "kernelspec": {
   "display_name": "Python (capstonev)",
   "language": "python",
   "name": "capstonev"
  },
  "language_info": {
   "codemirror_mode": {
    "name": "ipython",
    "version": 3
   },
   "file_extension": ".py",
   "mimetype": "text/x-python",
   "name": "python",
   "nbconvert_exporter": "python",
   "pygments_lexer": "ipython3",
   "version": "3.10.13"
  }
 },
 "nbformat": 4,
 "nbformat_minor": 5
}
