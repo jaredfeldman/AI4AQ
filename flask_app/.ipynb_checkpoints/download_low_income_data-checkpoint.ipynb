{
 "cells": [
  {
   "cell_type": "code",
   "execution_count": 1,
   "id": "474aca7a",
   "metadata": {},
   "outputs": [],
   "source": [
    "import pandas as pd\n",
    "import sqlite3\n",
    "import requests\n",
    "import json\n",
    "import geopandas as gpd\n"
   ]
  },
  {
   "cell_type": "markdown",
   "id": "74ab301a",
   "metadata": {},
   "source": [
    "## Download Geojson\n",
    "Low to Moderate Income Population by Block Group\n",
    "https://hudgis-hud.opendata.arcgis.com/datasets/HUD::low-to-moderate-income-population-by-block-group/about"
   ]
  },
  {
   "cell_type": "code",
   "execution_count": 2,
   "id": "9332c600-3429-4b0f-a21e-a85427d0b04e",
   "metadata": {},
   "outputs": [
    {
     "name": "stdout",
     "output_type": "stream",
     "text": [
      "Conversion successful. GeoJSON saved as 'converted_geojson_data.geojson'.\n"
     ]
    }
   ],
   "source": [
    "# Makes API call and then converts to Geojson \n",
    "\n",
    "# The URL of the ArcGIS JSON data\n",
    "url = \"https://services.arcgis.com/VTyQ9soqVukalItT/arcgis/rest/services/LOW_MOD_INCOME_BY_BG/FeatureServer/5/query?where=Stusab%20%3D%20'UT'%20AND%20Countyname%20%3D%20'SALT%20LAKE%20COUNTY'&outFields=*&outSR=4326&f=json\"\n",
    "\n",
    "# Fetch the data\n",
    "response = requests.get(url)\n",
    "if response.status_code == 200:\n",
    "    # Convert the response to a file-like object\n",
    "    data = response.json()  # Parse JSON response\n",
    "    with open('temp_arcgis_data.json', 'w') as f:\n",
    "        json.dump(data, f)\n",
    "    \n",
    "    # Read the data into a GeoDataFrame\n",
    "    gdf = gpd.read_file('temp_arcgis_data.json')\n",
    "    \n",
    "    # Convert the GeoDataFrame to GeoJSON and save\n",
    "    gdf.to_file(\"converted_geojson_data.geojson\", driver='GeoJSON')\n",
    "    \n",
    "    print(\"Conversion successful. GeoJSON saved as 'converted_geojson_data.geojson'.\")\n",
    "else:\n",
    "    print(\"Failed to fetch the data. Status code:\", response.status_code)\n",
    "\n"
   ]
  }
 ],
 "metadata": {
  "kernelspec": {
   "display_name": "Python (capstonev)",
   "language": "python",
   "name": "capstonev"
  },
  "language_info": {
   "codemirror_mode": {
    "name": "ipython",
    "version": 3
   },
   "file_extension": ".py",
   "mimetype": "text/x-python",
   "name": "python",
   "nbconvert_exporter": "python",
   "pygments_lexer": "ipython3",
   "version": "3.10.13"
  }
 },
 "nbformat": 4,
 "nbformat_minor": 5
}
