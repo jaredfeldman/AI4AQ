{
 "cells": [
  {
   "cell_type": "code",
   "execution_count": 1,
   "id": "9eafc5ae-5685-4cd5-a5b4-cf9e97f43f94",
   "metadata": {},
   "outputs": [],
   "source": [
    "import os \n",
    "import requests\n",
    "from bs4 import BeautifulSoup\n",
    "import json\n",
    "\n",
    "import pandas as pd\n",
    "import numpy as np\n",
    "import matplotlib.pyplot as plt"
   ]
  },
  {
   "cell_type": "code",
   "execution_count": 2,
   "id": "c0c75522-654c-4b1b-b43e-dfab5c5dc1cc",
   "metadata": {},
   "outputs": [],
   "source": [
    "aqs_email = \"jared.alex.feldman@gmail.com\"\n",
    "aqs_pw = \"boleswift49\""
   ]
  },
  {
   "cell_type": "code",
   "execution_count": 11,
   "id": "07be9b10-a22a-4d6f-b37e-bdb8be397d23",
   "metadata": {},
   "outputs": [],
   "source": [
    "# pull data by county using the example on the AQS site:\n",
    "# Example; returns all FRM/FEM PM2.5 data for Wake County, NC between January and February 2016:\n",
    "\n",
    "state_id = \"37\"\n",
    "county_id = \"183\"\n",
    "beginning_date = \"20160101\"\n",
    "end_date = \"20160201\"\n",
    "param = \"88101\"\n",
    "\n",
    "url = \"https://aqs.epa.gov/data/api/sampleData/byCounty\"\n",
    "\n",
    "params = {\n",
    "    \"email\": aqs_email,\n",
    "    \"key\": aqs_pw,\n",
    "    \"state\": state_id,\n",
    "    \"county\": county_id,\n",
    "    \"bdate\": beginning_date,\n",
    "    \"edate\": end_date,\n",
    "    \"param\": param\n",
    "}\n",
    "\n",
    "response = requests.get(url, params=params)\n",
    "\n",
    "data = response.json()"
   ]
  },
  {
   "cell_type": "code",
   "execution_count": 19,
   "id": "c6cd1427-63f3-4433-ac1a-58b23c6efcf2",
   "metadata": {},
   "outputs": [
    {
     "data": {
      "text/html": [
       "<div>\n",
       "<style scoped>\n",
       "    .dataframe tbody tr th:only-of-type {\n",
       "        vertical-align: middle;\n",
       "    }\n",
       "\n",
       "    .dataframe tbody tr th {\n",
       "        vertical-align: top;\n",
       "    }\n",
       "\n",
       "    .dataframe thead th {\n",
       "        text-align: right;\n",
       "    }\n",
       "</style>\n",
       "<table border=\"1\" class=\"dataframe\">\n",
       "  <thead>\n",
       "    <tr style=\"text-align: right;\">\n",
       "      <th></th>\n",
       "      <th>state_code</th>\n",
       "      <th>county_code</th>\n",
       "      <th>site_number</th>\n",
       "      <th>parameter_code</th>\n",
       "      <th>poc</th>\n",
       "      <th>latitude</th>\n",
       "      <th>longitude</th>\n",
       "      <th>datum</th>\n",
       "      <th>parameter</th>\n",
       "      <th>date_local</th>\n",
       "      <th>...</th>\n",
       "      <th>detection_limit</th>\n",
       "      <th>uncertainty</th>\n",
       "      <th>qualifier</th>\n",
       "      <th>method_type</th>\n",
       "      <th>method</th>\n",
       "      <th>method_code</th>\n",
       "      <th>state</th>\n",
       "      <th>county</th>\n",
       "      <th>date_of_last_change</th>\n",
       "      <th>cbsa_code</th>\n",
       "    </tr>\n",
       "  </thead>\n",
       "  <tbody>\n",
       "    <tr>\n",
       "      <th>0</th>\n",
       "      <td>37</td>\n",
       "      <td>183</td>\n",
       "      <td>0014</td>\n",
       "      <td>88101</td>\n",
       "      <td>3</td>\n",
       "      <td>35.856111</td>\n",
       "      <td>-78.574167</td>\n",
       "      <td>WGS84</td>\n",
       "      <td>PM2.5 - Local Conditions</td>\n",
       "      <td>2016-01-04</td>\n",
       "      <td>...</td>\n",
       "      <td>5.0</td>\n",
       "      <td>None</td>\n",
       "      <td>AX - Precision Check.</td>\n",
       "      <td>FEM</td>\n",
       "      <td>Met One BAM-1020 Mass Monitor w/VSCC - Beta At...</td>\n",
       "      <td>170</td>\n",
       "      <td>North Carolina</td>\n",
       "      <td>Wake</td>\n",
       "      <td>2016-06-10</td>\n",
       "      <td>39580</td>\n",
       "    </tr>\n",
       "    <tr>\n",
       "      <th>1</th>\n",
       "      <td>37</td>\n",
       "      <td>183</td>\n",
       "      <td>0014</td>\n",
       "      <td>88101</td>\n",
       "      <td>3</td>\n",
       "      <td>35.856111</td>\n",
       "      <td>-78.574167</td>\n",
       "      <td>WGS84</td>\n",
       "      <td>PM2.5 - Local Conditions</td>\n",
       "      <td>2016-01-04</td>\n",
       "      <td>...</td>\n",
       "      <td>5.0</td>\n",
       "      <td>None</td>\n",
       "      <td>AX - Precision Check.</td>\n",
       "      <td>FEM</td>\n",
       "      <td>Met One BAM-1020 Mass Monitor w/VSCC - Beta At...</td>\n",
       "      <td>170</td>\n",
       "      <td>North Carolina</td>\n",
       "      <td>Wake</td>\n",
       "      <td>2016-06-10</td>\n",
       "      <td>39580</td>\n",
       "    </tr>\n",
       "    <tr>\n",
       "      <th>2</th>\n",
       "      <td>37</td>\n",
       "      <td>183</td>\n",
       "      <td>0014</td>\n",
       "      <td>88101</td>\n",
       "      <td>3</td>\n",
       "      <td>35.856111</td>\n",
       "      <td>-78.574167</td>\n",
       "      <td>WGS84</td>\n",
       "      <td>PM2.5 - Local Conditions</td>\n",
       "      <td>2016-01-20</td>\n",
       "      <td>...</td>\n",
       "      <td>5.0</td>\n",
       "      <td>None</td>\n",
       "      <td>AX - Precision Check.</td>\n",
       "      <td>FEM</td>\n",
       "      <td>Met One BAM-1020 Mass Monitor w/VSCC - Beta At...</td>\n",
       "      <td>170</td>\n",
       "      <td>North Carolina</td>\n",
       "      <td>Wake</td>\n",
       "      <td>2016-06-10</td>\n",
       "      <td>39580</td>\n",
       "    </tr>\n",
       "  </tbody>\n",
       "</table>\n",
       "<p>3 rows × 29 columns</p>\n",
       "</div>"
      ],
      "text/plain": [
       "  state_code county_code site_number parameter_code  poc   latitude  \\\n",
       "0         37         183        0014          88101    3  35.856111   \n",
       "1         37         183        0014          88101    3  35.856111   \n",
       "2         37         183        0014          88101    3  35.856111   \n",
       "\n",
       "   longitude  datum                 parameter  date_local  ...  \\\n",
       "0 -78.574167  WGS84  PM2.5 - Local Conditions  2016-01-04  ...   \n",
       "1 -78.574167  WGS84  PM2.5 - Local Conditions  2016-01-04  ...   \n",
       "2 -78.574167  WGS84  PM2.5 - Local Conditions  2016-01-20  ...   \n",
       "\n",
       "  detection_limit uncertainty              qualifier  method_type  \\\n",
       "0             5.0        None  AX - Precision Check.          FEM   \n",
       "1             5.0        None  AX - Precision Check.          FEM   \n",
       "2             5.0        None  AX - Precision Check.          FEM   \n",
       "\n",
       "                                              method method_code  \\\n",
       "0  Met One BAM-1020 Mass Monitor w/VSCC - Beta At...         170   \n",
       "1  Met One BAM-1020 Mass Monitor w/VSCC - Beta At...         170   \n",
       "2  Met One BAM-1020 Mass Monitor w/VSCC - Beta At...         170   \n",
       "\n",
       "            state county date_of_last_change  cbsa_code  \n",
       "0  North Carolina   Wake          2016-06-10      39580  \n",
       "1  North Carolina   Wake          2016-06-10      39580  \n",
       "2  North Carolina   Wake          2016-06-10      39580  \n",
       "\n",
       "[3 rows x 29 columns]"
      ]
     },
     "execution_count": 19,
     "metadata": {},
     "output_type": "execute_result"
    }
   ],
   "source": [
    "# store results in a dataframe\n",
    "\n",
    "df = pd.DataFrame(data[\"Data\"])\n",
    "df.head(3)"
   ]
  },
  {
   "cell_type": "code",
   "execution_count": 22,
   "id": "1af06dc0-b27f-4765-8267-6e4dedf03660",
   "metadata": {},
   "outputs": [
    {
     "data": {
      "text/plain": [
       "Index(['state_code', 'county_code', 'site_number', 'parameter_code', 'poc',\n",
       "       'latitude', 'longitude', 'datum', 'parameter', 'date_local',\n",
       "       'time_local', 'date_gmt', 'time_gmt', 'sample_measurement',\n",
       "       'units_of_measure', 'units_of_measure_code', 'sample_duration',\n",
       "       'sample_duration_code', 'sample_frequency', 'detection_limit',\n",
       "       'uncertainty', 'qualifier', 'method_type', 'method', 'method_code',\n",
       "       'state', 'county', 'date_of_last_change', 'cbsa_code'],\n",
       "      dtype='object')"
      ]
     },
     "execution_count": 22,
     "metadata": {},
     "output_type": "execute_result"
    }
   ],
   "source": [
    "df.columns"
   ]
  },
  {
   "cell_type": "code",
   "execution_count": 17,
   "id": "367bb65c-8e56-43b6-afd9-11647adcaebf",
   "metadata": {},
   "outputs": [
    {
     "data": {
      "text/plain": [
       "0      2016-01-04\n",
       "1      2016-01-04\n",
       "2      2016-01-20\n",
       "3      2016-01-20\n",
       "4      2016-01-01\n",
       "          ...    \n",
       "774    2016-02-01\n",
       "775    2016-02-01\n",
       "776    2016-02-01\n",
       "777    2016-02-01\n",
       "778    2016-02-01\n",
       "Name: date_local, Length: 779, dtype: object"
      ]
     },
     "execution_count": 17,
     "metadata": {},
     "output_type": "execute_result"
    }
   ],
   "source": [
    "df['date_local']"
   ]
  },
  {
   "cell_type": "code",
   "execution_count": null,
   "id": "471bc1de-bb3a-42f6-b679-4982c9116962",
   "metadata": {},
   "outputs": [],
   "source": []
  }
 ],
 "metadata": {
  "kernelspec": {
   "display_name": "Python 3 (ipykernel)",
   "language": "python",
   "name": "python3"
  },
  "language_info": {
   "codemirror_mode": {
    "name": "ipython",
    "version": 3
   },
   "file_extension": ".py",
   "mimetype": "text/x-python",
   "name": "python",
   "nbconvert_exporter": "python",
   "pygments_lexer": "ipython3",
   "version": "3.9.16"
  }
 },
 "nbformat": 4,
 "nbformat_minor": 5
}
