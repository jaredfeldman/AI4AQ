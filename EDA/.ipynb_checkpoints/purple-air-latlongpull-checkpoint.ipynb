{
 "cells": [
  {
   "cell_type": "code",
   "execution_count": 1,
   "id": "15fd211d-9b99-485a-830a-eeca74713bf4",
   "metadata": {},
   "outputs": [],
   "source": [
    "import os \n",
    "import requests\n",
    "from bs4 import BeautifulSoup\n",
    "import json\n",
    "\n",
    "import pandas as pd\n",
    "import numpy as np\n",
    "import matplotlib.pyplot as plt"
   ]
  },
  {
   "cell_type": "code",
   "execution_count": 2,
   "id": "36b6fc70-d682-440c-9f21-8555b9b29f1f",
   "metadata": {},
   "outputs": [],
   "source": [
    "# Comment out API keys to avoid running cells by accident\n",
    "\n",
    "# api read key created at https://develop.purpleair.com/keys\n",
    "api_read_key = \"1A4A4B7E-BF7D-11EE-8616-42010A80000B\"\n",
    "\n",
    "# api write key created at https://develop.purpleair.com/keys\n",
    "api_write_key = \"FFAF2E2E-BF85-11EE-8616-42010A80000B\""
   ]
  },
  {
   "cell_type": "code",
   "execution_count": 4,
   "id": "c5c14e15-70c9-4bf5-bec3-9da27e54cbb9",
   "metadata": {},
   "outputs": [
    {
     "name": "stdout",
     "output_type": "stream",
     "text": [
      "Status Code:  200\n"
     ]
    },
    {
     "data": {
      "text/html": [
       "<div>\n",
       "<style scoped>\n",
       "    .dataframe tbody tr th:only-of-type {\n",
       "        vertical-align: middle;\n",
       "    }\n",
       "\n",
       "    .dataframe tbody tr th {\n",
       "        vertical-align: top;\n",
       "    }\n",
       "\n",
       "    .dataframe thead th {\n",
       "        text-align: right;\n",
       "    }\n",
       "</style>\n",
       "<table border=\"1\" class=\"dataframe\">\n",
       "  <thead>\n",
       "    <tr style=\"text-align: right;\">\n",
       "      <th></th>\n",
       "      <th>sensor_index</th>\n",
       "      <th>pm2.5</th>\n",
       "    </tr>\n",
       "  </thead>\n",
       "  <tbody>\n",
       "    <tr>\n",
       "      <th>0</th>\n",
       "      <td>820</td>\n",
       "      <td>1.5</td>\n",
       "    </tr>\n",
       "    <tr>\n",
       "      <th>1</th>\n",
       "      <td>9654</td>\n",
       "      <td>0.0</td>\n",
       "    </tr>\n",
       "    <tr>\n",
       "      <th>2</th>\n",
       "      <td>10936</td>\n",
       "      <td>0.0</td>\n",
       "    </tr>\n",
       "    <tr>\n",
       "      <th>3</th>\n",
       "      <td>12280</td>\n",
       "      <td>0.0</td>\n",
       "    </tr>\n",
       "    <tr>\n",
       "      <th>4</th>\n",
       "      <td>14713</td>\n",
       "      <td>5.5</td>\n",
       "    </tr>\n",
       "  </tbody>\n",
       "</table>\n",
       "</div>"
      ],
      "text/plain": [
       "   sensor_index  pm2.5\n",
       "0           820    1.5\n",
       "1          9654    0.0\n",
       "2         10936    0.0\n",
       "3         12280    0.0\n",
       "4         14713    5.5"
      ]
     },
     "execution_count": 4,
     "metadata": {},
     "output_type": "execute_result"
    }
   ],
   "source": [
    "## GET ALL INDOOR SENSORS IN SLC AREA AS DEFINED BY LAT/LONG BOX IN REPO\n",
    "\n",
    "# Cost of this cell: 323 points\n",
    "\n",
    "headers= {'X-API-Key': api_read_key}\n",
    "\n",
    "# top left corner of box\n",
    "NWlat = 41.99\n",
    "NWlng = -113.22\n",
    "\n",
    "# bottom right corner of box\n",
    "SElat = 39.77\n",
    "SElng = -111.07\n",
    "\n",
    "# location_type = 1 for indoor sensors\n",
    "indoor_url = 'https://api.purpleair.com/v1/sensors?fields=pm2.5&location_type=1&nwlng=' + str(NWlng) + '&nwlat='+ str(NWlat) + '&selng=' + str(SElng) + '&selat=' + str(SElat)\n",
    "\n",
    "indoor_response = requests.get(indoor_url, headers=headers)\n",
    "print(\"Status Code: \", indoor_response.status_code)\n",
    "\n",
    "indoor_content = json.loads(indoor_response.content)\n",
    "indoor_data = indoor_content[\"data\"]\n",
    "indoor_columns = indoor_content[\"fields\"]\n",
    "\n",
    "indoor_df = pd.DataFrame(indoor_data, columns=indoor_columns)\n",
    "indoor_df.head()"
   ]
  },
  {
   "cell_type": "code",
   "execution_count": null,
   "id": "0e0ecd85-edcc-4b65-a521-603437837e67",
   "metadata": {},
   "outputs": [],
   "source": [
    "indoor_df"
   ]
  },
  {
   "cell_type": "code",
   "execution_count": 5,
   "id": "7cbd3267-b8e6-433b-8c4a-e746590ae502",
   "metadata": {},
   "outputs": [
    {
     "name": "stdout",
     "output_type": "stream",
     "text": [
      "Status Code:  200\n"
     ]
    },
    {
     "data": {
      "text/html": [
       "<div>\n",
       "<style scoped>\n",
       "    .dataframe tbody tr th:only-of-type {\n",
       "        vertical-align: middle;\n",
       "    }\n",
       "\n",
       "    .dataframe tbody tr th {\n",
       "        vertical-align: top;\n",
       "    }\n",
       "\n",
       "    .dataframe thead th {\n",
       "        text-align: right;\n",
       "    }\n",
       "</style>\n",
       "<table border=\"1\" class=\"dataframe\">\n",
       "  <thead>\n",
       "    <tr style=\"text-align: right;\">\n",
       "      <th></th>\n",
       "      <th>sensor_index</th>\n",
       "      <th>pm2.5</th>\n",
       "    </tr>\n",
       "  </thead>\n",
       "  <tbody>\n",
       "    <tr>\n",
       "      <th>0</th>\n",
       "      <td>53</td>\n",
       "      <td>0.3</td>\n",
       "    </tr>\n",
       "    <tr>\n",
       "      <th>1</th>\n",
       "      <td>77</td>\n",
       "      <td>42.7</td>\n",
       "    </tr>\n",
       "    <tr>\n",
       "      <th>2</th>\n",
       "      <td>81</td>\n",
       "      <td>23.9</td>\n",
       "    </tr>\n",
       "    <tr>\n",
       "      <th>3</th>\n",
       "      <td>443</td>\n",
       "      <td>7.3</td>\n",
       "    </tr>\n",
       "    <tr>\n",
       "      <th>4</th>\n",
       "      <td>459</td>\n",
       "      <td>10.0</td>\n",
       "    </tr>\n",
       "  </tbody>\n",
       "</table>\n",
       "</div>"
      ],
      "text/plain": [
       "   sensor_index  pm2.5\n",
       "0            53    0.3\n",
       "1            77   42.7\n",
       "2            81   23.9\n",
       "3           443    7.3\n",
       "4           459   10.0"
      ]
     },
     "execution_count": 5,
     "metadata": {},
     "output_type": "execute_result"
    }
   ],
   "source": [
    "## GET ALL OUTDOOR SENSORS IN SLC AREA AS DEFINED BY LAT/LONG BOX IN REPO\n",
    "\n",
    "# Cost of this cell: 919 points\n",
    "\n",
    "# top left corner of box\n",
    "NWlat = 41.99\n",
    "NWlng = -113.22\n",
    "\n",
    "# bottom right corner of box\n",
    "SElat = 39.77\n",
    "SElng = -111.07\n",
    "\n",
    "# location_type = 0 for outdoor sensors\n",
    "outdoor_url = 'https://api.purpleair.com/v1/sensors?fields=pm2.5&location_type=0&nwlng=' + str(NWlng) + '&nwlat='+ str(NWlat) + '&selng=' + str(SElng) + '&selat=' + str(SElat)\n",
    "\n",
    "outdoor_response = requests.get(outdoor_url, headers=headers)\n",
    "print(\"Status Code: \", outdoor_response.status_code)\n",
    "\n",
    "outdoor_content = json.loads(outdoor_response.content)\n",
    "outdoor_data = outdoor_content[\"data\"]\n",
    "outdoor_columns = outdoor_content[\"fields\"]\n",
    "\n",
    "outdoor_df = pd.DataFrame(outdoor_data, columns=outdoor_columns)\n",
    "outdoor_df.head()"
   ]
  },
  {
   "cell_type": "code",
   "execution_count": null,
   "id": "45eef329-edc7-44fe-b0b9-0bd179cbf29e",
   "metadata": {},
   "outputs": [],
   "source": [
    "print(f'Indoor sensors: {indoor_df.shape[0]}')\n",
    "print(f'Outdoor sensors: {outdoor_df.shape[0]}')"
   ]
  }
 ],
 "metadata": {
  "kernelspec": {
   "display_name": "Python 3 (ipykernel)",
   "language": "python",
   "name": "python3"
  },
  "language_info": {
   "codemirror_mode": {
    "name": "ipython",
    "version": 3
   },
   "file_extension": ".py",
   "mimetype": "text/x-python",
   "name": "python",
   "nbconvert_exporter": "python",
   "pygments_lexer": "ipython3",
   "version": "3.9.16"
  }
 },
 "nbformat": 4,
 "nbformat_minor": 5
}
