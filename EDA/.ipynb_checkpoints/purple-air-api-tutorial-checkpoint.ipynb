{
 "cells": [
  {
   "cell_type": "code",
   "execution_count": 1,
   "id": "19566b34-8e8a-4545-bd7e-6ba776844d53",
   "metadata": {},
   "outputs": [],
   "source": [
    "import os \n",
    "import requests\n",
    "from bs4 import BeautifulSoup\n",
    "import json\n",
    "\n",
    "import pandas as pd\n",
    "import numpy as np\n",
    "import matplotlib.pyplot as plt"
   ]
  },
  {
   "cell_type": "code",
   "execution_count": 2,
   "id": "e0945671-4287-4b10-9c0c-4dafeef87acc",
   "metadata": {},
   "outputs": [],
   "source": [
    "# api read key created at https://develop.purpleair.com/keys\n",
    "api_read_key = \"1A4A4B7E-BF7D-11EE-8616-42010A80000B\"\n",
    "\n",
    "# api write key created at https://develop.purpleair.com/keys\n",
    "api_write_key = \"FFAF2E2E-BF85-11EE-8616-42010A80000B\""
   ]
  },
  {
   "cell_type": "code",
   "execution_count": 3,
   "id": "569c1b7a-2d96-4b1c-91e5-98275503e6ce",
   "metadata": {},
   "outputs": [
    {
     "data": {
      "text/plain": [
       "{'api_version': 'V1.0.11-0.0.49',\n",
       " 'time_stamp': 1706631889,\n",
       " 'api_key_type': 'READ'}"
      ]
     },
     "execution_count": 3,
     "metadata": {},
     "output_type": "execute_result"
    }
   ],
   "source": [
    "# follow instructions to test API: https://community.purpleair.com/t/making-api-calls-with-the-purpleair-api/180\n",
    "\n",
    "# Note: This API call is free\n",
    "url = \"https://api.purpleair.com/v1/keys\"\n",
    "\n",
    "headers = {\n",
    "    \"X-API-KEY\": api_read_key\n",
    "}\n",
    "\n",
    "response = requests.get(url, headers=headers)\n",
    "\n",
    "# Check the response status code\n",
    "data = response.json()\n",
    "\n",
    "data"
   ]
  },
  {
   "cell_type": "code",
   "execution_count": 4,
   "id": "1ead4ef2-74f5-4f0c-84bd-c63cd509c575",
   "metadata": {},
   "outputs": [],
   "source": [
    "# get specific sensor data\n",
    "#sensor_id = 114443 # from here: https://map.purpleair.com/1/mAQI/a10/p604800/cC0?select=196459#7.6/40.944/-111.947\n",
    "                   #, BLM Muskrat Springs Bunkhouse, the one below the lake furthest left\n",
    "\n",
    "#url = f\"https://api.purpleair.com/v1/sensors/{sensor_id}\"\n",
    "#headers = {\n",
    "#    \"X-API-Key\": api_read_key\n",
    "#}\n",
    "\n",
    "#sensor_response = requests.get(url, headers=headers)\n",
    "\n",
    "#sensor_data = sensor_response.json()\n",
    "\n",
    "#sensor_data\n",
    "\n",
    "### ^^ This worked! Commenting out to avoid using points for API calls"
   ]
  },
  {
   "cell_type": "code",
   "execution_count": 5,
   "id": "450d708f-4d5a-4197-a6bb-4075fa4d6eb8",
   "metadata": {},
   "outputs": [],
   "source": [
    "# create a group\n",
    "\n",
    "#group_url = \"https://api.purpleair.com/v1/groups\"\n",
    "#group_headers = {\n",
    "#    \"Content-Type\": \"application/json\",\n",
    "#    \"X-API-Key\": api_write_key\n",
    "#}\n",
    "\n",
    "#group_data = {\n",
    "#    \"name\": \"slc_testp\"\n",
    "#}\n",
    "\n",
    "#group_response = requests.post(group_url, headers=group_headers, data=json.dumps(group_data))\n",
    "\n",
    "#created_group_slc_test = group_response.json()\n",
    "\n",
    "#created_group_slc_test\n",
    "\n",
    "### ^^ This worked! Commenting out to avoid using points for API calls"
   ]
  },
  {
   "cell_type": "code",
   "execution_count": 6,
   "id": "0ff2a12a-f9ce-43cc-8ba2-9031b132c2cf",
   "metadata": {},
   "outputs": [],
   "source": [
    "#get_groups_url = \"https://api.purpleair.com/v1/groups\"\n",
    "\n",
    "#groups_headers = {\n",
    "#    \"X-API-KEY\": api_read_key\n",
    "#}\n",
    "\n",
    "#response = requests.get(get_groups_url, headers=groups_headers)\n",
    "\n",
    "#get_groups_data = response.json()\n",
    "\n",
    "#get_groups_data\n",
    "\n",
    "### ^^ This worked! Commenting out to avoid using points for API calls"
   ]
  },
  {
   "cell_type": "code",
   "execution_count": null,
   "id": "f36389de-324e-4bbd-b310-f755172b26e2",
   "metadata": {},
   "outputs": [],
   "source": [
    "slc_testp_group_id = \"2197\"\n",
    "sensor_id = \"114443\" # from here: https://map.purpleair.com/1/mAQI/a10/p604800/cC0?select=196459#7.6/40.944/-111.947\n",
    "                   #, BLM Muskrat Springs Bunkhouse, the one below the lake furthest left\n",
    "\n",
    "slc_testp_group_url = f\"https://api.purpleair.com/v1/groups/:{slc_testp_group_id}/members\"\n",
    "slc_testp_group_headers = {\n",
    "    \"Content-Type\": \"application/json\",\n",
    "    \"X-API-Key\": api_write_key\n",
    "}\n",
    "\n",
    "slc_testp_group_data = {\n",
    "    \"sensor_index\": sensor_id\n",
    "}\n",
    "\n",
    "slc_testp_group_response = requests.post(slc_testp_group_url,\n",
    "                                         headers=slc_testp_group_headers,\n",
    "                                         data=json.dumps(slc_testp_group_data))\n",
    "\n",
    "slc_testp_group_added_member = slc_testp_group_response\u0000e\u0000d\u0000()\n",
    "\n",
    "slc_testp_group_added_member"
   ]
  }
 ],
 "metadata": {
  "kernelspec": {
   "display_name": "Python 3 (ipykernel)",
   "language": "python",
   "name": "python3"
  },
  "language_info": {
   "codemirror_mode": {
    "name": "ipython",
    "version": 3
   },
   "file_extension": ".py",
   "mimetype": "text/x-python",
   "name": "python",
   "nbconvert_exporter": "python",
   "pygments_lexer": "ipython3",
   "version": "3.9.16"
  }
 },
 "nbformat": 4,
 "nbformat_minor": 5
}
