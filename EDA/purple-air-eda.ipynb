{
 "cells": [
  {
   "cell_type": "code",
   "execution_count": 1,
   "id": "15fd211d-9b99-485a-830a-eeca74713bf4",
   "metadata": {},
   "outputs": [],
   "source": [
    "import os \n",
    "import requests\n",
    "from bs4 import BeautifulSoup\n",
    "import json\n",
    "\n",
    "import pandas as pd\n",
    "import numpy as np\n",
    "import matplotlib.pyplot as plt"
   ]
  },
  {
   "cell_type": "code",
   "execution_count": 2,
   "id": "36b6fc70-d682-440c-9f21-8555b9b29f1f",
   "metadata": {},
   "outputs": [],
   "source": [
    "# api read key created at https://develop.purpleair.com/keys\n",
    "api_read_key = \"1A4A4B7E-BF7D-11EE-8616-42010A80000B\"\n",
    "\n",
    "# api write key created at https://develop.purpleair.com/keys\n",
    "api_write_key = \"FFAF2E2E-BF85-11EE-8616-42010A80000B\""
   ]
  },
  {
   "cell_type": "code",
   "execution_count": null,
   "id": "c5c14e15-70c9-4bf5-bec3-9da27e54cbb9",
   "metadata": {},
   "outputs": [],
   "source": []
  }
 ],
 "metadata": {
  "kernelspec": {
   "display_name": "Python 3 (ipykernel)",
   "language": "python",
   "name": "python3"
  },
  "language_info": {
   "codemirror_mode": {
    "name": "ipython",
    "version": 3
   },
   "file_extension": ".py",
   "mimetype": "text/x-python",
   "name": "python",
   "nbconvert_exporter": "python",
   "pygments_lexer": "ipython3",
   "version": "3.9.16"
  }
 },
 "nbformat": 4,
 "nbformat_minor": 5
}
