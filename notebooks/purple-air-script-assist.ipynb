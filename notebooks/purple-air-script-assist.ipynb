{
 "cells": [
  {
   "cell_type": "code",
   "execution_count": 10,
   "id": "f1e47d43-8d3e-4cff-9c4f-32f2778f0da3",
   "metadata": {},
   "outputs": [],
   "source": [
    "import os \n",
    "import requests\n",
    "from bs4 import BeautifulSoup\n",
    "import json\n",
    "\n",
    "import pandas as pd\n",
    "import numpy as np\n",
    "import matplotlib.pyplot as plt"
   ]
  },
  {
   "cell_type": "markdown",
   "id": "b47f6aea-6b47-4dd6-b7ec-c7665953a31c",
   "metadata": {},
   "source": [
    "# Pull in variables for scripts"
   ]
  },
  {
   "cell_type": "code",
   "execution_count": 19,
   "id": "b104e177-8dc9-4242-8cba-1ff87bb7da09",
   "metadata": {},
   "outputs": [],
   "source": [
    "# get the read key\n",
    "with open(\"../src/api_credentials.json\") as f:\n",
    "    purple_air_creds = json.load(f)[\"purple_air_credentials\"]\n",
    "\n",
    "# api read key created at https://develop.purpleair.com/keys\n",
    "api_read_key = purple_air_creds[\"purple_air_read_key\"]"
   ]
  },
  {
   "cell_type": "code",
   "execution_count": 9,
   "id": "ffdd6f6e-466d-417c-8966-d16fbe615dd3",
   "metadata": {},
   "outputs": [
    {
     "name": "stdout",
     "output_type": "stream",
     "text": [
      "41.325\n",
      "-112.13\n",
      "40.548\n",
      "-111.806\n"
     ]
    }
   ],
   "source": [
    "# get the coordinates\n",
    "\n",
    "with open(\"../src/coordinates.json\") as f:\n",
    "    sensor_coordinates = json.load(f)['sensor_box']\n",
    "\n",
    "NWlat = sensor_coordinates['sensor_NWlat']\n",
    "NWlng = sensor_coordinates['sensor_NWlng']\n",
    "SElat = sensor_coordinates['sensor_SElat']\n",
    "SElng = sensor_coordinates['sensor_SElng']\n",
    "\n",
    "print(NWlat)\n",
    "print(NWlng)\n",
    "print(SElat)\n",
    "print(SElng)"
   ]
  },
  {
   "cell_type": "markdown",
   "id": "1efe27b4-ebc6-4232-b469-e2e17bd9ec59",
   "metadata": {},
   "source": [
    "# Pull all purple air sensors in the sensor map area and store in a .json file\n",
    "## DO THIS ONCE"
   ]
  },
  {
   "cell_type": "code",
   "execution_count": 17,
   "id": "826a7ad3-7182-42cd-8b47-b2459559dd83",
   "metadata": {},
   "outputs": [
    {
     "name": "stdout",
     "output_type": "stream",
     "text": [
      "Status Code:  200\n"
     ]
    }
   ],
   "source": [
    "# done, commented out below to avoid running\n",
    "#headers= {'X-API-Key': api_read_key}\n",
    "\n",
    "#outdoor_url = 'https://api.purpleair.com/v1/sensors?fields=pm10.0&location_type=0&nwlng=' + str(NWlng) + '&nwlat='+ str(NWlat) + '&selng=' + str(SElng) + '&selat=' + str(SElat)\n",
    "\n",
    "#outdoor_response = requests.get(outdoor_url, headers=headers)\n",
    "#print(\"Status Code: \", outdoor_response.status_code)\n",
    "\n",
    "#outdoor_content = json.loads(outdoor_response.content)\n",
    "#outdoor_data = outdoor_content[\"data\"]\n",
    "#outdoor_columns = outdoor_content[\"fields\"]\n",
    "\n",
    "#outdoor_df = pd.DataFrame(outdoor_data, columns=outdoor_columns)\n",
    "\n",
    "# Extract the first column (sensor_index)\n",
    "#outdoor_sensor_list = outdoor_df.iloc[:, 0].tolist()\n",
    "\n",
    "# Create a dictionary with the desired format\n",
    "#outdoor_json_data = {\"outdoor_sensor_list\": outdoor_sensor_list}"
   ]
  },
  {
   "cell_type": "markdown",
   "id": "8b8c9e6d-f654-4841-bccb-4144710fa3e7",
   "metadata": {},
   "source": [
    "# Define function to pull data from a sensor using its index and only the columns desired"
   ]
  },
  {
   "cell_type": "code",
   "execution_count": 23,
   "id": "87d6720d-78f5-4fd7-8ced-27c0bf1be18e",
   "metadata": {},
   "outputs": [
    {
     "name": "stderr",
     "output_type": "stream",
     "text": [
      "usage: ipykernel_launcher.py [-h] [--fields FIELDS]\n",
      "                             [--output_file OUTPUT_FILE]\n",
      "ipykernel_launcher.py: error: unrecognized arguments: -f /Users/jaredfeldman/Library/Jupyter/runtime/kernel-a2415422-a9d9-485a-8b3e-33f2ce9c63b6.json\n"
     ]
    },
    {
     "ename": "SystemExit",
     "evalue": "2",
     "output_type": "error",
     "traceback": [
      "An exception has occurred, use %tb to see the full traceback.\n",
      "\u001b[0;31mSystemExit\u001b[0m\u001b[0;31m:\u001b[0m 2\n"
     ]
    },
    {
     "name": "stderr",
     "output_type": "stream",
     "text": [
      "/Users/jaredfeldman/miniforge3/envs/capstone/lib/python3.9/site-packages/IPython/core/interactiveshell.py:3516: UserWarning: To exit: use 'exit', 'quit', or Ctrl-D.\n",
      "  warn(\"To exit: use 'exit', 'quit', or Ctrl-D.\", stacklevel=1)\n"
     ]
    }
   ],
   "source": [
    "import argparse\n",
    "import json\n",
    "import pandas as pd\n",
    "import requests\n",
    "\n",
    "def pull_current_outdoor_purpleair_sensor_data(fields):\n",
    "    \"\"\"\n",
    "    Retrieve the latest sensor data from the PurpleAir API for multiple sensors.\n",
    "\n",
    "    Args:\n",
    "    - fields (list of str): A list of fields to retrieve for each sensor.\n",
    "\n",
    "    Returns:\n",
    "    - Pandas dataframe: Datafrane containing the specified fields for each sensor.\n",
    "    \"\"\"\n",
    "\n",
    "    # pull in the outdoor sensors from .json file\n",
    "    with open(\"../src/purpleair_parameters.json\") as outdoor_sensors:\n",
    "        #outdoor_sensor_list = json.load(outdoor_sensors)[\"outdoor_sensor_list\"]\n",
    "        outdoor_sensor_list = json.load(outdoor_sensors)[\"sensor_test\"]\n",
    "\n",
    "    # get the read key from .json file\n",
    "    with open(\"../src/api_credentials.json\") as f:\n",
    "        purple_air_creds = json.load(f)[\"purple_air_credentials\"]\n",
    "    # store it in a variable\n",
    "    api_read_key = purple_air_creds[\"purple_air_read_key\"]\n",
    "    \n",
    "    # join the list of fields into a comma-separated string,\n",
    "    # which is the required input for the API call\n",
    "    fields_str = \",\".join(fields)\n",
    "\n",
    "    # initiate empty list to hold data for all sensor_ids identified\n",
    "    list_of_sensor_data = []\n",
    "    \n",
    "    for sensor_id in outdoor_sensor_list:\n",
    "        # construct the URL for the API request\n",
    "        url = f\"https://api.purpleair.com/v1/sensors/{sensor_id}\"\n",
    "        \n",
    "        # set the query parameters for the request  \n",
    "        params = {\n",
    "            \"fields\": fields_str\n",
    "        }\n",
    "\n",
    "        # set the headers including the API key\n",
    "        headers = {\n",
    "            \"X-API-Key\": api_read_key\n",
    "        }\n",
    "\n",
    "        # send the GET request to the PurpleAir API\n",
    "        sensor_response = requests.get(url, params=params, headers=headers)\n",
    "\n",
    "        # parse the JSON response\n",
    "        sensor_response_json = sensor_response.json()\n",
    "\n",
    "        # extract the sensor data from the response\n",
    "        sensor_data = sensor_response_json.get('sensor')\n",
    "\n",
    "        # append to the list\n",
    "        list_of_sensor_data.append(sensor_data)\n",
    "\n",
    "    # convert the list to a dataframe\n",
    "    current_sensor_data_df = pd.DataFrame(list_of_sensor_data)\n",
    "\n",
    "    # return the dataframe\n",
    "    return current_sensor_data_df\n",
    "\n",
    "if __name__ == \"__main__\":\n",
    "    # create argument parser\n",
    "    parser = argparse.ArgumentParser(description='Fetch PurpleAir Sensor Data')\n",
    "\n",
    "    # add command-line arguments\n",
    "    parser.add_argument('--fields', type=int, help='Fields')\n",
    "    parser.add_argument('--output_file', type=str, help='Output file name')\n",
    "\n",
    "    # parse command-line arguments\n",
    "    args = parser.parse_args()\n",
    "\n",
    "    # call fetch_and_combine_data function with provided arguments\n",
    "    annual_data = fetch_and_combine_data(args.start_year, args.end_year, aqs_email, aqs_pw, args.param, minlat, maxlat, minlng, maxlng)\n",
    "    \n",
    "    # Save data to CSV if output_file argument is provided\n",
    "    if args.output_file:\n",
    "        annual_data.to_csv(args.output_file, index=False)\n",
    "        print(f\"Data saved to {args.output_file}\")\n",
    "    else:\n",
    "        # If output_file argument is not provided, print the data\n",
    "        print(annual_data)\n",
    "\n",
    "def main():\n",
    "    # create argument parser\n",
    "    parser = argparse.ArgumentParser(description='Fetch sensor data from PurpleAir API.')\n",
    "\n",
    "    # add command-line arguments\n",
    "    parser.add_argument('--fields', nargs='+', default=['name', 'latitude', 'longitude', 'pm2.5'], help='List of fields to retrieve for each sensor')\n",
    "    parser.add_argument('--output_file', type=str, help='Output file name')\n",
    "\n",
    "    # parse command-line arguments\n",
    "    args = parser.parse_args()\n",
    "\n",
    "    # call pull_current_outdoor_purpleair_sensor_data function with provided arguments\n",
    "    sensor_data = pull_current_outdoor_purpleair_sensor_data(args.fields)\n",
    "\n",
    "    # save data to CSV if output_file argument is provided\n",
    "    if args.output_file:\n",
    "        sensor_data.to_csv(args.output_file, index=False)\n",
    "        print(f\"Data saved to {args.output_file}\")\n",
    "    else:\n",
    "        print(sensor_data)\n",
    "\n",
    "if __name__ == \"__main__\":\n",
    "    main()"
   ]
  },
  {
   "cell_type": "code",
   "execution_count": null,
   "id": "5e471784-11b7-4f93-a21e-1b900192acb9",
   "metadata": {},
   "outputs": [],
   "source": []
  },
  {
   "cell_type": "code",
   "execution_count": 21,
   "id": "3362a05e-66eb-4afb-a3f8-5a492282c707",
   "metadata": {},
   "outputs": [],
   "source": [
    "# Pull it without the argparse part"
   ]
  },
  {
   "cell_type": "code",
   "execution_count": 31,
   "id": "606efb94-6d21-4f4f-852c-6856c343e7b0",
   "metadata": {},
   "outputs": [],
   "source": [
    "def pull_current_outdoor_purpleair_sensor_data(fields):\n",
    "    \"\"\"\n",
    "    Retrieve the latest sensor data from the PurpleAir API for multiple sensors.\n",
    "\n",
    "    Args:\n",
    "    - fields (list of str): A list of fields to retrieve for each sensor.\n",
    "\n",
    "    Returns:\n",
    "    - Pandas dataframe: Datafrane containing the specified fields for each sensor.\n",
    "    \"\"\"\n",
    "\n",
    "    # pull in the outdoor sensors from .json file\n",
    "    with open(\"../src/purpleair_parameters.json\") as outdoor_sensors:\n",
    "        outdoor_sensor_list = json.load(outdoor_sensors)[\"sensor_test\"]\n",
    "\n",
    "    # get the read key from .json file\n",
    "    with open(\"../src/api_credentials.json\") as f:\n",
    "        purple_air_creds = json.load(f)[\"purple_air_credentials\"]\n",
    "    # store it in a variable\n",
    "    api_read_key = purple_air_creds[\"purple_air_read_key\"]\n",
    "    \n",
    "    # join the list of fields into a comma-separated string,\n",
    "    # which is the required input for the API call\n",
    "    fields_str = \",\".join(fields)\n",
    "\n",
    "    # initiate empty list to hold data for all sensor_ids identified\n",
    "    list_of_sensor_data = []\n",
    "    \n",
    "    for sensor_id in outdoor_sensor_list:\n",
    "        # construct the URL for the API request\n",
    "        url = f\"https://api.purpleair.com/v1/sensors/{sensor_id}\"\n",
    "        \n",
    "        # set the query parameters for the request  \n",
    "        params = {\n",
    "            \"fields\": fields_str\n",
    "        }\n",
    "\n",
    "        # set the headers including the API key\n",
    "        headers = {\n",
    "            \"X-API-Key\": api_read_key\n",
    "        }\n",
    "\n",
    "        # send the GET request to the PurpleAir API\n",
    "        sensor_response = requests.get(url, params=params, headers=headers)\n",
    "\n",
    "        # parse the JSON response\n",
    "        sensor_response_json = sensor_response.json()\n",
    "\n",
    "        # extract the sensor data from the response\n",
    "        sensor_data = sensor_response_json.get('sensor')\n",
    "\n",
    "        # append to the list\n",
    "        list_of_sensor_data.append(sensor_data)\n",
    "\n",
    "    # convert the list to a dataframe\n",
    "    current_sensor_data_df = pd.DataFrame(list_of_sensor_data)\n",
    "\n",
    "    # return the dataframe\n",
    "    return current_sensor_data_df"
   ]
  },
  {
   "cell_type": "code",
   "execution_count": 32,
   "id": "0e7c5c7f-3418-4b46-baf4-806095cfb3ad",
   "metadata": {},
   "outputs": [
    {
     "data": {
      "text/html": [
       "<div>\n",
       "<style scoped>\n",
       "    .dataframe tbody tr th:only-of-type {\n",
       "        vertical-align: middle;\n",
       "    }\n",
       "\n",
       "    .dataframe tbody tr th {\n",
       "        vertical-align: top;\n",
       "    }\n",
       "\n",
       "    .dataframe thead th {\n",
       "        text-align: right;\n",
       "    }\n",
       "</style>\n",
       "<table border=\"1\" class=\"dataframe\">\n",
       "  <thead>\n",
       "    <tr style=\"text-align: right;\">\n",
       "      <th></th>\n",
       "      <th>sensor_index</th>\n",
       "      <th>pm10.0</th>\n",
       "    </tr>\n",
       "  </thead>\n",
       "  <tbody>\n",
       "    <tr>\n",
       "      <th>0</th>\n",
       "      <td>77</td>\n",
       "      <td>18.5</td>\n",
       "    </tr>\n",
       "    <tr>\n",
       "      <th>1</th>\n",
       "      <td>443</td>\n",
       "      <td>7.8</td>\n",
       "    </tr>\n",
       "    <tr>\n",
       "      <th>2</th>\n",
       "      <td>525</td>\n",
       "      <td>0.0</td>\n",
       "    </tr>\n",
       "    <tr>\n",
       "      <th>3</th>\n",
       "      <td>984</td>\n",
       "      <td>1.0</td>\n",
       "    </tr>\n",
       "    <tr>\n",
       "      <th>4</th>\n",
       "      <td>992</td>\n",
       "      <td>12.9</td>\n",
       "    </tr>\n",
       "    <tr>\n",
       "      <th>...</th>\n",
       "      <td>...</td>\n",
       "      <td>...</td>\n",
       "    </tr>\n",
       "    <tr>\n",
       "      <th>217</th>\n",
       "      <td>204009</td>\n",
       "      <td>2.0</td>\n",
       "    </tr>\n",
       "    <tr>\n",
       "      <th>218</th>\n",
       "      <td>204315</td>\n",
       "      <td>1.1</td>\n",
       "    </tr>\n",
       "    <tr>\n",
       "      <th>219</th>\n",
       "      <td>207743</td>\n",
       "      <td>2.7</td>\n",
       "    </tr>\n",
       "    <tr>\n",
       "      <th>220</th>\n",
       "      <td>208783</td>\n",
       "      <td>0.7</td>\n",
       "    </tr>\n",
       "    <tr>\n",
       "      <th>221</th>\n",
       "      <td>208781</td>\n",
       "      <td>1.2</td>\n",
       "    </tr>\n",
       "  </tbody>\n",
       "</table>\n",
       "<p>222 rows × 2 columns</p>\n",
       "</div>"
      ],
      "text/plain": [
       "     sensor_index  pm10.0\n",
       "0              77    18.5\n",
       "1             443     7.8\n",
       "2             525     0.0\n",
       "3             984     1.0\n",
       "4             992    12.9\n",
       "..            ...     ...\n",
       "217        204009     2.0\n",
       "218        204315     1.1\n",
       "219        207743     2.7\n",
       "220        208783     0.7\n",
       "221        208781     1.2\n",
       "\n",
       "[222 rows x 2 columns]"
      ]
     },
     "execution_count": 32,
     "metadata": {},
     "output_type": "execute_result"
    }
   ],
   "source": [
    "#z = pull_current_outdoor_purpleair_sensor_data([\"pm10.0\"])\n",
    "z"
   ]
  },
  {
   "cell_type": "code",
   "execution_count": 34,
   "id": "68e84d61-10c9-4034-a18b-5c0770aac309",
   "metadata": {},
   "outputs": [
    {
     "data": {
      "text/plain": [
       "666"
      ]
     },
     "execution_count": 34,
     "metadata": {},
     "output_type": "execute_result"
    }
   ],
   "source": [
    "762470 - 761804"
   ]
  },
  {
   "cell_type": "code",
   "execution_count": null,
   "id": "3cc287ee-14cb-4ff0-a627-97657dbe4367",
   "metadata": {},
   "outputs": [],
   "source": []
  },
  {
   "cell_type": "code",
   "execution_count": null,
   "id": "c50326d9-0b93-4001-8f01-c58757f2c709",
   "metadata": {},
   "outputs": [],
   "source": []
  },
  {
   "cell_type": "code",
   "execution_count": null,
   "id": "2d695968-2e9b-4910-96d6-6e6dac6f9edc",
   "metadata": {},
   "outputs": [],
   "source": []
  },
  {
   "cell_type": "code",
   "execution_count": null,
   "id": "4e7e5915-cd3e-4f9b-85ba-48022e2a7c82",
   "metadata": {},
   "outputs": [],
   "source": []
  },
  {
   "cell_type": "code",
   "execution_count": null,
   "id": "1c7de201-4c81-4cb4-96be-0fcc591e419f",
   "metadata": {},
   "outputs": [],
   "source": []
  }
 ],
 "metadata": {
  "kernelspec": {
   "display_name": "Python 3 (ipykernel)",
   "language": "python",
   "name": "python3"
  },
  "language_info": {
   "codemirror_mode": {
    "name": "ipython",
    "version": 3
   },
   "file_extension": ".py",
   "mimetype": "text/x-python",
   "name": "python",
   "nbconvert_exporter": "python",
   "pygments_lexer": "ipython3",
   "version": "3.9.16"
  }
 },
 "nbformat": 4,
 "nbformat_minor": 5
}
