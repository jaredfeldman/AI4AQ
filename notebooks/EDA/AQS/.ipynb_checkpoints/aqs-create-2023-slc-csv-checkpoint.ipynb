{
 "cells": [
  {
   "cell_type": "code",
   "execution_count": 1,
   "id": "9eafc5ae-5685-4cd5-a5b4-cf9e97f43f94",
   "metadata": {},
   "outputs": [],
   "source": [
    "import os \n",
    "import requests\n",
    "from bs4 import BeautifulSoup\n",
    "import json\n",
    "\n",
    "import pandas as pd\n",
    "import numpy as np\n",
    "import matplotlib.pyplot as plt"
   ]
  },
  {
   "cell_type": "code",
   "execution_count": 2,
   "id": "c0c75522-654c-4b1b-b43e-dfab5c5dc1cc",
   "metadata": {},
   "outputs": [],
   "source": [
    "aqs_email = \"jared.alex.feldman@gmail.com\"\n",
    "aqs_pw = \"boleswift49\""
   ]
  },
  {
   "cell_type": "code",
   "execution_count": 3,
   "id": "6a060ae0-02db-44c1-ae8b-3b992ea881af",
   "metadata": {},
   "outputs": [],
   "source": [
    "# function to pull data by county\n",
    "\n",
    "def aqs_by_county(state_id, county_id, bdate_, edate_, param_, aqs_email, aqs_pw):\n",
    "    \"\"\"\n",
    "    Fetches data from the Air Quality System (AQS) API for a specified county.\n",
    "\n",
    "    Parameters:\n",
    "    - state_id (str): 2 digit state FIPS code for the state (with leading zero)\n",
    "    - county_id (str): 3 digit state FIPS code for the county within the state (with leading zeroes)\n",
    "    - bdate_ (str): The beginning date in the format 'YYYYMMDD'\n",
    "    - edate_ (str): The ending date in the format 'YYYYMMDD'\n",
    "    - param_ (str): The AQS parameter code for the data selection. AQS uses proprietary 5 digit codes. They may be obtained via the list parameters service.\n",
    "    - aqs_email (str): The email associated with the AQS API key\n",
    "    - aqs_pw (str): The AQS API key\n",
    "\n",
    "    Returns:\n",
    "    dict: A dictionary containing the API response.\n",
    "    \"\"\"\n",
    "\n",
    "    url = \"https://aqs.epa.gov/data/api/sampleData/byCounty\"\n",
    "\n",
    "    params = {\n",
    "        \"email\": aqs_email,\n",
    "        \"key\": aqs_pw,\n",
    "        \"state\": state_id,\n",
    "        \"county\": county_id,\n",
    "        \"bdate\": bdate_,\n",
    "        \"edate\": edate_,\n",
    "        \"param\": param_\n",
    "    }\n",
    "\n",
    "    response = requests.get(url, params=params)\n",
    "\n",
    "    data = response.json()\n",
    "\n",
    "    return data"
   ]
  },
  {
   "cell_type": "code",
   "execution_count": 4,
   "id": "07be9b10-a22a-4d6f-b37e-bdb8be397d23",
   "metadata": {},
   "outputs": [],
   "source": [
    "# Store variables for function call by county. The 10 counties are:\n",
    "# Box Elder, Cache, Rich, Weber, Morgan, Davis, Summit, Salt Lake, Tooele, Wasatch, Utah\n",
    "# Codes obtained from here: https://www.census.gov/library/reference/code-lists/ansi.html\n",
    "\n",
    "box_elder_id = \"003\"\n",
    "cache_id = \"005\"\n",
    "rich_id = \"033\"\n",
    "weber_id = \"057\"\n",
    "morgan_id = \"029\"\n",
    "davis_id = \"011\"\n",
    "summit_id = \"043\"\n",
    "salt_lake_id = \"035\"\n",
    "tooele_id = \"045\"\n",
    "wasatch_id = \"051\"\n",
    "utah_county_id = \"049\"\n",
    "\n",
    "utah_state_id = \"49\"\n",
    "utah_county_ids = [box_elder_id, cache_id, rich_id, weber_id, morgan_id,\n",
    "                   davis_id, summit_id, salt_lake_id, tooele_id,\n",
    "                   wasatch_id, utah_county_id]\n",
    "beginning_date = \"20230101\"\n",
    "end_date = \"20231231\"\n",
    "param = \"88101\""
   ]
  },
  {
   "cell_type": "code",
   "execution_count": 5,
   "id": "1ebe0f1e-4b3f-4962-a3f1-803da9cab270",
   "metadata": {},
   "outputs": [],
   "source": [
    "# loop through all counties in SLC-area and combine their 2023\n",
    "# data into one dataframe\n",
    "\n",
    "# create temporary df\n",
    "county_data_list_dfs =[]\n",
    "\n",
    "# loop through each SLC county\n",
    "for county_id in utah_county_ids:\n",
    "    # make the API call for each county\n",
    "    county_data = aqs_by_county(utah_state_id, county_id, beginning_date, end_date, param, aqs_email, aqs_pw)\n",
    "\n",
    "    # store the data in a dataframe\n",
    "    df_temp = pd.DataFrame(county_data[\"Data\"])\n",
    "    \n",
    "    # append the dataframe to a list\n",
    "    county_data_list_dfs.append(df_temp)\n",
    "\n",
    "all_slc_counties_2023 = pd.concat(county_data_list_dfs, ignore_index=True)"
   ]
  },
  {
   "cell_type": "code",
   "execution_count": 6,
   "id": "de157100-989a-47a4-a433-ecdf58d9a5a3",
   "metadata": {},
   "outputs": [],
   "source": [
    "all_slc_counties_2023.to_csv(\"aqs-all-slc-counties-2023.csv\")"
   ]
  }
 ],
 "metadata": {
  "kernelspec": {
   "display_name": "Python 3 (ipykernel)",
   "language": "python",
   "name": "python3"
  },
  "language_info": {
   "codemirror_mode": {
    "name": "ipython",
    "version": 3
   },
   "file_extension": ".py",
   "mimetype": "text/x-python",
   "name": "python",
   "nbconvert_exporter": "python",
   "pygments_lexer": "ipython3",
   "version": "3.9.16"
  }
 },
 "nbformat": 4,
 "nbformat_minor": 5
}
