{
 "cells": [
  {
   "cell_type": "code",
   "execution_count": 0,
   "metadata": {
    "application/vnd.databricks.v1+cell": {
     "cellMetadata": {
      "byteLimit": 2048000,
      "rowLimit": 10000
     },
     "inputWidgets": {},
     "nuid": "f5a02e14-887a-450c-a4b6-4b6d7b067da6",
     "showTitle": true,
     "title": ""
    }
   },
   "outputs": [],
   "source": [
    "from pyspark.sql.functions import col, asc, regexp_replace, collect_set,size,array,array_except,lit,array_union,array_distinct,array_remove, concat_ws\n",
    "from pyspark.sql.types import StructType, StructField, StringType, ArrayType, DoubleType,IntegerType, BooleanType\n",
    "from pyspark import StorageLevel\n",
    "import json\n",
    "from pyspark.ml.fpm import FPGrowth\n"
   ]
  },
  {
   "cell_type": "code",
   "execution_count": 0,
   "metadata": {
    "application/vnd.databricks.v1+cell": {
     "cellMetadata": {
      "byteLimit": 2048000,
      "rowLimit": 10000
     },
     "inputWidgets": {},
     "nuid": "9936fdf3-a5e7-4164-a17b-bea1e9cf39b5",
     "showTitle": false,
     "title": ""
    }
   },
   "outputs": [],
   "source": [
    "outpatient = spark.read.parquet(\"abfss://cms@datasciencecms.dfs.core.windows.net/sample_2016_2022_repartition/outpatient_by_provider\")\n"
   ]
  },
  {
   "cell_type": "code",
   "execution_count": 0,
   "metadata": {
    "application/vnd.databricks.v1+cell": {
     "cellMetadata": {
      "byteLimit": 2048000,
      "rowLimit": 10000
     },
     "inputWidgets": {},
     "nuid": "eb5ce013-1895-4100-9fcb-f52d62ca3281",
     "showTitle": false,
     "title": ""
    }
   },
   "outputs": [],
   "source": [
    "inpatient = spark.read.parquet(\"abfss://cms@datasciencecms.dfs.core.windows.net/sample_2016_2022_repartition/inpatient_by_provider\")\n"
   ]
  },
  {
   "cell_type": "code",
   "execution_count": 0,
   "metadata": {
    "application/vnd.databricks.v1+cell": {
     "cellMetadata": {
      "byteLimit": 2048000,
      "rowLimit": 10000
     },
     "inputWidgets": {},
     "nuid": "45904fba-8b80-4f9a-a1f3-6142e298ba67",
     "showTitle": false,
     "title": ""
    }
   },
   "outputs": [],
   "source": [
    "outpatient.createOrReplaceTempView(\"outpatient\")\n",
    "inpatient.createOrReplaceTempView(\"inpatient\")\n"
   ]
  },
  {
   "cell_type": "code",
   "execution_count": 0,
   "metadata": {
    "application/vnd.databricks.v1+cell": {
     "cellMetadata": {
      "byteLimit": 2048000,
      "rowLimit": 10000
     },
     "inputWidgets": {},
     "nuid": "cba96f90-5d9a-427e-98fc-bbdcd11e61af",
     "showTitle": false,
     "title": ""
    }
   },
   "outputs": [
    {
     "data": {
      "text/plain": [
       "['desy_sort_key_claim',\n",
       " 'claim_no_claim',\n",
       " 'PRVDR_NUM',\n",
       " 'clm_thru_dt_claim',\n",
       " 'NCH_NEAR_LINE_REC_IDENT_CD',\n",
       " 'nch_clm_type_cd_claim',\n",
       " 'CLAIM_QUERY_CODE',\n",
       " 'CLM_FAC_TYPE_CD',\n",
       " 'CLM_SRVC_CLSFCTN_TYPE_CD',\n",
       " 'CLM_FREQ_CD',\n",
       " 'FI_NUM',\n",
       " 'CLM_MDCR_NON_PMT_RSN_CD',\n",
       " 'CLM_PMT_AMT',\n",
       " 'NCH_PRMRY_PYR_CLM_PD_AMT',\n",
       " 'NCH_PRMRY_PYR_CD',\n",
       " 'PRVDR_STATE_CD',\n",
       " 'ORG_NPI_NUM',\n",
       " 'SRVC_LOC_NPI_NUM',\n",
       " 'AT_PHYSN_UPIN',\n",
       " 'AT_PHYSN_NPI',\n",
       " 'AT_PHYSN_SPCLTY_CD',\n",
       " 'OP_PHYSN_UPIN',\n",
       " 'OP_PHYSN_NPI',\n",
       " 'OP_PHYSN_SPCLTY_CD',\n",
       " 'OT_PHYSN_UPIN',\n",
       " 'OT_PHYSN_NPI',\n",
       " 'OT_PHYSN_SPCLTY_CD',\n",
       " 'RNDRNG_PHYSN_NPI',\n",
       " 'RNDRNG_PHYSN_SPCLTY_CD',\n",
       " 'RFR_PHYSN_NPI',\n",
       " 'RFR_PHYSN_SPCLTY_CD',\n",
       " 'CLM_MCO_PD_SW',\n",
       " 'PTNT_DSCHRG_STUS_CD',\n",
       " 'CLM_TOT_CHRG_AMT',\n",
       " 'NCH_BENE_BLOOD_DDCTBL_LBLTY_AM',\n",
       " 'NCH_PROFNL_CMPNT_CHRG_AMT',\n",
       " 'PRNCPAL_DGNS_CD',\n",
       " 'ICD_DGNS_CD1',\n",
       " 'ICD_DGNS_CD2',\n",
       " 'ICD_DGNS_CD3',\n",
       " 'ICD_DGNS_CD4',\n",
       " 'ICD_DGNS_CD5',\n",
       " 'ICD_DGNS_CD6',\n",
       " 'ICD_DGNS_CD7',\n",
       " 'ICD_DGNS_CD8',\n",
       " 'ICD_DGNS_CD9',\n",
       " 'ICD_DGNS_CD10',\n",
       " 'ICD_DGNS_CD11',\n",
       " 'ICD_DGNS_CD12',\n",
       " 'ICD_DGNS_CD13',\n",
       " 'ICD_DGNS_CD14',\n",
       " 'ICD_DGNS_CD15',\n",
       " 'ICD_DGNS_CD16',\n",
       " 'ICD_DGNS_CD17',\n",
       " 'ICD_DGNS_CD18',\n",
       " 'ICD_DGNS_CD19',\n",
       " 'ICD_DGNS_CD20',\n",
       " 'ICD_DGNS_CD21',\n",
       " 'ICD_DGNS_CD22',\n",
       " 'ICD_DGNS_CD23',\n",
       " 'ICD_DGNS_CD24',\n",
       " 'ICD_DGNS_CD25',\n",
       " 'FST_DGNS_E_CD',\n",
       " 'ICD_DGNS_E_CD1',\n",
       " 'ICD_DGNS_E_CD2',\n",
       " 'ICD_DGNS_E_CD3',\n",
       " 'ICD_DGNS_E_CD4',\n",
       " 'ICD_DGNS_E_CD5',\n",
       " 'ICD_DGNS_E_CD6',\n",
       " 'ICD_DGNS_E_CD7',\n",
       " 'ICD_DGNS_E_CD8',\n",
       " 'ICD_DGNS_E_CD9',\n",
       " 'ICD_DGNS_E_CD10',\n",
       " 'ICD_DGNS_E_CD11',\n",
       " 'ICD_DGNS_E_CD12',\n",
       " 'ICD_PRCDR_CD1',\n",
       " 'PRCDR_DT1',\n",
       " 'ICD_PRCDR_CD2',\n",
       " 'PRCDR_DT2',\n",
       " 'ICD_PRCDR_CD3',\n",
       " 'PRCDR_DT3',\n",
       " 'ICD_PRCDR_CD4',\n",
       " 'PRCDR_DT4',\n",
       " 'ICD_PRCDR_CD5',\n",
       " 'PRCDR_DT5',\n",
       " 'ICD_PRCDR_CD6',\n",
       " 'PRCDR_DT6',\n",
       " 'ICD_PRCDR_CD7',\n",
       " 'PRCDR_DT7',\n",
       " 'ICD_PRCDR_CD8',\n",
       " 'PRCDR_DT8',\n",
       " 'ICD_PRCDR_CD9',\n",
       " 'PRCDR_DT9',\n",
       " 'ICD_PRCDR_CD10',\n",
       " 'PRCDR_DT10',\n",
       " 'ICD_PRCDR_CD11',\n",
       " 'PRCDR_DT11',\n",
       " 'ICD_PRCDR_CD12',\n",
       " 'PRCDR_DT12',\n",
       " 'ICD_PRCDR_CD13',\n",
       " 'PRCDR_DT13',\n",
       " 'ICD_PRCDR_CD14',\n",
       " 'PRCDR_DT14',\n",
       " 'ICD_PRCDR_CD15',\n",
       " 'PRCDR_DT15',\n",
       " 'ICD_PRCDR_CD16',\n",
       " 'PRCDR_DT16',\n",
       " 'ICD_PRCDR_CD17',\n",
       " 'PRCDR_DT17',\n",
       " 'ICD_PRCDR_CD18',\n",
       " 'PRCDR_DT18',\n",
       " 'ICD_PRCDR_CD19',\n",
       " 'PRCDR_DT19',\n",
       " 'ICD_PRCDR_CD20',\n",
       " 'PRCDR_DT20',\n",
       " 'ICD_PRCDR_CD21',\n",
       " 'PRCDR_DT21',\n",
       " 'ICD_PRCDR_CD22',\n",
       " 'PRCDR_DT22',\n",
       " 'ICD_PRCDR_CD23',\n",
       " 'PRCDR_DT23',\n",
       " 'ICD_PRCDR_CD24',\n",
       " 'PRCDR_DT24',\n",
       " 'ICD_PRCDR_CD25',\n",
       " 'PRCDR_DT25',\n",
       " 'RSN_VISIT_CD1',\n",
       " 'RSN_VISIT_CD2',\n",
       " 'RSN_VISIT_CD3',\n",
       " 'NCH_BENE_PTB_DDCTBL_AMT',\n",
       " 'NCH_BENE_PTB_COINSRNC_AMT',\n",
       " 'CLM_OP_PRVDR_PMT_AMT',\n",
       " 'CLM_OP_BENE_PMT_AMT',\n",
       " 'DOB_DT',\n",
       " 'GNDR_CD',\n",
       " 'BENE_RACE_CD',\n",
       " 'BENE_CNTY_CD',\n",
       " 'BENE_STATE_CD',\n",
       " 'CWF_BENE_MDCR_STUS_CD',\n",
       " 'FI_CLM_ACTN_CD',\n",
       " 'NCH_BLOOD_PNTS_FRNSHD_QTY',\n",
       " 'CLM_TRTMT_AUTHRZTN_NUM',\n",
       " 'CLM_PRCR_RTRN_CD',\n",
       " 'CLM_OP_TRANS_TYPE_CD',\n",
       " 'CLM_OP_ESRD_MTHD_CD',\n",
       " 'CLM_NEXT_GNRTN_ACO_IND_CD1',\n",
       " 'CLM_NEXT_GNRTN_ACO_IND_CD2',\n",
       " 'CLM_NEXT_GNRTN_ACO_IND_CD3',\n",
       " 'CLM_NEXT_GNRTN_ACO_IND_CD4',\n",
       " 'CLM_NEXT_GNRTN_ACO_IND_CD5',\n",
       " 'ACO_ID_NUM',\n",
       " 'DESY_SORT_KEY',\n",
       " 'CLAIM_NO',\n",
       " 'CLM_LINE_NUM',\n",
       " 'CLM_THRU_DT',\n",
       " 'NCH_CLM_TYPE_CD',\n",
       " 'REV_CNTR',\n",
       " 'REV_CNTR_DT',\n",
       " 'REV_CNTR_APC_HIPPS_CD',\n",
       " 'HCPCS_CD',\n",
       " 'HCPCS_1ST_MDFR_CD',\n",
       " 'HCPCS_2ND_MDFR_CD',\n",
       " 'HCPCS_3RD_MDFR_CD',\n",
       " 'HCPCS_4TH_MDFR_CD',\n",
       " 'REV_CNTR_PMT_MTHD_IND_CD',\n",
       " 'REV_CNTR_DSCNT_IND_CD',\n",
       " 'REV_CNTR_PACKG_IND_CD',\n",
       " 'REV_CNTR_OTAF_PMT_CD',\n",
       " 'REV_CNTR_IDE_NDC_UPC_NUM',\n",
       " 'REV_CNTR_UNIT_CNT',\n",
       " 'REV_CNTR_RATE_AMT',\n",
       " 'REV_CNTR_BLOOD_DDCTBL_AMT',\n",
       " 'REV_CNTR_CASH_DDCTBL_AMT',\n",
       " 'REV_CNTR_COINSRNC_WGE_ADJSTD_C',\n",
       " 'REV_CNTR_RDCD_COINSRNC_AMT',\n",
       " 'REV_CNTR_1ST_MSP_PD_AMT',\n",
       " 'REV_CNTR_2ND_MSP_PD_AMT',\n",
       " 'REV_CNTR_PRVDR_PMT_AMT',\n",
       " 'REV_CNTR_BENE_PMT_AMT',\n",
       " 'REV_CNTR_PTNT_RSPNSBLTY_PMT',\n",
       " 'REV_CNTR_PMT_AMT_AMT',\n",
       " 'REV_CNTR_TOT_CHRG_AMT',\n",
       " 'REV_CNTR_NCVRD_CHRG_AMT',\n",
       " 'REV_CNTR_STUS_IND_CD',\n",
       " 'REV_CNTR_PRICNG_IND_CD',\n",
       " 'REV_CNTR_RNDRNG_PHYSN_UPIN',\n",
       " 'REV_CNTR_RNDRNG_PHYSN_NPI',\n",
       " 'REV_CNTR_RNDRNG_PHYSN_SPCLTY_CD',\n",
       " 'REV_CNTR_DDCTBL_COINSRNC_CD',\n",
       " 'THRPY_CAP_IND_CD1',\n",
       " 'THRPY_CAP_IND_CD2',\n",
       " 'RC_PTNT_ADD_ON_PYMT_AMT',\n",
       " 'PRVDR_NUM_']"
      ]
     },
     "execution_count": 19,
     "metadata": {},
     "output_type": "execute_result"
    }
   ],
   "source": [
    "outpatient.columns"
   ]
  },
  {
   "cell_type": "code",
   "execution_count": 0,
   "metadata": {
    "application/vnd.databricks.v1+cell": {
     "cellMetadata": {
      "byteLimit": 2048000,
      "rowLimit": 10000
     },
     "inputWidgets": {},
     "nuid": "b26876f1-4f79-425f-af10-2f2a46e1ca81",
     "showTitle": false,
     "title": ""
    }
   },
   "outputs": [
    {
     "data": {
      "text/plain": [
       "['desy_sort_key_claim',\n",
       " 'claim_no_claim',\n",
       " 'PRVDR_NUM',\n",
       " 'clm_thru_dt_claim',\n",
       " 'NCH_NEAR_LINE_REC_IDENT_CD',\n",
       " 'nch_clm_type_cd_claim',\n",
       " 'CLAIM_QUERY_CODE',\n",
       " 'CLM_FAC_TYPE_CD',\n",
       " 'CLM_SRVC_CLSFCTN_TYPE_CD',\n",
       " 'CLM_FREQ_CD',\n",
       " 'FI_NUM',\n",
       " 'CLM_MDCR_NON_PMT_RSN_CD',\n",
       " 'CLM_PMT_AMT',\n",
       " 'NCH_PRMRY_PYR_CLM_PD_AMT',\n",
       " 'NCH_PRMRY_PYR_CD',\n",
       " 'FI_CLM_ACTN_CD',\n",
       " 'PRVDR_STATE_CD',\n",
       " 'ORG_NPI_NUM',\n",
       " 'AT_PHYSN_UPIN',\n",
       " 'AT_PHYSN_NPI',\n",
       " 'AT_PHYSN_SPCLTY_CD',\n",
       " 'OP_PHYSN_UPIN',\n",
       " 'OP_PHYSN_NPI',\n",
       " 'OP_PHYSN_SPCLTY_CD',\n",
       " 'OT_PHYSN_UPIN',\n",
       " 'OT_PHYSN_NPI',\n",
       " 'OT_PHYSN_SPCLTY_CD',\n",
       " 'RNDRNG_PHYSN_NPI',\n",
       " 'RNDRNG_PHYSN_SPCLTY_CD',\n",
       " 'CLM_MCO_PD_SW',\n",
       " 'PTNT_DSCHRG_STUS_CD',\n",
       " 'CLM_PPS_IND_CD',\n",
       " 'CLM_TOT_CHRG_AMT',\n",
       " 'CLM_ADMSN_DT',\n",
       " 'CLM_IP_ADMSN_TYPE_CD',\n",
       " 'CLM_SRC_IP_ADMSN_CD',\n",
       " 'NCH_PTNT_STATUS_IND_CD',\n",
       " 'CLM_PASS_THRU_PER_DIEM_AMT',\n",
       " 'NCH_BENE_IP_DDCTBL_AMT',\n",
       " 'NCH_BENE_PTA_COINSRNC_LBLTY_AM',\n",
       " 'NCH_BENE_BLOOD_DDCTBL_LBLTY_AM',\n",
       " 'NCH_PROFNL_CMPNT_CHRG_AMT',\n",
       " 'NCH_IP_NCVRD_CHRG_AMT',\n",
       " 'CLM_TOT_PPS_CPTL_AMT',\n",
       " 'CLM_PPS_CPTL_FSP_AMT',\n",
       " 'CLM_PPS_CPTL_OUTLIER_AMT',\n",
       " 'CLM_PPS_CPTL_DSPRPRTNT_SHR_AMT',\n",
       " 'CLM_PPS_CPTL_IME_AMT',\n",
       " 'CLM_PPS_CPTL_EXCPTN_AMT',\n",
       " 'CLM_PPS_OLD_CPTL_HLD_HRMLS_AMT',\n",
       " 'CLM_PPS_CPTL_DRG_WT_NUM',\n",
       " 'CLM_UTLZTN_DAY_CNT',\n",
       " 'BENE_TOT_COINSRNC_DAYS_CNT',\n",
       " 'BENE_LRD_USED_CNT',\n",
       " 'CLM_NON_UTLZTN_DAYS_CNT',\n",
       " 'NCH_BLOOD_PNTS_FRNSHD_QTY',\n",
       " 'NCH_VRFD_NCVRD_STAY_FROM_DT',\n",
       " 'NCH_VRFD_NCVRD_STAY_THRU_DT',\n",
       " 'NCH_BENE_MDCR_BNFTS_EXHTD_DT_I',\n",
       " 'NCH_BENE_DSCHRG_DT',\n",
       " 'CLM_DRG_CD',\n",
       " 'CLM_DRG_OUTLIER_STAY_CD',\n",
       " 'NCH_DRG_OUTLIER_APRVD_PMT_AMT',\n",
       " 'ADMTG_DGNS_CD',\n",
       " 'PRNCPAL_DGNS_CD',\n",
       " 'ICD_DGNS_CD1',\n",
       " 'CLM_POA_IND_SW1',\n",
       " 'ICD_DGNS_CD2',\n",
       " 'CLM_POA_IND_SW2',\n",
       " 'ICD_DGNS_CD3',\n",
       " 'CLM_POA_IND_SW3',\n",
       " 'ICD_DGNS_CD4',\n",
       " 'CLM_POA_IND_SW4',\n",
       " 'ICD_DGNS_CD5',\n",
       " 'CLM_POA_IND_SW5',\n",
       " 'ICD_DGNS_CD6',\n",
       " 'CLM_POA_IND_SW6',\n",
       " 'ICD_DGNS_CD7',\n",
       " 'CLM_POA_IND_SW7',\n",
       " 'ICD_DGNS_CD8',\n",
       " 'CLM_POA_IND_SW8',\n",
       " 'ICD_DGNS_CD9',\n",
       " 'CLM_POA_IND_SW9',\n",
       " 'ICD_DGNS_CD10',\n",
       " 'CLM_POA_IND_SW10',\n",
       " 'ICD_DGNS_CD11',\n",
       " 'CLM_POA_IND_SW11',\n",
       " 'ICD_DGNS_CD12',\n",
       " 'CLM_POA_IND_SW12',\n",
       " 'ICD_DGNS_CD13',\n",
       " 'CLM_POA_IND_SW13',\n",
       " 'ICD_DGNS_CD14',\n",
       " 'CLM_POA_IND_SW14',\n",
       " 'ICD_DGNS_CD15',\n",
       " 'CLM_POA_IND_SW15',\n",
       " 'ICD_DGNS_CD16',\n",
       " 'CLM_POA_IND_SW16',\n",
       " 'ICD_DGNS_CD17',\n",
       " 'CLM_POA_IND_SW17',\n",
       " 'ICD_DGNS_CD18',\n",
       " 'CLM_POA_IND_SW18',\n",
       " 'ICD_DGNS_CD19',\n",
       " 'CLM_POA_IND_SW19',\n",
       " 'ICD_DGNS_CD20',\n",
       " 'CLM_POA_IND_SW20',\n",
       " 'ICD_DGNS_CD21',\n",
       " 'CLM_POA_IND_SW21',\n",
       " 'ICD_DGNS_CD22',\n",
       " 'CLM_POA_IND_SW22',\n",
       " 'ICD_DGNS_CD23',\n",
       " 'CLM_POA_IND_SW23',\n",
       " 'ICD_DGNS_CD24',\n",
       " 'CLM_POA_IND_SW24',\n",
       " 'ICD_DGNS_CD25',\n",
       " 'CLM_POA_IND_SW25',\n",
       " 'FST_DGNS_E_CD',\n",
       " 'ICD_DGNS_E_CD1',\n",
       " 'CLM_E_POA_IND_SW1',\n",
       " 'ICD_DGNS_E_CD2',\n",
       " 'CLM_E_POA_IND_SW2',\n",
       " 'ICD_DGNS_E_CD3',\n",
       " 'CLM_E_POA_IND_SW3',\n",
       " 'ICD_DGNS_E_CD4',\n",
       " 'CLM_E_POA_IND_SW4',\n",
       " 'ICD_DGNS_E_CD5',\n",
       " 'CLM_E_POA_IND_SW5',\n",
       " 'ICD_DGNS_E_CD6',\n",
       " 'CLM_E_POA_IND_SW6',\n",
       " 'ICD_DGNS_E_CD7',\n",
       " 'CLM_E_POA_IND_SW7',\n",
       " 'ICD_DGNS_E_CD8',\n",
       " 'CLM_E_POA_IND_SW8',\n",
       " 'ICD_DGNS_E_CD9',\n",
       " 'CLM_E_POA_IND_SW9',\n",
       " 'ICD_DGNS_E_CD10',\n",
       " 'CLM_E_POA_IND_SW10',\n",
       " 'ICD_DGNS_E_CD11',\n",
       " 'CLM_E_POA_IND_SW11',\n",
       " 'ICD_DGNS_E_CD12',\n",
       " 'CLM_E_POA_IND_SW12',\n",
       " 'ICD_PRCDR_CD1',\n",
       " 'PRCDR_DT1',\n",
       " 'ICD_PRCDR_CD2',\n",
       " 'PRCDR_DT2',\n",
       " 'ICD_PRCDR_CD3',\n",
       " 'PRCDR_DT3',\n",
       " 'ICD_PRCDR_CD4',\n",
       " 'PRCDR_DT4',\n",
       " 'ICD_PRCDR_CD5',\n",
       " 'PRCDR_DT5',\n",
       " 'ICD_PRCDR_CD6',\n",
       " 'PRCDR_DT6',\n",
       " 'ICD_PRCDR_CD7',\n",
       " 'PRCDR_DT7',\n",
       " 'ICD_PRCDR_CD8',\n",
       " 'PRCDR_DT8',\n",
       " 'ICD_PRCDR_CD9',\n",
       " 'PRCDR_DT9',\n",
       " 'ICD_PRCDR_CD10',\n",
       " 'PRCDR_DT10',\n",
       " 'ICD_PRCDR_CD11',\n",
       " 'PRCDR_DT11',\n",
       " 'ICD_PRCDR_CD12',\n",
       " 'PRCDR_DT12',\n",
       " 'ICD_PRCDR_CD13',\n",
       " 'PRCDR_DT13',\n",
       " 'ICD_PRCDR_CD14',\n",
       " 'PRCDR_DT14',\n",
       " 'ICD_PRCDR_CD15',\n",
       " 'PRCDR_DT15',\n",
       " 'ICD_PRCDR_CD16',\n",
       " 'PRCDR_DT16',\n",
       " 'ICD_PRCDR_CD17',\n",
       " 'PRCDR_DT17',\n",
       " 'ICD_PRCDR_CD18',\n",
       " 'PRCDR_DT18',\n",
       " 'ICD_PRCDR_CD19',\n",
       " 'PRCDR_DT19',\n",
       " 'ICD_PRCDR_CD20',\n",
       " 'PRCDR_DT20',\n",
       " 'ICD_PRCDR_CD21',\n",
       " 'PRCDR_DT21',\n",
       " 'ICD_PRCDR_CD22',\n",
       " 'PRCDR_DT22',\n",
       " 'ICD_PRCDR_CD23',\n",
       " 'PRCDR_DT23',\n",
       " 'ICD_PRCDR_CD24',\n",
       " 'PRCDR_DT24',\n",
       " 'ICD_PRCDR_CD25',\n",
       " 'PRCDR_DT25',\n",
       " 'DOB_DT',\n",
       " 'GNDR_CD',\n",
       " 'BENE_RACE_CD',\n",
       " 'BENE_CNTY_CD',\n",
       " 'BENE_STATE_CD',\n",
       " 'CWF_BENE_MDCR_STUS_CD',\n",
       " 'CLM_TRTMT_AUTHRZTN_NUM',\n",
       " 'CLM_PRCR_RTRN_CD',\n",
       " 'CLM_IP_LOW_VOL_PMT_AMT',\n",
       " 'CLM_CARE_IMPRVMT_MODEL_CD1',\n",
       " 'CLM_CARE_IMPRVMT_MODEL_CD2',\n",
       " 'CLM_CARE_IMPRVMT_MODEL_CD3',\n",
       " 'CLM_CARE_IMPRVMT_MODEL_CD4',\n",
       " 'CLM_BNDLD_MODEL_1_DSCNT_PCT',\n",
       " 'CLM_BASE_OPRTG_DRG_AMT',\n",
       " 'CLM_VBP_PRTCPNT_IND_CD',\n",
       " 'CLM_VBP_ADJSTMT_PCT',\n",
       " 'CLM_HRR_PRTCPNT_IND_CD',\n",
       " 'CLM_HRR_ADJSTMT_PCT',\n",
       " 'CLM_MODEL_4_READMSN_IND_CD',\n",
       " 'CLM_UNCOMPD_CARE_PMT_AMT',\n",
       " 'CLM_BNDLD_ADJSTMT_PMT_AMT',\n",
       " 'CLM_VBP_ADJSTMT_PMT_AMT',\n",
       " 'CLM_HRR_ADJSTMT_PMT_AMT',\n",
       " 'EHR_PYMT_ADJSTMT_AMT',\n",
       " 'PPS_STD_VAL_PYMT_AMT',\n",
       " 'FINL_STD_AMT',\n",
       " 'HAC_PGM_RDCTN_IND_SW',\n",
       " 'EHR_PGM_RDCTN_IND_SW',\n",
       " 'CLM_SITE_NTRL_PYMT_CST_AMT',\n",
       " 'CLM_SITE_NTRL_PYMT_IPPS_AMT',\n",
       " 'CLM_FULL_STD_PYMT_AMT',\n",
       " 'CLM_SS_OUTLIER_STD_PYMT_AMT',\n",
       " 'CLM_NEXT_GNRTN_ACO_IND_CD1',\n",
       " 'CLM_NEXT_GNRTN_ACO_IND_CD2',\n",
       " 'CLM_NEXT_GNRTN_ACO_IND_CD3',\n",
       " 'CLM_NEXT_GNRTN_ACO_IND_CD4',\n",
       " 'CLM_NEXT_GNRTN_ACO_IND_CD5',\n",
       " 'ACO_ID_NUM',\n",
       " 'DESY_SORT_KEY',\n",
       " 'CLAIM_NO',\n",
       " 'CLM_LINE_NUM',\n",
       " 'CLM_THRU_DT',\n",
       " 'NCH_CLM_TYPE_CD',\n",
       " 'REV_CNTR',\n",
       " 'HCPCS_CD',\n",
       " 'HCPCS_1ST_MDFR_CD',\n",
       " 'HCPCS_2ND_MDFR_CD',\n",
       " 'HCPCS_3RD_MDFR_CD',\n",
       " 'REV_CNTR_UNIT_CNT',\n",
       " 'REV_CNTR_RATE_AMT',\n",
       " 'REV_CNTR_TOT_CHRG_AMT',\n",
       " 'REV_CNTR_NCVRD_CHRG_AMT',\n",
       " 'REV_CNTR_DDCTBL_COINSRNC_CD',\n",
       " 'REV_CNTR_APC_HIPPS_CD',\n",
       " 'REV_CNTR_RNDRNG_PHYSN_UPIN',\n",
       " 'REV_CNTR_RNDRNG_PHYSN_NPI',\n",
       " 'REV_CNTR_RNDRNG_PHYSN_SPCLTY_CD',\n",
       " 'REV_CNTR_IDE_NDC_UPC_NUM',\n",
       " 'REV_CNTR_PRCNG_IND_CD',\n",
       " 'THRPY_CAP_IND_CD1',\n",
       " 'THRPY_CAP_IND_CD2',\n",
       " 'PRVDR_NUM_']"
      ]
     },
     "execution_count": 20,
     "metadata": {},
     "output_type": "execute_result"
    }
   ],
   "source": [
    "inpatient.columns"
   ]
  },
  {
   "cell_type": "code",
   "execution_count": 0,
   "metadata": {
    "application/vnd.databricks.v1+cell": {
     "cellMetadata": {
      "byteLimit": 2048000,
      "rowLimit": 10000
     },
     "inputWidgets": {},
     "nuid": "76c156d7-1f28-46f6-98c4-9746e0b85612",
     "showTitle": false,
     "title": ""
    }
   },
   "outputs": [],
   "source": [
    "final_inpatient = spark.sql(\"select desy_sort_key, claim_no_claim,clm_thru_dt_claim,PRVDR_NUM,PRVDR_STATE_CD, explode(array_compact(array(PRNCPAL_DGNS_CD,ICD_DGNS_CD1,\\\n",
    " ICD_DGNS_CD2,\\\n",
    " ICD_DGNS_CD3,\\\n",
    " ICD_DGNS_CD4,\\\n",
    " ICD_DGNS_CD5,\\\n",
    " ICD_DGNS_CD6,\\\n",
    " ICD_DGNS_CD7,\\\n",
    " ICD_DGNS_CD8,\\\n",
    " ICD_DGNS_CD9,\\\n",
    " ICD_DGNS_CD10,\\\n",
    " ICD_DGNS_CD11,\\\n",
    " ICD_DGNS_CD12,\\\n",
    " ICD_DGNS_CD13,\\\n",
    " ICD_DGNS_CD14,\\\n",
    " ICD_DGNS_CD15,\\\n",
    " ICD_DGNS_CD16,\\\n",
    " ICD_DGNS_CD17,\\\n",
    " ICD_DGNS_CD18,\\\n",
    " ICD_DGNS_CD19,\\\n",
    " ICD_DGNS_CD20,\\\n",
    " ICD_DGNS_CD21,\\\n",
    " ICD_DGNS_CD22,\\\n",
    " ICD_DGNS_CD23,\\\n",
    " ICD_DGNS_CD24,\\\n",
    " ICD_DGNS_CD25))) as DIAGNOSIS from inpatient where PRVDR_STATE_CD='46'\")"
   ]
  },
  {
   "cell_type": "code",
   "execution_count": 0,
   "metadata": {
    "application/vnd.databricks.v1+cell": {
     "cellMetadata": {
      "byteLimit": 2048000,
      "rowLimit": 10000
     },
     "inputWidgets": {},
     "nuid": "1535b7dc-d9ea-4560-9955-1c0a11f1b5ae",
     "showTitle": false,
     "title": ""
    }
   },
   "outputs": [],
   "source": [
    "final_outpatient = spark.sql(\"select desy_sort_key,claim_no_claim,clm_thru_dt_claim,PRVDR_NUM,PRVDR_STATE_CD, explode(array_compact(array(PRNCPAL_DGNS_CD,ICD_DGNS_CD1,\\\n",
    " ICD_DGNS_CD2,\\\n",
    " ICD_DGNS_CD3,\\\n",
    " ICD_DGNS_CD4,\\\n",
    " ICD_DGNS_CD5,\\\n",
    " ICD_DGNS_CD6,\\\n",
    " ICD_DGNS_CD7,\\\n",
    " ICD_DGNS_CD8,\\\n",
    " ICD_DGNS_CD9,\\\n",
    " ICD_DGNS_CD10,\\\n",
    " ICD_DGNS_CD11,\\\n",
    " ICD_DGNS_CD12,\\\n",
    " ICD_DGNS_CD13,\\\n",
    " ICD_DGNS_CD14,\\\n",
    " ICD_DGNS_CD15,\\\n",
    " ICD_DGNS_CD16,\\\n",
    " ICD_DGNS_CD17,\\\n",
    " ICD_DGNS_CD18,\\\n",
    " ICD_DGNS_CD19,\\\n",
    " ICD_DGNS_CD20,\\\n",
    " ICD_DGNS_CD21,\\\n",
    " ICD_DGNS_CD22,\\\n",
    " ICD_DGNS_CD23,\\\n",
    " ICD_DGNS_CD24,\\\n",
    " ICD_DGNS_CD25))) as DIAGNOSIS from outpatient where PRVDR_STATE_CD='46'\")"
   ]
  },
  {
   "cell_type": "code",
   "execution_count": 0,
   "metadata": {
    "application/vnd.databricks.v1+cell": {
     "cellMetadata": {
      "byteLimit": 2048000,
      "rowLimit": 10000
     },
     "inputWidgets": {},
     "nuid": "464d8499-c8b2-44cf-869f-18bee86292ff",
     "showTitle": false,
     "title": ""
    }
   },
   "outputs": [],
   "source": [
    "final_total = final_outpatient.unionAll(final_inpatient)"
   ]
  },
  {
   "cell_type": "code",
   "execution_count": 0,
   "metadata": {
    "application/vnd.databricks.v1+cell": {
     "cellMetadata": {
      "byteLimit": 2048000,
      "rowLimit": 10000
     },
     "inputWidgets": {},
     "nuid": "40c1519a-5fc1-4869-8022-fc0d18de50ee",
     "showTitle": false,
     "title": ""
    }
   },
   "outputs": [],
   "source": [
    "final_total.createOrReplaceTempView(\"final_total\")\n"
   ]
  },
  {
   "cell_type": "code",
   "execution_count": 0,
   "metadata": {
    "application/vnd.databricks.v1+cell": {
     "cellMetadata": {
      "byteLimit": 2048000,
      "rowLimit": 10000
     },
     "inputWidgets": {},
     "nuid": "5e5fb7ae-7a44-4f85-97d2-140b08f290fa",
     "showTitle": false,
     "title": ""
    }
   },
   "outputs": [],
   "source": [
    "#Asthma                   ICD-10: J45\n",
    "#Acute Bronchitis.    ICD-10: J20\n",
    "#COPD                    ICD-10: J44\n",
    "#Dyspnea                ICD-10: R06\n",
    "#Emesis.                 ICD-10: R11\n",
    "#Coccidioidomycosis ICD-10: B38"
   ]
  },
  {
   "cell_type": "code",
   "execution_count": 0,
   "metadata": {
    "application/vnd.databricks.v1+cell": {
     "cellMetadata": {
      "byteLimit": 2048000,
      "rowLimit": 10000
     },
     "inputWidgets": {},
     "nuid": "17ab15a0-f595-4631-a0ff-9dfbfa018e82",
     "showTitle": false,
     "title": ""
    }
   },
   "outputs": [],
   "source": [
    "#r asthma (ICD-10: J45), acute bronchitis (ICD-10: J20), COPD (ICD-10: J44), and dyspnea (ICD-10: R06)"
   ]
  },
  {
   "cell_type": "code",
   "execution_count": 0,
   "metadata": {
    "application/vnd.databricks.v1+cell": {
     "cellMetadata": {
      "byteLimit": 2048000,
      "rowLimit": 10000
     },
     "inputWidgets": {},
     "nuid": "b3fa1cff-96fc-41fb-bd7a-3135ffc6d487",
     "showTitle": false,
     "title": ""
    }
   },
   "outputs": [],
   "source": [
    "def make_map(input):\n",
    "    if input.startswith(\"J45\"):\n",
    "        return \"Asmtha\"\n",
    "    if input.startswith(\"J20\"):\n",
    "        return \"COPD\"\n",
    "    if input.startswith(\"R06\"):\n",
    "        return \"Dyspnea\"\n",
    "    if input.startswith(\"R11\"):\n",
    "        return \"Emesis\"\n",
    "    if input.startswith(\"B38\"):\n",
    "        return \"Coccidioidomycosis\""
   ]
  },
  {
   "cell_type": "code",
   "execution_count": 0,
   "metadata": {
    "application/vnd.databricks.v1+cell": {
     "cellMetadata": {
      "byteLimit": 2048000,
      "rowLimit": 10000
     },
     "inputWidgets": {},
     "nuid": "b3ab3d96-8f20-4a5a-beea-e5b5e8572da0",
     "showTitle": false,
     "title": ""
    }
   },
   "outputs": [],
   "source": [
    "def make_map_group(input):\n",
    "    if input.startswith(\"J45\"):\n",
    "        return \"A_AB_COPD_DY\"\n",
    "    if input.startswith(\"J20\"):\n",
    "        return \"A_AB_COPD_DY\"\n",
    "    if input.startswith(\"J44\"):\n",
    "        return \"A_AB_COPD_DY\"\n",
    "    if input.startswith(\"R06\"):\n",
    "        return \"A_AB_COPD_DY\"\n",
    "    if input.startswith(\"R11\"):\n",
    "        return \"Emesis\"\n",
    "    if input.startswith(\"B38\"):\n",
    "        return \"Coccidioidomycosis\""
   ]
  },
  {
   "cell_type": "code",
   "execution_count": 0,
   "metadata": {
    "application/vnd.databricks.v1+cell": {
     "cellMetadata": {
      "byteLimit": 2048000,
      "rowLimit": 10000
     },
     "inputWidgets": {},
     "nuid": "131bb422-60cf-408d-9baa-226a47cf7e2a",
     "showTitle": false,
     "title": ""
    }
   },
   "outputs": [],
   "source": [
    "map_udf = udf(lambda x: make_map(x),StringType())\n",
    "map_group_udf = udf(lambda x: make_map_group(x),StringType())\n",
    "\n"
   ]
  },
  {
   "cell_type": "code",
   "execution_count": 0,
   "metadata": {
    "application/vnd.databricks.v1+cell": {
     "cellMetadata": {
      "byteLimit": 2048000,
      "rowLimit": 10000
     },
     "inputWidgets": {},
     "nuid": "2956cc8c-c032-4e63-8041-8668c412a3ea",
     "showTitle": false,
     "title": ""
    }
   },
   "outputs": [
    {
     "data": {
      "text/plain": [
       "['desy_sort_key',\n",
       " 'claim_no_claim',\n",
       " 'clm_thru_dt_claim',\n",
       " 'PRVDR_NUM',\n",
       " 'PRVDR_STATE_CD',\n",
       " 'DIAGNOSIS']"
      ]
     },
     "execution_count": 30,
     "metadata": {},
     "output_type": "execute_result"
    }
   ],
   "source": [
    "final_total.columns"
   ]
  },
  {
   "cell_type": "code",
   "execution_count": 0,
   "metadata": {
    "application/vnd.databricks.v1+cell": {
     "cellMetadata": {
      "byteLimit": 2048000,
      "rowLimit": 10000
     },
     "inputWidgets": {},
     "nuid": "17baa504-a230-40c9-b3e9-4face25d5215",
     "showTitle": false,
     "title": ""
    }
   },
   "outputs": [],
   "source": [
    "map_diagnosis_final = final_total.withColumn(\"mapped_diagnosis\",map_udf(\"DIAGNOSIS\")).withColumn(\"related_diagnosis\",map_group_udf(\"DIAGNOSIS\"))"
   ]
  },
  {
   "cell_type": "code",
   "execution_count": 0,
   "metadata": {
    "application/vnd.databricks.v1+cell": {
     "cellMetadata": {
      "byteLimit": 2048000,
      "rowLimit": 10000
     },
     "inputWidgets": {},
     "nuid": "96ff17f5-dada-4c58-aa10-dc18d3e86842",
     "showTitle": false,
     "title": ""
    }
   },
   "outputs": [],
   "source": [
    "map_diagnosis_final.createOrReplaceTempView(\"map_diagnosis_final\")\n"
   ]
  },
  {
   "cell_type": "code",
   "execution_count": 0,
   "metadata": {
    "application/vnd.databricks.v1+cell": {
     "cellMetadata": {
      "byteLimit": 2048000,
      "rowLimit": 10000
     },
     "inputWidgets": {},
     "nuid": "3f5ace99-6645-4686-b2b0-0458abdeb949",
     "showTitle": false,
     "title": ""
    }
   },
   "outputs": [],
   "source": [
    "counts_day_detail = spark.sql(\"select count( distinct desy_sort_key) as patient_count,mapped_diagnosis, year(to_date(clm_thru_dt_claim,'yyyyMMdd')) as claim_year, month(to_date(clm_thru_dt_claim,'yyyyMMdd')) as claim_month, day(to_date(clm_thru_dt_claim,'yyyyMMdd')) as claim_day,PRVDR_NUM,PRVDR_STATE_CD from  map_diagnosis_final where mapped_diagnosis is not null group by mapped_diagnosis,clm_thru_dt_claim, PRVDR_NUM,PRVDR_STATE_CD having patient_count>10 order by clm_thru_dt_claim asc  \")"
   ]
  },
  {
   "cell_type": "code",
   "execution_count": 0,
   "metadata": {
    "application/vnd.databricks.v1+cell": {
     "cellMetadata": {
      "byteLimit": 2048000,
      "rowLimit": 10000
     },
     "inputWidgets": {},
     "nuid": "fb8e99a4-ba3a-4701-8991-c4fa69cb808d",
     "showTitle": false,
     "title": ""
    }
   },
   "outputs": [
    {
     "data": {
      "text/plain": [
       "Row(patient_count=12, mapped_diagnosis='Emesis', claim_year=2017, claim_month=1, claim_day=9, PRVDR_NUM='460009', PRVDR_STATE_CD='46')"
      ]
     },
     "execution_count": 34,
     "metadata": {},
     "output_type": "execute_result"
    }
   ],
   "source": [
    "counts_day_detail.first()"
   ]
  },
  {
   "cell_type": "code",
   "execution_count": 0,
   "metadata": {
    "application/vnd.databricks.v1+cell": {
     "cellMetadata": {
      "byteLimit": 2048000,
      "rowLimit": 10000
     },
     "inputWidgets": {},
     "nuid": "bf976319-d33f-44c4-a76e-edeea8fa571f",
     "showTitle": false,
     "title": ""
    }
   },
   "outputs": [
    {
     "data": {
      "text/plain": [
       "1200"
      ]
     },
     "execution_count": 35,
     "metadata": {},
     "output_type": "execute_result"
    }
   ],
   "source": [
    "counts_day_detail.count()"
   ]
  },
  {
   "cell_type": "code",
   "execution_count": 0,
   "metadata": {
    "application/vnd.databricks.v1+cell": {
     "cellMetadata": {
      "byteLimit": 2048000,
      "rowLimit": 10000
     },
     "inputWidgets": {},
     "nuid": "f3fc7742-cc8b-415a-8a52-7a6ed8ff443b",
     "showTitle": false,
     "title": ""
    }
   },
   "outputs": [],
   "source": [
    "#counts_day_detail.repartition(1).write.option(\"header\", \"true\").csv(\"abfss://cms@datasciencecms.dfs.core.windows.net/capstone/counts_day_detail\")\n"
   ]
  },
  {
   "cell_type": "code",
   "execution_count": 0,
   "metadata": {
    "application/vnd.databricks.v1+cell": {
     "cellMetadata": {
      "byteLimit": 2048000,
      "rowLimit": 10000
     },
     "inputWidgets": {},
     "nuid": "58dd1ddf-1703-4fc1-a472-5828e95bff71",
     "showTitle": false,
     "title": ""
    }
   },
   "outputs": [],
   "source": [
    "counts_day_aggregate = spark.sql(\"select count( distinct desy_sort_key) as patient_count,related_diagnosis, year(to_date(clm_thru_dt_claim,'yyyyMMdd')) as claim_year, month(to_date(clm_thru_dt_claim,'yyyyMMdd')) as claim_month, day(to_date(clm_thru_dt_claim,'yyyyMMdd')) as claim_day,PRVDR_NUM,PRVDR_STATE_CD from  map_diagnosis_final where related_diagnosis is not null group by related_diagnosis,clm_thru_dt_claim, PRVDR_NUM,PRVDR_STATE_CD having patient_count>10 order by clm_thru_dt_claim asc  \")"
   ]
  },
  {
   "cell_type": "code",
   "execution_count": 0,
   "metadata": {
    "application/vnd.databricks.v1+cell": {
     "cellMetadata": {
      "byteLimit": 2048000,
      "rowLimit": 10000
     },
     "inputWidgets": {},
     "nuid": "1923bc36-9aa1-4df7-9adb-2db316263057",
     "showTitle": false,
     "title": ""
    }
   },
   "outputs": [],
   "source": [
    "#counts_day_aggregate.repartition(1).write.option(\"header\", \"true\").csv(\"abfss://cms@datasciencecms.dfs.core.windows.net/capstone/counts_day_aggregate\")\n"
   ]
  },
  {
   "cell_type": "code",
   "execution_count": 0,
   "metadata": {
    "application/vnd.databricks.v1+cell": {
     "cellMetadata": {
      "byteLimit": 2048000,
      "rowLimit": 10000
     },
     "inputWidgets": {},
     "nuid": "5dd6dfde-f1ea-42d2-ac41-06a13a66c213",
     "showTitle": false,
     "title": ""
    }
   },
   "outputs": [],
   "source": [
    "counts_week_detail = spark.sql(\"select count( distinct desy_sort_key) as patient_count,mapped_diagnosis,  extract(week FROM to_date(clm_thru_dt_claim,'yyyyMMdd')) as claim_week,PRVDR_NUM,PRVDR_STATE_CD from  map_diagnosis_final where mapped_diagnosis is not null group by mapped_diagnosis,claim_week, PRVDR_NUM,PRVDR_STATE_CD having patient_count>10 order by claim_week asc  \")"
   ]
  },
  {
   "cell_type": "code",
   "execution_count": 0,
   "metadata": {
    "application/vnd.databricks.v1+cell": {
     "cellMetadata": {
      "byteLimit": 2048000,
      "rowLimit": 10000
     },
     "inputWidgets": {},
     "nuid": "83466841-13eb-464e-8337-6f108a4bd4dd",
     "showTitle": false,
     "title": ""
    }
   },
   "outputs": [
    {
     "data": {
      "text/plain": [
       "Row(patient_count=17, mapped_diagnosis='Asmtha', claim_week=1, PRVDR_NUM='460013', PRVDR_STATE_CD='46')"
      ]
     },
     "execution_count": 40,
     "metadata": {},
     "output_type": "execute_result"
    }
   ],
   "source": [
    "counts_week_detail.first()"
   ]
  },
  {
   "cell_type": "code",
   "execution_count": 0,
   "metadata": {
    "application/vnd.databricks.v1+cell": {
     "cellMetadata": {
      "byteLimit": 2048000,
      "rowLimit": 10000
     },
     "inputWidgets": {},
     "nuid": "7bc85956-1c35-4d5b-91bb-fca5799b7fde",
     "showTitle": false,
     "title": ""
    }
   },
   "outputs": [
    {
     "data": {
      "text/plain": [
       "2207"
      ]
     },
     "execution_count": 41,
     "metadata": {},
     "output_type": "execute_result"
    }
   ],
   "source": [
    "counts_week_detail.count()"
   ]
  },
  {
   "cell_type": "code",
   "execution_count": 0,
   "metadata": {
    "application/vnd.databricks.v1+cell": {
     "cellMetadata": {
      "byteLimit": 2048000,
      "rowLimit": 10000
     },
     "inputWidgets": {},
     "nuid": "de4ec43b-0dd0-4145-ac5c-b6cfd4e00e0a",
     "showTitle": false,
     "title": ""
    }
   },
   "outputs": [],
   "source": [
    "#counts_week_detail.repartition(1).write.option(\"header\", \"true\").csv(\"abfss://cms@datasciencecms.dfs.core.windows.net/capstone/counts_week_detail\")\n"
   ]
  },
  {
   "cell_type": "code",
   "execution_count": 0,
   "metadata": {
    "application/vnd.databricks.v1+cell": {
     "cellMetadata": {
      "byteLimit": 2048000,
      "rowLimit": 10000
     },
     "inputWidgets": {},
     "nuid": "0306cbae-9495-4fd5-80c9-8915cc53dc77",
     "showTitle": false,
     "title": ""
    }
   },
   "outputs": [],
   "source": [
    "counts_week_aggregate= spark.sql(\"select count( distinct desy_sort_key) as patient_count,related_diagnosis,  extract(week FROM to_date(clm_thru_dt_claim,'yyyyMMdd')) as claim_week,PRVDR_NUM,PRVDR_STATE_CD from  map_diagnosis_final where mapped_diagnosis is not null group by related_diagnosis,claim_week, PRVDR_NUM,PRVDR_STATE_CD having patient_count>10 order by claim_week asc  \")"
   ]
  },
  {
   "cell_type": "code",
   "execution_count": 0,
   "metadata": {
    "application/vnd.databricks.v1+cell": {
     "cellMetadata": {
      "byteLimit": 2048000,
      "rowLimit": 10000
     },
     "inputWidgets": {},
     "nuid": "7efa0adb-3c8f-423c-ab82-6c1f177555a9",
     "showTitle": false,
     "title": ""
    }
   },
   "outputs": [
    {
     "data": {
      "text/plain": [
       "Row(patient_count=12, related_diagnosis='A_AB_COPD_DY', claim_week=1, PRVDR_NUM='461819', PRVDR_STATE_CD='46')"
      ]
     },
     "execution_count": 44,
     "metadata": {},
     "output_type": "execute_result"
    }
   ],
   "source": [
    "counts_week_aggregate.first()"
   ]
  },
  {
   "cell_type": "code",
   "execution_count": 0,
   "metadata": {
    "application/vnd.databricks.v1+cell": {
     "cellMetadata": {
      "byteLimit": 2048000,
      "rowLimit": 10000
     },
     "inputWidgets": {},
     "nuid": "60a48925-1bda-4889-8686-2ce591ef9c9a",
     "showTitle": false,
     "title": ""
    }
   },
   "outputs": [
    {
     "data": {
      "text/plain": [
       "1903"
      ]
     },
     "execution_count": 45,
     "metadata": {},
     "output_type": "execute_result"
    }
   ],
   "source": [
    "counts_week_aggregate.count()"
   ]
  },
  {
   "cell_type": "code",
   "execution_count": 0,
   "metadata": {
    "application/vnd.databricks.v1+cell": {
     "cellMetadata": {
      "byteLimit": 2048000,
      "rowLimit": 10000
     },
     "inputWidgets": {},
     "nuid": "59fb4a87-92b5-4065-9bb4-8ed78b93de7a",
     "showTitle": false,
     "title": ""
    }
   },
   "outputs": [],
   "source": [
    "counts_week_aggregate.repartition(1).write.option(\"header\", \"true\").csv(\"abfss://cms@datasciencecms.dfs.core.windows.net/capstone/counts_group_week_aggregate\")\n"
   ]
  },
  {
   "cell_type": "code",
   "execution_count": 0,
   "metadata": {
    "application/vnd.databricks.v1+cell": {
     "cellMetadata": {
      "byteLimit": 2048000,
      "rowLimit": 10000
     },
     "inputWidgets": {},
     "nuid": "f465f08a-6f8d-47f2-adee-f2032ce977c9",
     "showTitle": false,
     "title": ""
    }
   },
   "outputs": [
    {
     "data": {
      "text/plain": [
       "\u001b[0;36m  File \u001b[0;32m<command-369920238023872>, line 6\u001b[0;36m\u001b[0m\n",
       "\u001b[0;31m    if input.startswith(\"J44\")\u001b[0m\n",
       "\u001b[0m                              ^\u001b[0m\n",
       "\u001b[0;31mSyntaxError\u001b[0m\u001b[0;31m:\u001b[0m expected ':'\n"
      ]
     },
     "metadata": {
      "application/vnd.databricks.v1+output": {
       "addedWidgets": {},
       "arguments": {},
       "datasetInfos": [],
       "jupyterProps": {
        "ename": "SyntaxError",
        "evalue": "expected ':' (command-369920238023872-1744973950, line 6)"
       },
       "metadata": {
        "errorSummary": "Command skipped"
       },
       "removedWidgets": [],
       "sqlProps": null,
       "stackFrames": [
        "\u001b[0;36m  File \u001b[0;32m<command-369920238023872>, line 6\u001b[0;36m\u001b[0m\n\u001b[0;31m    if input.startswith(\"J44\")\u001b[0m\n\u001b[0m                              ^\u001b[0m\n\u001b[0;31mSyntaxError\u001b[0m\u001b[0;31m:\u001b[0m expected ':'\n"
       ],
       "type": "baseError"
      }
     },
     "output_type": "display_data"
    }
   ],
   "source": [
    "counts_month_detiail = spark.sql(\"select count( distinct desy_sort_key) as patient_count,mapped_diagnosis,  month(to_date(clm_thru_dt_claim,'yyyyMMdd')) as claim_month,PRVDR_NUM,PRVDR_STATE_CD from  map_diagnosis_final where mapped_diagnosis is not null group by mapped_diagnosis,claim_month, PRVDR_NUM,PRVDR_STATE_CD having patient_count>10 order by claim_month asc  \")"
   ]
  },
  {
   "cell_type": "code",
   "execution_count": 0,
   "metadata": {
    "application/vnd.databricks.v1+cell": {
     "cellMetadata": {
      "byteLimit": 2048000,
      "rowLimit": 10000
     },
     "inputWidgets": {},
     "nuid": "a4ef9e77-5feb-4875-b3db-fc148b1e5615",
     "showTitle": false,
     "title": ""
    }
   },
   "outputs": [
    {
     "data": {
      "text/plain": [
       "Row(patient_count=33, mapped_diagnosis='Dyspnea', claim_month=1, PRVDR_NUM='460058', PRVDR_STATE_CD='46')"
      ]
     },
     "execution_count": 106,
     "metadata": {},
     "output_type": "execute_result"
    }
   ],
   "source": [
    "counts_month_detiail.first()"
   ]
  },
  {
   "cell_type": "code",
   "execution_count": 0,
   "metadata": {
    "application/vnd.databricks.v1+cell": {
     "cellMetadata": {
      "byteLimit": 2048000,
      "rowLimit": 10000
     },
     "inputWidgets": {},
     "nuid": "e9695dac-e7c1-44ea-a1a3-90ad026baa2a",
     "showTitle": false,
     "title": ""
    }
   },
   "outputs": [
    {
     "data": {
      "text/plain": [
       "871"
      ]
     },
     "execution_count": 107,
     "metadata": {},
     "output_type": "execute_result"
    }
   ],
   "source": [
    "counts_month_detiail.count()"
   ]
  },
  {
   "cell_type": "code",
   "execution_count": 0,
   "metadata": {
    "application/vnd.databricks.v1+cell": {
     "cellMetadata": {
      "byteLimit": 2048000,
      "rowLimit": 10000
     },
     "inputWidgets": {},
     "nuid": "79f7ec41-0631-48a4-9027-ea229886dcb2",
     "showTitle": false,
     "title": ""
    }
   },
   "outputs": [],
   "source": [
    "#counts_month_detiail.repartition(1).write.option(\"header\", \"true\").csv(\"abfss://cms@datasciencecms.dfs.core.windows.net/capstone/counts_inpatient_month_detiail\")\n"
   ]
  },
  {
   "cell_type": "code",
   "execution_count": 0,
   "metadata": {
    "application/vnd.databricks.v1+cell": {
     "cellMetadata": {
      "byteLimit": 2048000,
      "rowLimit": 10000
     },
     "inputWidgets": {},
     "nuid": "9f1844cd-4669-4594-a6ae-97c34ce7f55c",
     "showTitle": false,
     "title": ""
    }
   },
   "outputs": [],
   "source": [
    "counts_month_aggregate = spark.sql(\"select count( distinct desy_sort_key) as patient_count,related_diagnosis,  month(to_date(clm_thru_dt_claim,'yyyyMMdd')) as claim_month,PRVDR_NUM,PRVDR_STATE_CD from  map_diagnosis_final where mapped_diagnosis is not null group by related_diagnosis,claim_month, PRVDR_NUM,PRVDR_STATE_CD having patient_count>10 order by claim_month asc  \")"
   ]
  },
  {
   "cell_type": "code",
   "execution_count": 0,
   "metadata": {
    "application/vnd.databricks.v1+cell": {
     "cellMetadata": {
      "byteLimit": 2048000,
      "rowLimit": 10000
     },
     "inputWidgets": {},
     "nuid": "cfca1b30-8f6d-4222-bcce-66356a636b21",
     "showTitle": false,
     "title": ""
    }
   },
   "outputs": [
    {
     "data": {
      "text/plain": [
       "Row(patient_count=14, related_diagnosis='AirQualityCondition', claim_month=1, PRVDR_NUM='460054', PRVDR_STATE_CD='46')"
      ]
     },
     "execution_count": 110,
     "metadata": {},
     "output_type": "execute_result"
    }
   ],
   "source": [
    "counts_month_aggregate.first()"
   ]
  },
  {
   "cell_type": "code",
   "execution_count": 0,
   "metadata": {
    "application/vnd.databricks.v1+cell": {
     "cellMetadata": {
      "byteLimit": 2048000,
      "rowLimit": 10000
     },
     "inputWidgets": {},
     "nuid": "4441ae78-6f51-43b4-ac96-5ef74e0ee8e0",
     "showTitle": false,
     "title": ""
    }
   },
   "outputs": [
    {
     "data": {
      "text/plain": [
       "560"
      ]
     },
     "execution_count": 111,
     "metadata": {},
     "output_type": "execute_result"
    }
   ],
   "source": [
    "counts_month_aggregate.count()"
   ]
  },
  {
   "cell_type": "code",
   "execution_count": 0,
   "metadata": {
    "application/vnd.databricks.v1+cell": {
     "cellMetadata": {
      "byteLimit": 2048000,
      "rowLimit": 10000
     },
     "inputWidgets": {},
     "nuid": "c19043c5-b318-4957-8dfd-3092be8cd837",
     "showTitle": false,
     "title": ""
    }
   },
   "outputs": [],
   "source": [
    "#counts_month_aggregate.repartition(1).write.option(\"header\", \"true\").csv(\"abfss://cms@datasciencecms.dfs.core.windows.net/capstone/counts_inpatient_month_aggregate\")\n"
   ]
  }
 ],
 "metadata": {
  "application/vnd.databricks.v1+notebook": {
   "dashboards": [],
   "language": "python",
   "notebookMetadata": {
    "pythonIndentUnit": 4
   },
   "notebookName": "Count Asthma Patient Sample",
   "widgets": {}
  },
  "kernelspec": {
   "display_name": "Python 3 (ipykernel)",
   "language": "python",
   "name": "python3"
  },
  "language_info": {
   "codemirror_mode": {
    "name": "ipython",
    "version": 3
   },
   "file_extension": ".py",
   "mimetype": "text/x-python",
   "name": "python",
   "nbconvert_exporter": "python",
   "pygments_lexer": "ipython3",
   "version": "3.10.8"
  }
 },
 "nbformat": 4,
 "nbformat_minor": 1
}
